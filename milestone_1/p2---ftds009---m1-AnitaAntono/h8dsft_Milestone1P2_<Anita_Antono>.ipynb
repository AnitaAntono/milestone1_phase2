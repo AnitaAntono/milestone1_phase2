{
 "cells": [
  {
   "cell_type": "markdown",
   "metadata": {},
   "source": [
    "### <strong>PHASE 2 - Milestone 1<strong>\n",
    "\n",
    "##### Milestones ini dibuat guna mengevaluasi pembelajaran pada Hacktiv8 Data Science Full Time Program Phase 2 khususnya pada Artificial Neural Network.\n",
    "\n",
    "---"
   ]
  },
  {
   "cell_type": "markdown",
   "metadata": {},
   "source": [
    "By [Anita Antono](https://github.com/AnitaAntono)\n",
    "\n",
    "\n",
    "<strong>Anita Antono<strong>\n",
    "\n",
    "<strong>Batch 009<strong>"
   ]
  },
  {
   "cell_type": "markdown",
   "metadata": {},
   "source": [
    "### <strong>Assignment Objectives<strong>\n",
    "\n",
    "---"
   ]
  },
  {
   "cell_type": "markdown",
   "metadata": {},
   "source": [
    "Milestones 1 ini dibuat guna mengevaluasi Pembelajaran Phase 2 :\n",
    "\n",
    "- Mampu memahami konsep Artificial Neural Network.\n",
    "- Mampu mempersiapkan data untuk digunakan dalam model Artificial Neural Network.\n",
    "- Mampu mengimplementasikan Artificial Neural Network dengan data yang diberikan.\n",
    "- Mampu menganalisis dan menjelaskan layer yang dibuat."
   ]
  },
  {
   "cell_type": "markdown",
   "metadata": {},
   "source": [
    "### <strong>Deployment<strong>\n",
    "---"
   ]
  },
  {
   "cell_type": "markdown",
   "metadata": {},
   "source": [
    "Kindly check my dashboard here\n",
    "\n",
    "[![Deploy to Heroku](https://www.herokucdn.com/deploy/button.svg)](https://anita-009ml1.herokuapp.com/)"
   ]
  },
  {
   "cell_type": "markdown",
   "metadata": {},
   "source": [
    "### <strong>Data Understanding<strong>\n",
    "\n",
    "##### Bagian ini berisi penjelasan isi dataset yang saya gunakan untuk project ini.\n",
    "---"
   ]
  },
  {
   "cell_type": "markdown",
   "metadata": {},
   "source": [
    "![TELCO CHURN](https://uruit.com/blog/wp-content/uploads/2020/11/Churn1-1024x724.jpg)"
   ]
  },
  {
   "cell_type": "markdown",
   "metadata": {},
   "source": [
    "Dataset yang saya gunakan untuk project Milstone 1 ini adalah Data customer dari sebuah perusahaan telepon. \n",
    "\n",
    "Dataset lengkap dapat dilihat pada website ini <a href='https://www.kaggle.com/code/ahmedhanymetawaa/churn-eda-predicting-model'>Kaggle</a>"
   ]
  },
  {
   "cell_type": "markdown",
   "metadata": {},
   "source": [
    "<ins>Column Information:<ins>\n",
    "\n",
    "| Feature          | Description                                                                                                        |\n",
    "| ---------------- | ------------------------------------------------------------------------------------------------------------------ |\n",
    "| customerID       | Customer ID                                                                                                        |\n",
    "| gender           | Whether the customer is a male or a female                                                                         |\n",
    "| SeniorCitizen    | Whether the customer is a senior citizen or not (1, 0)                                                             |\n",
    "| Partner          | Whether the customer has a partner or not (Yes, No)                                                                |\n",
    "| Dependents       | Whether the customer has dependents or not (Yes, No)                                                               |\n",
    "| tenure           | Number of months the customer has stayed with the company                                                          |\n",
    "| PhoneService     | Whether the customer has a phone service or not (Yes, No)                                                          |\n",
    "| MultipleLines    | Whether the customer has multiple lines or not (Yes, No, No phone service)                                         |\n",
    "| InternetService  | Customer’s internet service provider (DSL, Fiber optic, No)                                                        |\n",
    "| OnlineSecurity   | Whether the customer has online security or not (Yes, No, No internet service)                                     |\n",
    "| OnlineBackup     | Whether the customer has online backup or not (Yes, No, No internet service)                                       |\n",
    "| DeviceProtection | Whether the customer has device protection or not (Yes, No, No internet service)                                   |\n",
    "| TechSupport      | Whether the customer has tech support or not (Yes, No, No internet service)                                        |\n",
    "| StreamingTV      | Whether the customer has streaming TV or not (Yes, No, No internet service)                                        |\n",
    "| StreamingMovies  | Whether the customer has streaming movies or not (Yes, No, No internet service)                                    |\n",
    "| Contract         | The contract term of the customer (Month-to-month, One year, Two year)                                             |\n",
    "| PaperlessBilling | Whether the customer has paperless billing or not (Yes, No)                                                        |\n",
    "| PaymentMethod    | The customer’s payment method (Electronic check, Mailed check, Bank transfer (automatic), Credit card (automatic)) |\n",
    "| MonthlyCharges   | The amount charged to the customer monthly                                                                         |\n",
    "| TotalCharges     | The total amount charged to the customer                                                                           |\n",
    "| Churn            | Whether the customer churned or not (Yes or No)                                                                    |"
   ]
  },
  {
   "cell_type": "markdown",
   "metadata": {},
   "source": [
    "### Data Understanding\n",
    "\n",
    "Well, first let me explain my dataset. I’m using dataset from kaggle about customer information in Telco Company.\n",
    "Telco Company is advanced companies in technology industry. They provide subscription services such as telephone, internet, cable tv, online security, devices protection, tech support.\n",
    "\n",
    "The dataset have 20 columns, 18 columns with object type, 2 columns integer type, and 1 column float type.\n",
    "\n"
   ]
  },
  {
   "cell_type": "markdown",
   "metadata": {},
   "source": [
    "### <strong>Import Libraries<strong>\n",
    "\n",
    "#####  Bagian ini berisi semua library yang akan digunakan dalam project.\n",
    "---"
   ]
  },
  {
   "cell_type": "code",
   "execution_count": 49,
   "metadata": {},
   "outputs": [
    {
     "name": "stdout",
     "output_type": "stream",
     "text": [
      "Requirement already satisfied: tensorflow in /Users/anitaantono/opt/anaconda3/lib/python3.9/site-packages (2.8.0)\n",
      "Requirement already satisfied: tensorflow-io-gcs-filesystem>=0.23.1 in /Users/anitaantono/opt/anaconda3/lib/python3.9/site-packages (from tensorflow) (0.24.0)\n",
      "Requirement already satisfied: protobuf>=3.9.2 in /Users/anitaantono/opt/anaconda3/lib/python3.9/site-packages (from tensorflow) (3.19.4)\n",
      "Requirement already satisfied: setuptools in /Users/anitaantono/opt/anaconda3/lib/python3.9/site-packages (from tensorflow) (58.0.4)\n",
      "Requirement already satisfied: absl-py>=0.4.0 in /Users/anitaantono/opt/anaconda3/lib/python3.9/site-packages (from tensorflow) (1.0.0)\n",
      "Requirement already satisfied: tensorboard<2.9,>=2.8 in /Users/anitaantono/opt/anaconda3/lib/python3.9/site-packages (from tensorflow) (2.8.0)\n",
      "Requirement already satisfied: keras-preprocessing>=1.1.1 in /Users/anitaantono/opt/anaconda3/lib/python3.9/site-packages (from tensorflow) (1.1.2)\n",
      "Requirement already satisfied: h5py>=2.9.0 in /Users/anitaantono/opt/anaconda3/lib/python3.9/site-packages (from tensorflow) (3.2.1)\n",
      "Requirement already satisfied: astunparse>=1.6.0 in /Users/anitaantono/opt/anaconda3/lib/python3.9/site-packages (from tensorflow) (1.6.3)\n",
      "Requirement already satisfied: google-pasta>=0.1.1 in /Users/anitaantono/opt/anaconda3/lib/python3.9/site-packages (from tensorflow) (0.2.0)\n",
      "Requirement already satisfied: grpcio<2.0,>=1.24.3 in /Users/anitaantono/opt/anaconda3/lib/python3.9/site-packages (from tensorflow) (1.44.0)\n",
      "Requirement already satisfied: libclang>=9.0.1 in /Users/anitaantono/opt/anaconda3/lib/python3.9/site-packages (from tensorflow) (13.0.0)\n",
      "Requirement already satisfied: numpy>=1.20 in /Users/anitaantono/opt/anaconda3/lib/python3.9/site-packages (from tensorflow) (1.20.3)\n",
      "Requirement already satisfied: termcolor>=1.1.0 in /Users/anitaantono/opt/anaconda3/lib/python3.9/site-packages (from tensorflow) (1.1.0)\n",
      "Requirement already satisfied: typing-extensions>=3.6.6 in /Users/anitaantono/opt/anaconda3/lib/python3.9/site-packages (from tensorflow) (3.10.0.2)\n",
      "Requirement already satisfied: tf-estimator-nightly==2.8.0.dev2021122109 in /Users/anitaantono/opt/anaconda3/lib/python3.9/site-packages (from tensorflow) (2.8.0.dev2021122109)\n",
      "Requirement already satisfied: opt-einsum>=2.3.2 in /Users/anitaantono/opt/anaconda3/lib/python3.9/site-packages (from tensorflow) (3.3.0)\n",
      "Requirement already satisfied: gast>=0.2.1 in /Users/anitaantono/opt/anaconda3/lib/python3.9/site-packages (from tensorflow) (0.5.3)\n",
      "Requirement already satisfied: keras<2.9,>=2.8.0rc0 in /Users/anitaantono/opt/anaconda3/lib/python3.9/site-packages (from tensorflow) (2.8.0)\n",
      "Requirement already satisfied: wrapt>=1.11.0 in /Users/anitaantono/opt/anaconda3/lib/python3.9/site-packages (from tensorflow) (1.12.1)\n",
      "Requirement already satisfied: six>=1.12.0 in /Users/anitaantono/opt/anaconda3/lib/python3.9/site-packages (from tensorflow) (1.16.0)\n",
      "Requirement already satisfied: flatbuffers>=1.12 in /Users/anitaantono/opt/anaconda3/lib/python3.9/site-packages (from tensorflow) (2.0)\n",
      "Requirement already satisfied: wheel<1.0,>=0.23.0 in /Users/anitaantono/opt/anaconda3/lib/python3.9/site-packages (from astunparse>=1.6.0->tensorflow) (0.37.0)\n",
      "Requirement already satisfied: tensorboard-plugin-wit>=1.6.0 in /Users/anitaantono/opt/anaconda3/lib/python3.9/site-packages (from tensorboard<2.9,>=2.8->tensorflow) (1.8.1)\n",
      "Requirement already satisfied: tensorboard-data-server<0.7.0,>=0.6.0 in /Users/anitaantono/opt/anaconda3/lib/python3.9/site-packages (from tensorboard<2.9,>=2.8->tensorflow) (0.6.1)\n",
      "Requirement already satisfied: google-auth-oauthlib<0.5,>=0.4.1 in /Users/anitaantono/opt/anaconda3/lib/python3.9/site-packages (from tensorboard<2.9,>=2.8->tensorflow) (0.4.6)\n",
      "Requirement already satisfied: werkzeug>=0.11.15 in /Users/anitaantono/opt/anaconda3/lib/python3.9/site-packages (from tensorboard<2.9,>=2.8->tensorflow) (2.0.2)\n",
      "Requirement already satisfied: google-auth<3,>=1.6.3 in /Users/anitaantono/opt/anaconda3/lib/python3.9/site-packages (from tensorboard<2.9,>=2.8->tensorflow) (2.6.3)\n",
      "Requirement already satisfied: markdown>=2.6.8 in /Users/anitaantono/opt/anaconda3/lib/python3.9/site-packages (from tensorboard<2.9,>=2.8->tensorflow) (3.3.6)\n",
      "Requirement already satisfied: requests<3,>=2.21.0 in /Users/anitaantono/opt/anaconda3/lib/python3.9/site-packages (from tensorboard<2.9,>=2.8->tensorflow) (2.26.0)\n",
      "Requirement already satisfied: cachetools<6.0,>=2.0.0 in /Users/anitaantono/opt/anaconda3/lib/python3.9/site-packages (from google-auth<3,>=1.6.3->tensorboard<2.9,>=2.8->tensorflow) (5.0.0)\n",
      "Requirement already satisfied: pyasn1-modules>=0.2.1 in /Users/anitaantono/opt/anaconda3/lib/python3.9/site-packages (from google-auth<3,>=1.6.3->tensorboard<2.9,>=2.8->tensorflow) (0.2.8)\n",
      "Requirement already satisfied: rsa<5,>=3.1.4 in /Users/anitaantono/opt/anaconda3/lib/python3.9/site-packages (from google-auth<3,>=1.6.3->tensorboard<2.9,>=2.8->tensorflow) (4.8)\n",
      "Requirement already satisfied: requests-oauthlib>=0.7.0 in /Users/anitaantono/opt/anaconda3/lib/python3.9/site-packages (from google-auth-oauthlib<0.5,>=0.4.1->tensorboard<2.9,>=2.8->tensorflow) (1.3.1)\n",
      "Requirement already satisfied: importlib-metadata>=4.4 in /Users/anitaantono/opt/anaconda3/lib/python3.9/site-packages (from markdown>=2.6.8->tensorboard<2.9,>=2.8->tensorflow) (4.8.1)\n",
      "Requirement already satisfied: zipp>=0.5 in /Users/anitaantono/opt/anaconda3/lib/python3.9/site-packages (from importlib-metadata>=4.4->markdown>=2.6.8->tensorboard<2.9,>=2.8->tensorflow) (3.6.0)\n",
      "Requirement already satisfied: pyasn1<0.5.0,>=0.4.6 in /Users/anitaantono/opt/anaconda3/lib/python3.9/site-packages (from pyasn1-modules>=0.2.1->google-auth<3,>=1.6.3->tensorboard<2.9,>=2.8->tensorflow) (0.4.8)\n",
      "Requirement already satisfied: certifi>=2017.4.17 in /Users/anitaantono/opt/anaconda3/lib/python3.9/site-packages (from requests<3,>=2.21.0->tensorboard<2.9,>=2.8->tensorflow) (2021.10.8)\n",
      "Requirement already satisfied: urllib3<1.27,>=1.21.1 in /Users/anitaantono/opt/anaconda3/lib/python3.9/site-packages (from requests<3,>=2.21.0->tensorboard<2.9,>=2.8->tensorflow) (1.26.7)\n",
      "Requirement already satisfied: charset-normalizer~=2.0.0 in /Users/anitaantono/opt/anaconda3/lib/python3.9/site-packages (from requests<3,>=2.21.0->tensorboard<2.9,>=2.8->tensorflow) (2.0.4)\n",
      "Requirement already satisfied: idna<4,>=2.5 in /Users/anitaantono/opt/anaconda3/lib/python3.9/site-packages (from requests<3,>=2.21.0->tensorboard<2.9,>=2.8->tensorflow) (3.2)\n",
      "Requirement already satisfied: oauthlib>=3.0.0 in /Users/anitaantono/opt/anaconda3/lib/python3.9/site-packages (from requests-oauthlib>=0.7.0->google-auth-oauthlib<0.5,>=0.4.1->tensorboard<2.9,>=2.8->tensorflow) (3.2.0)\n"
     ]
    }
   ],
   "source": [
    "!pip install tensorflow"
   ]
  },
  {
   "cell_type": "code",
   "execution_count": 50,
   "metadata": {},
   "outputs": [
    {
     "data": {
      "text/html": [
       "        <script type=\"text/javascript\">\n",
       "        window.PlotlyConfig = {MathJaxConfig: 'local'};\n",
       "        if (window.MathJax) {MathJax.Hub.Config({SVG: {font: \"STIX-Web\"}});}\n",
       "        if (typeof require !== 'undefined') {\n",
       "        require.undef(\"plotly\");\n",
       "        requirejs.config({\n",
       "            paths: {\n",
       "                'plotly': ['https://cdn.plot.ly/plotly-2.9.0.min']\n",
       "            }\n",
       "        });\n",
       "        require(['plotly'], function(Plotly) {\n",
       "            window._Plotly = Plotly;\n",
       "        });\n",
       "        }\n",
       "        </script>\n",
       "        "
      ]
     },
     "metadata": {},
     "output_type": "display_data"
    }
   ],
   "source": [
    "import pandas as pd\n",
    "import numpy as np\n",
    "import matplotlib.pyplot as plt\n",
    "import matplotlib.pyplot as plt\n",
    "import plotly.offline as py\n",
    "py.init_notebook_mode(connected=True)\n",
    "import plotly.graph_objs as go\n",
    "import plotly.tools as tls\n",
    "import plotly.figure_factory as ff\n",
    "import seaborn as sns\n",
    "import tensorflow as tf\n",
    "from tensorflow import keras\n",
    "import pickle\n",
    "\n",
    "import warnings\n",
    "warnings.filterwarnings(\"ignore\") \n",
    "\n",
    "from sklearn.model_selection import train_test_split\n",
    "from sklearn.preprocessing import StandardScaler\n",
    "from sklearn.preprocessing import OneHotEncoder, LabelEncoder\n",
    "from sklearn.pipeline import Pipeline\n",
    "from sklearn.compose import ColumnTransformer\n",
    "from sklearn.metrics import classification_report, confusion_matrix\n",
    "\n",
    "from tensorflow.keras.models import Sequential\n",
    "from tensorflow.keras.models import Model\n",
    "from tensorflow.keras.layers import Dense\n",
    "from tensorflow.keras.layers import Input\n",
    "from tensorflow.keras.layers import Dropout"
   ]
  },
  {
   "cell_type": "markdown",
   "metadata": {},
   "source": [
    "### <strong>Data Loading<strong>\n",
    "\n",
    "##### Bagian ini berisi proses penyiapan data sebelum dilakukan eksplorasi data lebih lanjut. Proses Data Loading dapat berupa memberi nama baru untuk setiap kolom, mengecek ukuran dataset, dll.\n",
    "---"
   ]
  },
  {
   "cell_type": "code",
   "execution_count": 51,
   "metadata": {},
   "outputs": [],
   "source": [
    "data = pd.read_csv('telco_cust.csv')"
   ]
  },
  {
   "cell_type": "code",
   "execution_count": 52,
   "metadata": {},
   "outputs": [
    {
     "data": {
      "text/html": [
       "<div>\n",
       "<style scoped>\n",
       "    .dataframe tbody tr th:only-of-type {\n",
       "        vertical-align: middle;\n",
       "    }\n",
       "\n",
       "    .dataframe tbody tr th {\n",
       "        vertical-align: top;\n",
       "    }\n",
       "\n",
       "    .dataframe thead th {\n",
       "        text-align: right;\n",
       "    }\n",
       "</style>\n",
       "<table border=\"1\" class=\"dataframe\">\n",
       "  <thead>\n",
       "    <tr style=\"text-align: right;\">\n",
       "      <th></th>\n",
       "      <th>customerID</th>\n",
       "      <th>gender</th>\n",
       "      <th>SeniorCitizen</th>\n",
       "      <th>Partner</th>\n",
       "      <th>Dependents</th>\n",
       "      <th>tenure</th>\n",
       "      <th>PhoneService</th>\n",
       "      <th>MultipleLines</th>\n",
       "      <th>InternetService</th>\n",
       "      <th>OnlineSecurity</th>\n",
       "      <th>...</th>\n",
       "      <th>DeviceProtection</th>\n",
       "      <th>TechSupport</th>\n",
       "      <th>StreamingTV</th>\n",
       "      <th>StreamingMovies</th>\n",
       "      <th>Contract</th>\n",
       "      <th>PaperlessBilling</th>\n",
       "      <th>PaymentMethod</th>\n",
       "      <th>MonthlyCharges</th>\n",
       "      <th>TotalCharges</th>\n",
       "      <th>Churn</th>\n",
       "    </tr>\n",
       "  </thead>\n",
       "  <tbody>\n",
       "    <tr>\n",
       "      <th>0</th>\n",
       "      <td>7590-VHVEG</td>\n",
       "      <td>Female</td>\n",
       "      <td>0</td>\n",
       "      <td>Yes</td>\n",
       "      <td>No</td>\n",
       "      <td>1</td>\n",
       "      <td>No</td>\n",
       "      <td>No phone service</td>\n",
       "      <td>DSL</td>\n",
       "      <td>No</td>\n",
       "      <td>...</td>\n",
       "      <td>No</td>\n",
       "      <td>No</td>\n",
       "      <td>No</td>\n",
       "      <td>No</td>\n",
       "      <td>Month-to-month</td>\n",
       "      <td>Yes</td>\n",
       "      <td>Electronic check</td>\n",
       "      <td>29.85</td>\n",
       "      <td>29.85</td>\n",
       "      <td>No</td>\n",
       "    </tr>\n",
       "    <tr>\n",
       "      <th>1</th>\n",
       "      <td>5575-GNVDE</td>\n",
       "      <td>Male</td>\n",
       "      <td>0</td>\n",
       "      <td>No</td>\n",
       "      <td>No</td>\n",
       "      <td>34</td>\n",
       "      <td>Yes</td>\n",
       "      <td>No</td>\n",
       "      <td>DSL</td>\n",
       "      <td>Yes</td>\n",
       "      <td>...</td>\n",
       "      <td>Yes</td>\n",
       "      <td>No</td>\n",
       "      <td>No</td>\n",
       "      <td>No</td>\n",
       "      <td>One year</td>\n",
       "      <td>No</td>\n",
       "      <td>Mailed check</td>\n",
       "      <td>56.95</td>\n",
       "      <td>1889.5</td>\n",
       "      <td>No</td>\n",
       "    </tr>\n",
       "    <tr>\n",
       "      <th>2</th>\n",
       "      <td>3668-QPYBK</td>\n",
       "      <td>Male</td>\n",
       "      <td>0</td>\n",
       "      <td>No</td>\n",
       "      <td>No</td>\n",
       "      <td>2</td>\n",
       "      <td>Yes</td>\n",
       "      <td>No</td>\n",
       "      <td>DSL</td>\n",
       "      <td>Yes</td>\n",
       "      <td>...</td>\n",
       "      <td>No</td>\n",
       "      <td>No</td>\n",
       "      <td>No</td>\n",
       "      <td>No</td>\n",
       "      <td>Month-to-month</td>\n",
       "      <td>Yes</td>\n",
       "      <td>Mailed check</td>\n",
       "      <td>53.85</td>\n",
       "      <td>108.15</td>\n",
       "      <td>Yes</td>\n",
       "    </tr>\n",
       "    <tr>\n",
       "      <th>3</th>\n",
       "      <td>7795-CFOCW</td>\n",
       "      <td>Male</td>\n",
       "      <td>0</td>\n",
       "      <td>No</td>\n",
       "      <td>No</td>\n",
       "      <td>45</td>\n",
       "      <td>No</td>\n",
       "      <td>No phone service</td>\n",
       "      <td>DSL</td>\n",
       "      <td>Yes</td>\n",
       "      <td>...</td>\n",
       "      <td>Yes</td>\n",
       "      <td>Yes</td>\n",
       "      <td>No</td>\n",
       "      <td>No</td>\n",
       "      <td>One year</td>\n",
       "      <td>No</td>\n",
       "      <td>Bank transfer (automatic)</td>\n",
       "      <td>42.30</td>\n",
       "      <td>1840.75</td>\n",
       "      <td>No</td>\n",
       "    </tr>\n",
       "    <tr>\n",
       "      <th>4</th>\n",
       "      <td>9237-HQITU</td>\n",
       "      <td>Female</td>\n",
       "      <td>0</td>\n",
       "      <td>No</td>\n",
       "      <td>No</td>\n",
       "      <td>2</td>\n",
       "      <td>Yes</td>\n",
       "      <td>No</td>\n",
       "      <td>Fiber optic</td>\n",
       "      <td>No</td>\n",
       "      <td>...</td>\n",
       "      <td>No</td>\n",
       "      <td>No</td>\n",
       "      <td>No</td>\n",
       "      <td>No</td>\n",
       "      <td>Month-to-month</td>\n",
       "      <td>Yes</td>\n",
       "      <td>Electronic check</td>\n",
       "      <td>70.70</td>\n",
       "      <td>151.65</td>\n",
       "      <td>Yes</td>\n",
       "    </tr>\n",
       "    <tr>\n",
       "      <th>...</th>\n",
       "      <td>...</td>\n",
       "      <td>...</td>\n",
       "      <td>...</td>\n",
       "      <td>...</td>\n",
       "      <td>...</td>\n",
       "      <td>...</td>\n",
       "      <td>...</td>\n",
       "      <td>...</td>\n",
       "      <td>...</td>\n",
       "      <td>...</td>\n",
       "      <td>...</td>\n",
       "      <td>...</td>\n",
       "      <td>...</td>\n",
       "      <td>...</td>\n",
       "      <td>...</td>\n",
       "      <td>...</td>\n",
       "      <td>...</td>\n",
       "      <td>...</td>\n",
       "      <td>...</td>\n",
       "      <td>...</td>\n",
       "      <td>...</td>\n",
       "    </tr>\n",
       "    <tr>\n",
       "      <th>7038</th>\n",
       "      <td>6840-RESVB</td>\n",
       "      <td>Male</td>\n",
       "      <td>0</td>\n",
       "      <td>Yes</td>\n",
       "      <td>Yes</td>\n",
       "      <td>24</td>\n",
       "      <td>Yes</td>\n",
       "      <td>Yes</td>\n",
       "      <td>DSL</td>\n",
       "      <td>Yes</td>\n",
       "      <td>...</td>\n",
       "      <td>Yes</td>\n",
       "      <td>Yes</td>\n",
       "      <td>Yes</td>\n",
       "      <td>Yes</td>\n",
       "      <td>One year</td>\n",
       "      <td>Yes</td>\n",
       "      <td>Mailed check</td>\n",
       "      <td>84.80</td>\n",
       "      <td>1990.5</td>\n",
       "      <td>No</td>\n",
       "    </tr>\n",
       "    <tr>\n",
       "      <th>7039</th>\n",
       "      <td>2234-XADUH</td>\n",
       "      <td>Female</td>\n",
       "      <td>0</td>\n",
       "      <td>Yes</td>\n",
       "      <td>Yes</td>\n",
       "      <td>72</td>\n",
       "      <td>Yes</td>\n",
       "      <td>Yes</td>\n",
       "      <td>Fiber optic</td>\n",
       "      <td>No</td>\n",
       "      <td>...</td>\n",
       "      <td>Yes</td>\n",
       "      <td>No</td>\n",
       "      <td>Yes</td>\n",
       "      <td>Yes</td>\n",
       "      <td>One year</td>\n",
       "      <td>Yes</td>\n",
       "      <td>Credit card (automatic)</td>\n",
       "      <td>103.20</td>\n",
       "      <td>7362.9</td>\n",
       "      <td>No</td>\n",
       "    </tr>\n",
       "    <tr>\n",
       "      <th>7040</th>\n",
       "      <td>4801-JZAZL</td>\n",
       "      <td>Female</td>\n",
       "      <td>0</td>\n",
       "      <td>Yes</td>\n",
       "      <td>Yes</td>\n",
       "      <td>11</td>\n",
       "      <td>No</td>\n",
       "      <td>No phone service</td>\n",
       "      <td>DSL</td>\n",
       "      <td>Yes</td>\n",
       "      <td>...</td>\n",
       "      <td>No</td>\n",
       "      <td>No</td>\n",
       "      <td>No</td>\n",
       "      <td>No</td>\n",
       "      <td>Month-to-month</td>\n",
       "      <td>Yes</td>\n",
       "      <td>Electronic check</td>\n",
       "      <td>29.60</td>\n",
       "      <td>346.45</td>\n",
       "      <td>No</td>\n",
       "    </tr>\n",
       "    <tr>\n",
       "      <th>7041</th>\n",
       "      <td>8361-LTMKD</td>\n",
       "      <td>Male</td>\n",
       "      <td>1</td>\n",
       "      <td>Yes</td>\n",
       "      <td>No</td>\n",
       "      <td>4</td>\n",
       "      <td>Yes</td>\n",
       "      <td>Yes</td>\n",
       "      <td>Fiber optic</td>\n",
       "      <td>No</td>\n",
       "      <td>...</td>\n",
       "      <td>No</td>\n",
       "      <td>No</td>\n",
       "      <td>No</td>\n",
       "      <td>No</td>\n",
       "      <td>Month-to-month</td>\n",
       "      <td>Yes</td>\n",
       "      <td>Mailed check</td>\n",
       "      <td>74.40</td>\n",
       "      <td>306.6</td>\n",
       "      <td>Yes</td>\n",
       "    </tr>\n",
       "    <tr>\n",
       "      <th>7042</th>\n",
       "      <td>3186-AJIEK</td>\n",
       "      <td>Male</td>\n",
       "      <td>0</td>\n",
       "      <td>No</td>\n",
       "      <td>No</td>\n",
       "      <td>66</td>\n",
       "      <td>Yes</td>\n",
       "      <td>No</td>\n",
       "      <td>Fiber optic</td>\n",
       "      <td>Yes</td>\n",
       "      <td>...</td>\n",
       "      <td>Yes</td>\n",
       "      <td>Yes</td>\n",
       "      <td>Yes</td>\n",
       "      <td>Yes</td>\n",
       "      <td>Two year</td>\n",
       "      <td>Yes</td>\n",
       "      <td>Bank transfer (automatic)</td>\n",
       "      <td>105.65</td>\n",
       "      <td>6844.5</td>\n",
       "      <td>No</td>\n",
       "    </tr>\n",
       "  </tbody>\n",
       "</table>\n",
       "<p>7043 rows × 21 columns</p>\n",
       "</div>"
      ],
      "text/plain": [
       "      customerID  gender  SeniorCitizen Partner Dependents  tenure  \\\n",
       "0     7590-VHVEG  Female              0     Yes         No       1   \n",
       "1     5575-GNVDE    Male              0      No         No      34   \n",
       "2     3668-QPYBK    Male              0      No         No       2   \n",
       "3     7795-CFOCW    Male              0      No         No      45   \n",
       "4     9237-HQITU  Female              0      No         No       2   \n",
       "...          ...     ...            ...     ...        ...     ...   \n",
       "7038  6840-RESVB    Male              0     Yes        Yes      24   \n",
       "7039  2234-XADUH  Female              0     Yes        Yes      72   \n",
       "7040  4801-JZAZL  Female              0     Yes        Yes      11   \n",
       "7041  8361-LTMKD    Male              1     Yes         No       4   \n",
       "7042  3186-AJIEK    Male              0      No         No      66   \n",
       "\n",
       "     PhoneService     MultipleLines InternetService OnlineSecurity  ...  \\\n",
       "0              No  No phone service             DSL             No  ...   \n",
       "1             Yes                No             DSL            Yes  ...   \n",
       "2             Yes                No             DSL            Yes  ...   \n",
       "3              No  No phone service             DSL            Yes  ...   \n",
       "4             Yes                No     Fiber optic             No  ...   \n",
       "...           ...               ...             ...            ...  ...   \n",
       "7038          Yes               Yes             DSL            Yes  ...   \n",
       "7039          Yes               Yes     Fiber optic             No  ...   \n",
       "7040           No  No phone service             DSL            Yes  ...   \n",
       "7041          Yes               Yes     Fiber optic             No  ...   \n",
       "7042          Yes                No     Fiber optic            Yes  ...   \n",
       "\n",
       "     DeviceProtection TechSupport StreamingTV StreamingMovies        Contract  \\\n",
       "0                  No          No          No              No  Month-to-month   \n",
       "1                 Yes          No          No              No        One year   \n",
       "2                  No          No          No              No  Month-to-month   \n",
       "3                 Yes         Yes          No              No        One year   \n",
       "4                  No          No          No              No  Month-to-month   \n",
       "...               ...         ...         ...             ...             ...   \n",
       "7038              Yes         Yes         Yes             Yes        One year   \n",
       "7039              Yes          No         Yes             Yes        One year   \n",
       "7040               No          No          No              No  Month-to-month   \n",
       "7041               No          No          No              No  Month-to-month   \n",
       "7042              Yes         Yes         Yes             Yes        Two year   \n",
       "\n",
       "     PaperlessBilling              PaymentMethod MonthlyCharges  TotalCharges  \\\n",
       "0                 Yes           Electronic check          29.85         29.85   \n",
       "1                  No               Mailed check          56.95        1889.5   \n",
       "2                 Yes               Mailed check          53.85        108.15   \n",
       "3                  No  Bank transfer (automatic)          42.30       1840.75   \n",
       "4                 Yes           Electronic check          70.70        151.65   \n",
       "...               ...                        ...            ...           ...   \n",
       "7038              Yes               Mailed check          84.80        1990.5   \n",
       "7039              Yes    Credit card (automatic)         103.20        7362.9   \n",
       "7040              Yes           Electronic check          29.60        346.45   \n",
       "7041              Yes               Mailed check          74.40         306.6   \n",
       "7042              Yes  Bank transfer (automatic)         105.65        6844.5   \n",
       "\n",
       "     Churn  \n",
       "0       No  \n",
       "1       No  \n",
       "2      Yes  \n",
       "3       No  \n",
       "4      Yes  \n",
       "...    ...  \n",
       "7038    No  \n",
       "7039    No  \n",
       "7040    No  \n",
       "7041   Yes  \n",
       "7042    No  \n",
       "\n",
       "[7043 rows x 21 columns]"
      ]
     },
     "execution_count": 52,
     "metadata": {},
     "output_type": "execute_result"
    }
   ],
   "source": [
    "df = data.copy()\n",
    "df"
   ]
  },
  {
   "cell_type": "markdown",
   "metadata": {},
   "source": [
    "### <strong>Exploratory Data Analysis / EDA<strong>\n",
    "\n",
    "##### Bagian ini berisi eksplorasi data pada dataset diatas dengan menggunakan query, grouping, visualisasi sederhana, dan lain sebagainya.\n",
    "---"
   ]
  },
  {
   "cell_type": "markdown",
   "metadata": {},
   "source": [
    "##### Rename Columns"
   ]
  },
  {
   "cell_type": "code",
   "execution_count": 53,
   "metadata": {},
   "outputs": [],
   "source": [
    "# Mengubah nama kolom menjadi lowercase\n",
    "\n",
    "df.columns = [str(x).lower() for x in df.columns]"
   ]
  },
  {
   "cell_type": "markdown",
   "metadata": {},
   "source": [
    "##### Basic data information"
   ]
  },
  {
   "cell_type": "code",
   "execution_count": 54,
   "metadata": {},
   "outputs": [
    {
     "name": "stdout",
     "output_type": "stream",
     "text": [
      "<class 'pandas.core.frame.DataFrame'>\n",
      "RangeIndex: 7043 entries, 0 to 7042\n",
      "Data columns (total 21 columns):\n",
      " #   Column            Non-Null Count  Dtype  \n",
      "---  ------            --------------  -----  \n",
      " 0   customerid        7043 non-null   object \n",
      " 1   gender            7043 non-null   object \n",
      " 2   seniorcitizen     7043 non-null   int64  \n",
      " 3   partner           7043 non-null   object \n",
      " 4   dependents        7043 non-null   object \n",
      " 5   tenure            7043 non-null   int64  \n",
      " 6   phoneservice      7043 non-null   object \n",
      " 7   multiplelines     7043 non-null   object \n",
      " 8   internetservice   7043 non-null   object \n",
      " 9   onlinesecurity    7043 non-null   object \n",
      " 10  onlinebackup      7043 non-null   object \n",
      " 11  deviceprotection  7043 non-null   object \n",
      " 12  techsupport       7043 non-null   object \n",
      " 13  streamingtv       7043 non-null   object \n",
      " 14  streamingmovies   7043 non-null   object \n",
      " 15  contract          7043 non-null   object \n",
      " 16  paperlessbilling  7043 non-null   object \n",
      " 17  paymentmethod     7043 non-null   object \n",
      " 18  monthlycharges    7043 non-null   float64\n",
      " 19  totalcharges      7043 non-null   object \n",
      " 20  churn             7043 non-null   object \n",
      "dtypes: float64(1), int64(2), object(18)\n",
      "memory usage: 1.1+ MB\n"
     ]
    }
   ],
   "source": [
    "df.info()"
   ]
  },
  {
   "cell_type": "markdown",
   "metadata": {},
   "source": [
    "- Kolom data **float** sebanyak **1**\n",
    "- Kolom data **integer** sebanyak **2**\n",
    "- Kolom data **object** sebanyak **18**"
   ]
  },
  {
   "cell_type": "code",
   "execution_count": 55,
   "metadata": {},
   "outputs": [
    {
     "data": {
      "text/plain": [
       "          11\n",
       "20.2      11\n",
       "19.75      9\n",
       "20.05      8\n",
       "19.9       8\n",
       "          ..\n",
       "6849.4     1\n",
       "692.35     1\n",
       "130.15     1\n",
       "3211.9     1\n",
       "6844.5     1\n",
       "Name: totalcharges, Length: 6531, dtype: int64"
      ]
     },
     "execution_count": 55,
     "metadata": {},
     "output_type": "execute_result"
    }
   ],
   "source": [
    "df['totalcharges'].value_counts()"
   ]
  },
  {
   "cell_type": "markdown",
   "metadata": {},
   "source": [
    "---> but first when i see column ‘total_charges’ why is it in object type?\n",
    "\n",
    "I checked in ‘total_charge’ columns, there is 11 rows contains space and it causes data type is object not float.\n",
    "\n",
    "it must be float type or numerical column. So I’m doing data cleaning to change data type."
   ]
  },
  {
   "cell_type": "markdown",
   "metadata": {},
   "source": [
    "Jika dilihat berdasarkan nilainya, ada 11 baris yang hanya berisi spasi. Hal ini menjadi penyebab tipe data menjadi 'object'.\n",
    "\n",
    "Pada kolom 'TotalCharges' ini memiliki tipe data **object** yang sebenernya kolom ini adalah bertipe **float** atau numerical kolom. maka akan dilakukan pengubahan tipe data pada bagian data cleaning."
   ]
  },
  {
   "cell_type": "code",
   "execution_count": 56,
   "metadata": {},
   "outputs": [
    {
     "data": {
      "text/html": [
       "<div>\n",
       "<style scoped>\n",
       "    .dataframe tbody tr th:only-of-type {\n",
       "        vertical-align: middle;\n",
       "    }\n",
       "\n",
       "    .dataframe tbody tr th {\n",
       "        vertical-align: top;\n",
       "    }\n",
       "\n",
       "    .dataframe thead th {\n",
       "        text-align: right;\n",
       "    }\n",
       "</style>\n",
       "<table border=\"1\" class=\"dataframe\">\n",
       "  <thead>\n",
       "    <tr style=\"text-align: right;\">\n",
       "      <th></th>\n",
       "      <th>seniorcitizen</th>\n",
       "      <th>tenure</th>\n",
       "      <th>monthlycharges</th>\n",
       "    </tr>\n",
       "  </thead>\n",
       "  <tbody>\n",
       "    <tr>\n",
       "      <th>count</th>\n",
       "      <td>7043.000000</td>\n",
       "      <td>7043.000000</td>\n",
       "      <td>7043.000000</td>\n",
       "    </tr>\n",
       "    <tr>\n",
       "      <th>mean</th>\n",
       "      <td>0.162147</td>\n",
       "      <td>32.371149</td>\n",
       "      <td>64.761692</td>\n",
       "    </tr>\n",
       "    <tr>\n",
       "      <th>std</th>\n",
       "      <td>0.368612</td>\n",
       "      <td>24.559481</td>\n",
       "      <td>30.090047</td>\n",
       "    </tr>\n",
       "    <tr>\n",
       "      <th>min</th>\n",
       "      <td>0.000000</td>\n",
       "      <td>0.000000</td>\n",
       "      <td>18.250000</td>\n",
       "    </tr>\n",
       "    <tr>\n",
       "      <th>25%</th>\n",
       "      <td>0.000000</td>\n",
       "      <td>9.000000</td>\n",
       "      <td>35.500000</td>\n",
       "    </tr>\n",
       "    <tr>\n",
       "      <th>50%</th>\n",
       "      <td>0.000000</td>\n",
       "      <td>29.000000</td>\n",
       "      <td>70.350000</td>\n",
       "    </tr>\n",
       "    <tr>\n",
       "      <th>75%</th>\n",
       "      <td>0.000000</td>\n",
       "      <td>55.000000</td>\n",
       "      <td>89.850000</td>\n",
       "    </tr>\n",
       "    <tr>\n",
       "      <th>max</th>\n",
       "      <td>1.000000</td>\n",
       "      <td>72.000000</td>\n",
       "      <td>118.750000</td>\n",
       "    </tr>\n",
       "  </tbody>\n",
       "</table>\n",
       "</div>"
      ],
      "text/plain": [
       "       seniorcitizen       tenure  monthlycharges\n",
       "count    7043.000000  7043.000000     7043.000000\n",
       "mean        0.162147    32.371149       64.761692\n",
       "std         0.368612    24.559481       30.090047\n",
       "min         0.000000     0.000000       18.250000\n",
       "25%         0.000000     9.000000       35.500000\n",
       "50%         0.000000    29.000000       70.350000\n",
       "75%         0.000000    55.000000       89.850000\n",
       "max         1.000000    72.000000      118.750000"
      ]
     },
     "execution_count": 56,
     "metadata": {},
     "output_type": "execute_result"
    }
   ],
   "source": [
    "df.describe()"
   ]
  },
  {
   "cell_type": "markdown",
   "metadata": {},
   "source": [
    "Jika dilihat dari statistika dekstiptif kolom **'tenure'** dan **'monthlycharges'** distribusi datanya `SKEWED` karena nilai mean dan median nya tidak sama."
   ]
  },
  {
   "cell_type": "markdown",
   "metadata": {},
   "source": [
    "##### Data Cleaning"
   ]
  },
  {
   "cell_type": "markdown",
   "metadata": {},
   "source": [
    "Baris kosong pada 'totalcharges' akan dilakukan data cleaning dengan mengisi nilai spasi dengan 'NaN' terlebih dahulu dan kemudian merubah tipe data menjadi **float** "
   ]
  },
  {
   "cell_type": "code",
   "execution_count": 57,
   "metadata": {},
   "outputs": [],
   "source": [
    "df['totalcharges'] = df.totalcharges.replace(' ', np.nan) "
   ]
  },
  {
   "cell_type": "code",
   "execution_count": 58,
   "metadata": {},
   "outputs": [],
   "source": [
    "df['totalcharges'] = df.totalcharges.astype(float) \n"
   ]
  },
  {
   "cell_type": "code",
   "execution_count": 59,
   "metadata": {},
   "outputs": [],
   "source": [
    "df['seniorcitizen'] = df.seniorcitizen.map({1: 'Yes', 0: 'No'})"
   ]
  },
  {
   "cell_type": "code",
   "execution_count": 60,
   "metadata": {},
   "outputs": [
    {
     "name": "stdout",
     "output_type": "stream",
     "text": [
      "Numeric Columns:  ['tenure', 'monthlycharges', 'totalcharges']\n",
      "Categorical Columns:  ['customerid', 'gender', 'seniorcitizen', 'partner', 'dependents', 'phoneservice', 'multiplelines', 'internetservice', 'onlinesecurity', 'onlinebackup', 'deviceprotection', 'techsupport', 'streamingtv', 'streamingmovies', 'contract', 'paperlessbilling', 'paymentmethod', 'churn']\n"
     ]
    }
   ],
   "source": [
    "num_columns = df.select_dtypes(include=np.number).columns.tolist()\n",
    "cat_columns = df.select_dtypes(include=['object']).columns.tolist()\n",
    "\n",
    "print('Numeric Columns: ', num_columns)\n",
    "print('Categorical Columns: ', cat_columns)"
   ]
  },
  {
   "cell_type": "markdown",
   "metadata": {},
   "source": [
    "Kolom 'totalcharges' sudah diubah dari categorical columns menjadi numerical columns."
   ]
  },
  {
   "cell_type": "markdown",
   "metadata": {},
   "source": [
    "##### Missing Value"
   ]
  },
  {
   "cell_type": "markdown",
   "metadata": {},
   "source": [
    "--> How about missing value? "
   ]
  },
  {
   "cell_type": "code",
   "execution_count": 61,
   "metadata": {},
   "outputs": [
    {
     "name": "stdout",
     "output_type": "stream",
     "text": [
      "Total missing value on the dataset  : 11.0\n"
     ]
    },
    {
     "data": {
      "text/html": [
       "<div>\n",
       "<style scoped>\n",
       "    .dataframe tbody tr th:only-of-type {\n",
       "        vertical-align: middle;\n",
       "    }\n",
       "\n",
       "    .dataframe tbody tr th {\n",
       "        vertical-align: top;\n",
       "    }\n",
       "\n",
       "    .dataframe thead th {\n",
       "        text-align: right;\n",
       "    }\n",
       "</style>\n",
       "<table border=\"1\" class=\"dataframe\">\n",
       "  <thead>\n",
       "    <tr style=\"text-align: right;\">\n",
       "      <th></th>\n",
       "      <th>missing value</th>\n",
       "    </tr>\n",
       "  </thead>\n",
       "  <tbody>\n",
       "    <tr>\n",
       "      <th>customerid</th>\n",
       "      <td>0</td>\n",
       "    </tr>\n",
       "    <tr>\n",
       "      <th>gender</th>\n",
       "      <td>0</td>\n",
       "    </tr>\n",
       "    <tr>\n",
       "      <th>seniorcitizen</th>\n",
       "      <td>0</td>\n",
       "    </tr>\n",
       "    <tr>\n",
       "      <th>partner</th>\n",
       "      <td>0</td>\n",
       "    </tr>\n",
       "    <tr>\n",
       "      <th>dependents</th>\n",
       "      <td>0</td>\n",
       "    </tr>\n",
       "    <tr>\n",
       "      <th>tenure</th>\n",
       "      <td>0</td>\n",
       "    </tr>\n",
       "    <tr>\n",
       "      <th>phoneservice</th>\n",
       "      <td>0</td>\n",
       "    </tr>\n",
       "    <tr>\n",
       "      <th>multiplelines</th>\n",
       "      <td>0</td>\n",
       "    </tr>\n",
       "    <tr>\n",
       "      <th>internetservice</th>\n",
       "      <td>0</td>\n",
       "    </tr>\n",
       "    <tr>\n",
       "      <th>onlinesecurity</th>\n",
       "      <td>0</td>\n",
       "    </tr>\n",
       "    <tr>\n",
       "      <th>onlinebackup</th>\n",
       "      <td>0</td>\n",
       "    </tr>\n",
       "    <tr>\n",
       "      <th>deviceprotection</th>\n",
       "      <td>0</td>\n",
       "    </tr>\n",
       "    <tr>\n",
       "      <th>techsupport</th>\n",
       "      <td>0</td>\n",
       "    </tr>\n",
       "    <tr>\n",
       "      <th>streamingtv</th>\n",
       "      <td>0</td>\n",
       "    </tr>\n",
       "    <tr>\n",
       "      <th>streamingmovies</th>\n",
       "      <td>0</td>\n",
       "    </tr>\n",
       "    <tr>\n",
       "      <th>contract</th>\n",
       "      <td>0</td>\n",
       "    </tr>\n",
       "    <tr>\n",
       "      <th>paperlessbilling</th>\n",
       "      <td>0</td>\n",
       "    </tr>\n",
       "    <tr>\n",
       "      <th>paymentmethod</th>\n",
       "      <td>0</td>\n",
       "    </tr>\n",
       "    <tr>\n",
       "      <th>monthlycharges</th>\n",
       "      <td>0</td>\n",
       "    </tr>\n",
       "    <tr>\n",
       "      <th>totalcharges</th>\n",
       "      <td>11</td>\n",
       "    </tr>\n",
       "    <tr>\n",
       "      <th>churn</th>\n",
       "      <td>0</td>\n",
       "    </tr>\n",
       "  </tbody>\n",
       "</table>\n",
       "</div>"
      ],
      "text/plain": [
       "                  missing value\n",
       "customerid                    0\n",
       "gender                        0\n",
       "seniorcitizen                 0\n",
       "partner                       0\n",
       "dependents                    0\n",
       "tenure                        0\n",
       "phoneservice                  0\n",
       "multiplelines                 0\n",
       "internetservice               0\n",
       "onlinesecurity                0\n",
       "onlinebackup                  0\n",
       "deviceprotection              0\n",
       "techsupport                   0\n",
       "streamingtv                   0\n",
       "streamingmovies               0\n",
       "contract                      0\n",
       "paperlessbilling              0\n",
       "paymentmethod                 0\n",
       "monthlycharges                0\n",
       "totalcharges                 11\n",
       "churn                         0"
      ]
     },
     "execution_count": 61,
     "metadata": {},
     "output_type": "execute_result"
    }
   ],
   "source": [
    "print(\"Total missing value on the dataset  :\" , df.isnull().sum().sum().mean())\n",
    "\n",
    "pd.DataFrame({'missing value' : df.isnull().sum()})"
   ]
  },
  {
   "cell_type": "markdown",
   "metadata": {},
   "source": [
    "--> Yup, it has is 11 missing value in ‘total_charge’ columns."
   ]
  },
  {
   "cell_type": "code",
   "execution_count": 62,
   "metadata": {},
   "outputs": [
    {
     "data": {
      "text/plain": [
       "11"
      ]
     },
     "execution_count": 62,
     "metadata": {},
     "output_type": "execute_result"
    }
   ],
   "source": [
    "df['totalcharges'].isnull().sum()"
   ]
  },
  {
   "cell_type": "code",
   "execution_count": 63,
   "metadata": {},
   "outputs": [
    {
     "name": "stdout",
     "output_type": "stream",
     "text": [
      "Skewness totalcharges: 0.961642499724251\n"
     ]
    }
   ],
   "source": [
    "print('Skewness totalcharges:',df['totalcharges'].skew())"
   ]
  },
  {
   "cell_type": "code",
   "execution_count": 64,
   "metadata": {},
   "outputs": [
    {
     "name": "stdout",
     "output_type": "stream",
     "text": [
      "Median totalcharges: 2283.3004408418697\n"
     ]
    }
   ],
   "source": [
    "print('Median totalcharges:',df['totalcharges'].mean())"
   ]
  },
  {
   "cell_type": "markdown",
   "metadata": {},
   "source": [
    "--> And I filled it with mean value,"
   ]
  },
  {
   "cell_type": "code",
   "execution_count": 65,
   "metadata": {},
   "outputs": [],
   "source": [
    "df[\"totalcharges\"].fillna(value= 2283.3004408418697 ,inplace=True)"
   ]
  },
  {
   "cell_type": "markdown",
   "metadata": {},
   "source": [
    "---> So then.. there's no missing value again"
   ]
  },
  {
   "cell_type": "code",
   "execution_count": 66,
   "metadata": {},
   "outputs": [
    {
     "name": "stdout",
     "output_type": "stream",
     "text": [
      "Total missing value on the dataset  : 0.0\n"
     ]
    },
    {
     "data": {
      "text/html": [
       "<div>\n",
       "<style scoped>\n",
       "    .dataframe tbody tr th:only-of-type {\n",
       "        vertical-align: middle;\n",
       "    }\n",
       "\n",
       "    .dataframe tbody tr th {\n",
       "        vertical-align: top;\n",
       "    }\n",
       "\n",
       "    .dataframe thead th {\n",
       "        text-align: right;\n",
       "    }\n",
       "</style>\n",
       "<table border=\"1\" class=\"dataframe\">\n",
       "  <thead>\n",
       "    <tr style=\"text-align: right;\">\n",
       "      <th></th>\n",
       "      <th>missing value</th>\n",
       "    </tr>\n",
       "  </thead>\n",
       "  <tbody>\n",
       "    <tr>\n",
       "      <th>customerid</th>\n",
       "      <td>0</td>\n",
       "    </tr>\n",
       "    <tr>\n",
       "      <th>gender</th>\n",
       "      <td>0</td>\n",
       "    </tr>\n",
       "    <tr>\n",
       "      <th>seniorcitizen</th>\n",
       "      <td>0</td>\n",
       "    </tr>\n",
       "    <tr>\n",
       "      <th>partner</th>\n",
       "      <td>0</td>\n",
       "    </tr>\n",
       "    <tr>\n",
       "      <th>dependents</th>\n",
       "      <td>0</td>\n",
       "    </tr>\n",
       "    <tr>\n",
       "      <th>tenure</th>\n",
       "      <td>0</td>\n",
       "    </tr>\n",
       "    <tr>\n",
       "      <th>phoneservice</th>\n",
       "      <td>0</td>\n",
       "    </tr>\n",
       "    <tr>\n",
       "      <th>multiplelines</th>\n",
       "      <td>0</td>\n",
       "    </tr>\n",
       "    <tr>\n",
       "      <th>internetservice</th>\n",
       "      <td>0</td>\n",
       "    </tr>\n",
       "    <tr>\n",
       "      <th>onlinesecurity</th>\n",
       "      <td>0</td>\n",
       "    </tr>\n",
       "    <tr>\n",
       "      <th>onlinebackup</th>\n",
       "      <td>0</td>\n",
       "    </tr>\n",
       "    <tr>\n",
       "      <th>deviceprotection</th>\n",
       "      <td>0</td>\n",
       "    </tr>\n",
       "    <tr>\n",
       "      <th>techsupport</th>\n",
       "      <td>0</td>\n",
       "    </tr>\n",
       "    <tr>\n",
       "      <th>streamingtv</th>\n",
       "      <td>0</td>\n",
       "    </tr>\n",
       "    <tr>\n",
       "      <th>streamingmovies</th>\n",
       "      <td>0</td>\n",
       "    </tr>\n",
       "    <tr>\n",
       "      <th>contract</th>\n",
       "      <td>0</td>\n",
       "    </tr>\n",
       "    <tr>\n",
       "      <th>paperlessbilling</th>\n",
       "      <td>0</td>\n",
       "    </tr>\n",
       "    <tr>\n",
       "      <th>paymentmethod</th>\n",
       "      <td>0</td>\n",
       "    </tr>\n",
       "    <tr>\n",
       "      <th>monthlycharges</th>\n",
       "      <td>0</td>\n",
       "    </tr>\n",
       "    <tr>\n",
       "      <th>totalcharges</th>\n",
       "      <td>0</td>\n",
       "    </tr>\n",
       "    <tr>\n",
       "      <th>churn</th>\n",
       "      <td>0</td>\n",
       "    </tr>\n",
       "  </tbody>\n",
       "</table>\n",
       "</div>"
      ],
      "text/plain": [
       "                  missing value\n",
       "customerid                    0\n",
       "gender                        0\n",
       "seniorcitizen                 0\n",
       "partner                       0\n",
       "dependents                    0\n",
       "tenure                        0\n",
       "phoneservice                  0\n",
       "multiplelines                 0\n",
       "internetservice               0\n",
       "onlinesecurity                0\n",
       "onlinebackup                  0\n",
       "deviceprotection              0\n",
       "techsupport                   0\n",
       "streamingtv                   0\n",
       "streamingmovies               0\n",
       "contract                      0\n",
       "paperlessbilling              0\n",
       "paymentmethod                 0\n",
       "monthlycharges                0\n",
       "totalcharges                  0\n",
       "churn                         0"
      ]
     },
     "execution_count": 66,
     "metadata": {},
     "output_type": "execute_result"
    }
   ],
   "source": [
    "print(\"Total missing value on the dataset  :\" , df.isnull().sum().sum().mean())\n",
    "\n",
    "pd.DataFrame({'missing value' : df.isnull().sum()})"
   ]
  },
  {
   "cell_type": "code",
   "execution_count": 67,
   "metadata": {},
   "outputs": [],
   "source": [
    "df.drop(['customerid'], axis=1, inplace=True)"
   ]
  },
  {
   "cell_type": "markdown",
   "metadata": {},
   "source": [
    "Melakukan drop pada kolom 'customerid' karena hanya sebagai indentifikasi untuk tiap baris. tidak ada korelasi dan informasi yang bisa digunakan dari kolom ini."
   ]
  },
  {
   "cell_type": "code",
   "execution_count": 68,
   "metadata": {},
   "outputs": [],
   "source": [
    "colors1 = sns.color_palette(\"Pastel2\")\n",
    "colors2 = sns.color_palette(\"Pastel1_r\")\n",
    "sns.set_style(\"whitegrid\")"
   ]
  },
  {
   "cell_type": "markdown",
   "metadata": {},
   "source": [
    "Saya akan melakukan beberapa visualisasi data dengan menggunakan chart, dengan kolom yang berhubungan dengan target 'churn'.\n",
    "\n",
    "Sebagai penjelasan 'Churn' / 'Customer churn' adalah kehilangan pelanggan dari suatu bisnis. Churn dihitung dari berapa banyak pelanggan meninggalkan bisnis dalam waktu tertentu."
   ]
  },
  {
   "cell_type": "code",
   "execution_count": 69,
   "metadata": {},
   "outputs": [
    {
     "data": {
      "text/plain": [
       "Text(0.5, 1.0, 'Correlation Matrix')"
      ]
     },
     "execution_count": 69,
     "metadata": {},
     "output_type": "execute_result"
    },
    {
     "data": {
      "image/png": "[encoded data removed]",
      "text/plain": [
       "<Figure size 1800x648 with 2 Axes>"
      ]
     },
     "metadata": {},
     "output_type": "display_data"
    }
   ],
   "source": [
    "plt.figure(figsize=(25, 9))\n",
    "sns.heatmap(pd.concat([df, pd.get_dummies(df.churn)], axis=1).corr(), annot=True, cmap='Pastel1_r')\n",
    "plt.title('Correlation Matrix')"
   ]
  },
  {
   "cell_type": "markdown",
   "metadata": {},
   "source": [
    "* <strong>Percentage of Client Churn or Not?<strong>"
   ]
  },
  {
   "cell_type": "code",
   "execution_count": 70,
   "metadata": {},
   "outputs": [],
   "source": [
    "# kolom diagnosis\n",
    "\n",
    "No = df[(df['churn'] != 0)] # Not churn \n",
    "Yes = df[(df['churn'] == 0)] # YES churn "
   ]
  },
  {
   "cell_type": "code",
   "execution_count": 155,
   "metadata": {},
   "outputs": [
    {
     "data": {
      "application/vnd.plotly.v1+json": {
       "config": {
        "linkText": "Export to plot.ly",
        "plotlyServerURL": "https://plot.ly",
        "showLink": false
       },
       "data": [
        {
         "labels": [
          "No",
          "Churn"
         ],
         "marker": {
          "colors": [
           "pink",
           "skyblue"
          ],
          "line": {
           "color": "#000000",
           "width": 1.5
          }
         },
         "opacity": 0.8,
         "textfont": {
          "size": 15
         },
         "type": "pie",
         "values": [
          5174,
          1869
         ]
        }
       ],
       "layout": {
        "template": {
         "data": {
          "bar": [
           {
            "error_x": {
             "color": "#2a3f5f"
            },
            "error_y": {
             "color": "#2a3f5f"
            },
            "marker": {
             "line": {
              "color": "#E5ECF6",
              "width": 0.5
             },
             "pattern": {
              "fillmode": "overlay",
              "size": 10,
              "solidity": 0.2
             }
            },
            "type": "bar"
           }
          ],
          "barpolar": [
           {
            "marker": {
             "line": {
              "color": "#E5ECF6",
              "width": 0.5
             },
             "pattern": {
              "fillmode": "overlay",
              "size": 10,
              "solidity": 0.2
             }
            },
            "type": "barpolar"
           }
          ],
          "carpet": [
           {
            "aaxis": {
             "endlinecolor": "#2a3f5f",
             "gridcolor": "white",
             "linecolor": "white",
             "minorgridcolor": "white",
             "startlinecolor": "#2a3f5f"
            },
            "baxis": {
             "endlinecolor": "#2a3f5f",
             "gridcolor": "white",
             "linecolor": "white",
             "minorgridcolor": "white",
             "startlinecolor": "#2a3f5f"
            },
            "type": "carpet"
           }
          ],
          "choropleth": [
           {
            "colorbar": {
             "outlinewidth": 0,
             "ticks": ""
            },
            "type": "choropleth"
           }
          ],
          "contour": [
           {
            "colorbar": {
             "outlinewidth": 0,
             "ticks": ""
            },
            "colorscale": [
             [
              0,
              "#0d0887"
             ],
             [
              0.1111111111111111,
              "#46039f"
             ],
             [
              0.2222222222222222,
              "#7201a8"
             ],
             [
              0.3333333333333333,
              "#9c179e"
             ],
             [
              0.4444444444444444,
              "#bd3786"
             ],
             [
              0.5555555555555556,
              "#d8576b"
             ],
             [
              0.6666666666666666,
              "#ed7953"
             ],
             [
              0.7777777777777778,
              "#fb9f3a"
             ],
             [
              0.8888888888888888,
              "#fdca26"
             ],
             [
              1,
              "#f0f921"
             ]
            ],
            "type": "contour"
           }
          ],
          "contourcarpet": [
           {
            "colorbar": {
             "outlinewidth": 0,
             "ticks": ""
            },
            "type": "contourcarpet"
           }
          ],
          "heatmap": [
           {
            "colorbar": {
             "outlinewidth": 0,
             "ticks": ""
            },
            "colorscale": [
             [
              0,
              "#0d0887"
             ],
             [
              0.1111111111111111,
              "#46039f"
             ],
             [
              0.2222222222222222,
              "#7201a8"
             ],
             [
              0.3333333333333333,
              "#9c179e"
             ],
             [
              0.4444444444444444,
              "#bd3786"
             ],
             [
              0.5555555555555556,
              "#d8576b"
             ],
             [
              0.6666666666666666,
              "#ed7953"
             ],
             [
              0.7777777777777778,
              "#fb9f3a"
             ],
             [
              0.8888888888888888,
              "#fdca26"
             ],
             [
              1,
              "#f0f921"
             ]
            ],
            "type": "heatmap"
           }
          ],
          "heatmapgl": [
           {
            "colorbar": {
             "outlinewidth": 0,
             "ticks": ""
            },
            "colorscale": [
             [
              0,
              "#0d0887"
             ],
             [
              0.1111111111111111,
              "#46039f"
             ],
             [
              0.2222222222222222,
              "#7201a8"
             ],
             [
              0.3333333333333333,
              "#9c179e"
             ],
             [
              0.4444444444444444,
              "#bd3786"
             ],
             [
              0.5555555555555556,
              "#d8576b"
             ],
             [
              0.6666666666666666,
              "#ed7953"
             ],
             [
              0.7777777777777778,
              "#fb9f3a"
             ],
             [
              0.8888888888888888,
              "#fdca26"
             ],
             [
              1,
              "#f0f921"
             ]
            ],
            "type": "heatmapgl"
           }
          ],
          "histogram": [
           {
            "marker": {
             "pattern": {
              "fillmode": "overlay",
              "size": 10,
              "solidity": 0.2
             }
            },
            "type": "histogram"
           }
          ],
          "histogram2d": [
           {
            "colorbar": {
             "outlinewidth": 0,
             "ticks": ""
            },
            "colorscale": [
             [
              0,
              "#0d0887"
             ],
             [
              0.1111111111111111,
              "#46039f"
             ],
             [
              0.2222222222222222,
              "#7201a8"
             ],
             [
              0.3333333333333333,
              "#9c179e"
             ],
             [
              0.4444444444444444,
              "#bd3786"
             ],
             [
              0.5555555555555556,
              "#d8576b"
             ],
             [
              0.6666666666666666,
              "#ed7953"
             ],
             [
              0.7777777777777778,
              "#fb9f3a"
             ],
             [
              0.8888888888888888,
              "#fdca26"
             ],
             [
              1,
              "#f0f921"
             ]
            ],
            "type": "histogram2d"
           }
          ],
          "histogram2dcontour": [
           {
            "colorbar": {
             "outlinewidth": 0,
             "ticks": ""
            },
            "colorscale": [
             [
              0,
              "#0d0887"
             ],
             [
              0.1111111111111111,
              "#46039f"
             ],
             [
              0.2222222222222222,
              "#7201a8"
             ],
             [
              0.3333333333333333,
              "#9c179e"
             ],
             [
              0.4444444444444444,
              "#bd3786"
             ],
             [
              0.5555555555555556,
              "#d8576b"
             ],
             [
              0.6666666666666666,
              "#ed7953"
             ],
             [
              0.7777777777777778,
              "#fb9f3a"
             ],
             [
              0.8888888888888888,
              "#fdca26"
             ],
             [
              1,
              "#f0f921"
             ]
            ],
            "type": "histogram2dcontour"
           }
          ],
          "mesh3d": [
           {
            "colorbar": {
             "outlinewidth": 0,
             "ticks": ""
            },
            "type": "mesh3d"
           }
          ],
          "parcoords": [
           {
            "line": {
             "colorbar": {
              "outlinewidth": 0,
              "ticks": ""
             }
            },
            "type": "parcoords"
           }
          ],
          "pie": [
           {
            "automargin": true,
            "type": "pie"
           }
          ],
          "scatter": [
           {
            "marker": {
             "colorbar": {
              "outlinewidth": 0,
              "ticks": ""
             }
            },
            "type": "scatter"
           }
          ],
          "scatter3d": [
           {
            "line": {
             "colorbar": {
              "outlinewidth": 0,
              "ticks": ""
             }
            },
            "marker": {
             "colorbar": {
              "outlinewidth": 0,
              "ticks": ""
             }
            },
            "type": "scatter3d"
           }
          ],
          "scattercarpet": [
           {
            "marker": {
             "colorbar": {
              "outlinewidth": 0,
              "ticks": ""
             }
            },
            "type": "scattercarpet"
           }
          ],
          "scattergeo": [
           {
            "marker": {
             "colorbar": {
              "outlinewidth": 0,
              "ticks": ""
             }
            },
            "type": "scattergeo"
           }
          ],
          "scattergl": [
           {
            "marker": {
             "colorbar": {
              "outlinewidth": 0,
              "ticks": ""
             }
            },
            "type": "scattergl"
           }
          ],
          "scattermapbox": [
           {
            "marker": {
             "colorbar": {
              "outlinewidth": 0,
              "ticks": ""
             }
            },
            "type": "scattermapbox"
           }
          ],
          "scatterpolar": [
           {
            "marker": {
             "colorbar": {
              "outlinewidth": 0,
              "ticks": ""
             }
            },
            "type": "scatterpolar"
           }
          ],
          "scatterpolargl": [
           {
            "marker": {
             "colorbar": {
              "outlinewidth": 0,
              "ticks": ""
             }
            },
            "type": "scatterpolargl"
           }
          ],
          "scatterternary": [
           {
            "marker": {
             "colorbar": {
              "outlinewidth": 0,
              "ticks": ""
             }
            },
            "type": "scatterternary"
           }
          ],
          "surface": [
           {
            "colorbar": {
             "outlinewidth": 0,
             "ticks": ""
            },
            "colorscale": [
             [
              0,
              "#0d0887"
             ],
             [
              0.1111111111111111,
              "#46039f"
             ],
             [
              0.2222222222222222,
              "#7201a8"
             ],
             [
              0.3333333333333333,
              "#9c179e"
             ],
             [
              0.4444444444444444,
              "#bd3786"
             ],
             [
              0.5555555555555556,
              "#d8576b"
             ],
             [
              0.6666666666666666,
              "#ed7953"
             ],
             [
              0.7777777777777778,
              "#fb9f3a"
             ],
             [
              0.8888888888888888,
              "#fdca26"
             ],
             [
              1,
              "#f0f921"
             ]
            ],
            "type": "surface"
           }
          ],
          "table": [
           {
            "cells": {
             "fill": {
              "color": "#EBF0F8"
             },
             "line": {
              "color": "white"
             }
            },
            "header": {
             "fill": {
              "color": "#C8D4E3"
             },
             "line": {
              "color": "white"
             }
            },
            "type": "table"
           }
          ]
         },
         "layout": {
          "annotationdefaults": {
           "arrowcolor": "#2a3f5f",
           "arrowhead": 0,
           "arrowwidth": 1
          },
          "autotypenumbers": "strict",
          "coloraxis": {
           "colorbar": {
            "outlinewidth": 0,
            "ticks": ""
           }
          },
          "colorscale": {
           "diverging": [
            [
             0,
             "#8e0152"
            ],
            [
             0.1,
             "#c51b7d"
            ],
            [
             0.2,
             "#de77ae"
            ],
            [
             0.3,
             "#f1b6da"
            ],
            [
             0.4,
             "#fde0ef"
            ],
            [
             0.5,
             "#f7f7f7"
            ],
            [
             0.6,
             "#e6f5d0"
            ],
            [
             0.7,
             "#b8e186"
            ],
            [
             0.8,
             "#7fbc41"
            ],
            [
             0.9,
             "#4d9221"
            ],
            [
             1,
             "#276419"
            ]
           ],
           "sequential": [
            [
             0,
             "#0d0887"
            ],
            [
             0.1111111111111111,
             "#46039f"
            ],
            [
             0.2222222222222222,
             "#7201a8"
            ],
            [
             0.3333333333333333,
             "#9c179e"
            ],
            [
             0.4444444444444444,
             "#bd3786"
            ],
            [
             0.5555555555555556,
             "#d8576b"
            ],
            [
             0.6666666666666666,
             "#ed7953"
            ],
            [
             0.7777777777777778,
             "#fb9f3a"
            ],
            [
             0.8888888888888888,
             "#fdca26"
            ],
            [
             1,
             "#f0f921"
            ]
           ],
           "sequentialminus": [
            [
             0,
             "#0d0887"
            ],
            [
             0.1111111111111111,
             "#46039f"
            ],
            [
             0.2222222222222222,
             "#7201a8"
            ],
            [
             0.3333333333333333,
             "#9c179e"
            ],
            [
             0.4444444444444444,
             "#bd3786"
            ],
            [
             0.5555555555555556,
             "#d8576b"
            ],
            [
             0.6666666666666666,
             "#ed7953"
            ],
            [
             0.7777777777777778,
             "#fb9f3a"
            ],
            [
             0.8888888888888888,
             "#fdca26"
            ],
            [
             1,
             "#f0f921"
            ]
           ]
          },
          "colorway": [
           "#636efa",
           "#EF553B",
           "#00cc96",
           "#ab63fa",
           "#FFA15A",
           "#19d3f3",
           "#FF6692",
           "#B6E880",
           "#FF97FF",
           "#FECB52"
          ],
          "font": {
           "color": "#2a3f5f"
          },
          "geo": {
           "bgcolor": "white",
           "lakecolor": "white",
           "landcolor": "#E5ECF6",
           "showlakes": true,
           "showland": true,
           "subunitcolor": "white"
          },
          "hoverlabel": {
           "align": "left"
          },
          "hovermode": "closest",
          "mapbox": {
           "style": "light"
          },
          "paper_bgcolor": "white",
          "plot_bgcolor": "#E5ECF6",
          "polar": {
           "angularaxis": {
            "gridcolor": "white",
            "linecolor": "white",
            "ticks": ""
           },
           "bgcolor": "#E5ECF6",
           "radialaxis": {
            "gridcolor": "white",
            "linecolor": "white",
            "ticks": ""
           }
          },
          "scene": {
           "xaxis": {
            "backgroundcolor": "#E5ECF6",
            "gridcolor": "white",
            "gridwidth": 2,
            "linecolor": "white",
            "showbackground": true,
            "ticks": "",
            "zerolinecolor": "white"
           },
           "yaxis": {
            "backgroundcolor": "#E5ECF6",
            "gridcolor": "white",
            "gridwidth": 2,
            "linecolor": "white",
            "showbackground": true,
            "ticks": "",
            "zerolinecolor": "white"
           },
           "zaxis": {
            "backgroundcolor": "#E5ECF6",
            "gridcolor": "white",
            "gridwidth": 2,
            "linecolor": "white",
            "showbackground": true,
            "ticks": "",
            "zerolinecolor": "white"
           }
          },
          "shapedefaults": {
           "line": {
            "color": "#2a3f5f"
           }
          },
          "ternary": {
           "aaxis": {
            "gridcolor": "white",
            "linecolor": "white",
            "ticks": ""
           },
           "baxis": {
            "gridcolor": "white",
            "linecolor": "white",
            "ticks": ""
           },
           "bgcolor": "#E5ECF6",
           "caxis": {
            "gridcolor": "white",
            "linecolor": "white",
            "ticks": ""
           }
          },
          "title": {
           "x": 0.05
          },
          "xaxis": {
           "automargin": true,
           "gridcolor": "white",
           "linecolor": "white",
           "ticks": "",
           "title": {
            "standoff": 15
           },
           "zerolinecolor": "white",
           "zerolinewidth": 2
          },
          "yaxis": {
           "automargin": true,
           "gridcolor": "white",
           "linecolor": "white",
           "ticks": "",
           "title": {
            "standoff": 15
           },
           "zerolinecolor": "white",
           "zerolinewidth": 2
          }
         }
        },
        "title": {
         "text": "Percentage of Client Churn or Not?"
        }
       }
      },
      "text/html": [
       "<div>                            <div id=\"acc9d05b-e1fc-4f67-bd3c-a3ee687d0a9b\" class=\"plotly-graph-div\" style=\"height:525px; width:100%;\"></div>            <script type=\"text/javascript\">                require([\"plotly\"], function(Plotly) {                    window.PLOTLYENV=window.PLOTLYENV || {};                                    if (document.getElementById(\"acc9d05b-e1fc-4f67-bd3c-a3ee687d0a9b\")) {                    Plotly.newPlot(                        \"acc9d05b-e1fc-4f67-bd3c-a3ee687d0a9b\",                        [{\"labels\":[\"No\",\"Churn\"],\"marker\":{\"colors\":[\"pink\",\"skyblue\"],\"line\":{\"color\":\"#000000\",\"width\":1.5}},\"opacity\":0.8,\"textfont\":{\"size\":15},\"values\":[5174,1869],\"type\":\"pie\"}],                        {\"template\":{\"data\":{\"barpolar\":[{\"marker\":{\"line\":{\"color\":\"#E5ECF6\",\"width\":0.5},\"pattern\":{\"fillmode\":\"overlay\",\"size\":10,\"solidity\":0.2}},\"type\":\"barpolar\"}],\"bar\":[{\"error_x\":{\"color\":\"#2a3f5f\"},\"error_y\":{\"color\":\"#2a3f5f\"},\"marker\":{\"line\":{\"color\":\"#E5ECF6\",\"width\":0.5},\"pattern\":{\"fillmode\":\"overlay\",\"size\":10,\"solidity\":0.2}},\"type\":\"bar\"}],\"carpet\":[{\"aaxis\":{\"endlinecolor\":\"#2a3f5f\",\"gridcolor\":\"white\",\"linecolor\":\"white\",\"minorgridcolor\":\"white\",\"startlinecolor\":\"#2a3f5f\"},\"baxis\":{\"endlinecolor\":\"#2a3f5f\",\"gridcolor\":\"white\",\"linecolor\":\"white\",\"minorgridcolor\":\"white\",\"startlinecolor\":\"#2a3f5f\"},\"type\":\"carpet\"}],\"choropleth\":[{\"colorbar\":{\"outlinewidth\":0,\"ticks\":\"\"},\"type\":\"choropleth\"}],\"contourcarpet\":[{\"colorbar\":{\"outlinewidth\":0,\"ticks\":\"\"},\"type\":\"contourcarpet\"}],\"contour\":[{\"colorbar\":{\"outlinewidth\":0,\"ticks\":\"\"},\"colorscale\":[[0.0,\"#0d0887\"],[0.1111111111111111,\"#46039f\"],[0.2222222222222222,\"#7201a8\"],[0.3333333333333333,\"#9c179e\"],[0.4444444444444444,\"#bd3786\"],[0.5555555555555556,\"#d8576b\"],[0.6666666666666666,\"#ed7953\"],[0.7777777777777778,\"#fb9f3a\"],[0.8888888888888888,\"#fdca26\"],[1.0,\"#f0f921\"]],\"type\":\"contour\"}],\"heatmapgl\":[{\"colorbar\":{\"outlinewidth\":0,\"ticks\":\"\"},\"colorscale\":[[0.0,\"#0d0887\"],[0.1111111111111111,\"#46039f\"],[0.2222222222222222,\"#7201a8\"],[0.3333333333333333,\"#9c179e\"],[0.4444444444444444,\"#bd3786\"],[0.5555555555555556,\"#d8576b\"],[0.6666666666666666,\"#ed7953\"],[0.7777777777777778,\"#fb9f3a\"],[0.8888888888888888,\"#fdca26\"],[1.0,\"#f0f921\"]],\"type\":\"heatmapgl\"}],\"heatmap\":[{\"colorbar\":{\"outlinewidth\":0,\"ticks\":\"\"},\"colorscale\":[[0.0,\"#0d0887\"],[0.1111111111111111,\"#46039f\"],[0.2222222222222222,\"#7201a8\"],[0.3333333333333333,\"#9c179e\"],[0.4444444444444444,\"#bd3786\"],[0.5555555555555556,\"#d8576b\"],[0.6666666666666666,\"#ed7953\"],[0.7777777777777778,\"#fb9f3a\"],[0.8888888888888888,\"#fdca26\"],[1.0,\"#f0f921\"]],\"type\":\"heatmap\"}],\"histogram2dcontour\":[{\"colorbar\":{\"outlinewidth\":0,\"ticks\":\"\"},\"colorscale\":[[0.0,\"#0d0887\"],[0.1111111111111111,\"#46039f\"],[0.2222222222222222,\"#7201a8\"],[0.3333333333333333,\"#9c179e\"],[0.4444444444444444,\"#bd3786\"],[0.5555555555555556,\"#d8576b\"],[0.6666666666666666,\"#ed7953\"],[0.7777777777777778,\"#fb9f3a\"],[0.8888888888888888,\"#fdca26\"],[1.0,\"#f0f921\"]],\"type\":\"histogram2dcontour\"}],\"histogram2d\":[{\"colorbar\":{\"outlinewidth\":0,\"ticks\":\"\"},\"colorscale\":[[0.0,\"#0d0887\"],[0.1111111111111111,\"#46039f\"],[0.2222222222222222,\"#7201a8\"],[0.3333333333333333,\"#9c179e\"],[0.4444444444444444,\"#bd3786\"],[0.5555555555555556,\"#d8576b\"],[0.6666666666666666,\"#ed7953\"],[0.7777777777777778,\"#fb9f3a\"],[0.8888888888888888,\"#fdca26\"],[1.0,\"#f0f921\"]],\"type\":\"histogram2d\"}],\"histogram\":[{\"marker\":{\"pattern\":{\"fillmode\":\"overlay\",\"size\":10,\"solidity\":0.2}},\"type\":\"histogram\"}],\"mesh3d\":[{\"colorbar\":{\"outlinewidth\":0,\"ticks\":\"\"},\"type\":\"mesh3d\"}],\"parcoords\":[{\"line\":{\"colorbar\":{\"outlinewidth\":0,\"ticks\":\"\"}},\"type\":\"parcoords\"}],\"pie\":[{\"automargin\":true,\"type\":\"pie\"}],\"scatter3d\":[{\"line\":{\"colorbar\":{\"outlinewidth\":0,\"ticks\":\"\"}},\"marker\":{\"colorbar\":{\"outlinewidth\":0,\"ticks\":\"\"}},\"type\":\"scatter3d\"}],\"scattercarpet\":[{\"marker\":{\"colorbar\":{\"outlinewidth\":0,\"ticks\":\"\"}},\"type\":\"scattercarpet\"}],\"scattergeo\":[{\"marker\":{\"colorbar\":{\"outlinewidth\":0,\"ticks\":\"\"}},\"type\":\"scattergeo\"}],\"scattergl\":[{\"marker\":{\"colorbar\":{\"outlinewidth\":0,\"ticks\":\"\"}},\"type\":\"scattergl\"}],\"scattermapbox\":[{\"marker\":{\"colorbar\":{\"outlinewidth\":0,\"ticks\":\"\"}},\"type\":\"scattermapbox\"}],\"scatterpolargl\":[{\"marker\":{\"colorbar\":{\"outlinewidth\":0,\"ticks\":\"\"}},\"type\":\"scatterpolargl\"}],\"scatterpolar\":[{\"marker\":{\"colorbar\":{\"outlinewidth\":0,\"ticks\":\"\"}},\"type\":\"scatterpolar\"}],\"scatter\":[{\"marker\":{\"colorbar\":{\"outlinewidth\":0,\"ticks\":\"\"}},\"type\":\"scatter\"}],\"scatterternary\":[{\"marker\":{\"colorbar\":{\"outlinewidth\":0,\"ticks\":\"\"}},\"type\":\"scatterternary\"}],\"surface\":[{\"colorbar\":{\"outlinewidth\":0,\"ticks\":\"\"},\"colorscale\":[[0.0,\"#0d0887\"],[0.1111111111111111,\"#46039f\"],[0.2222222222222222,\"#7201a8\"],[0.3333333333333333,\"#9c179e\"],[0.4444444444444444,\"#bd3786\"],[0.5555555555555556,\"#d8576b\"],[0.6666666666666666,\"#ed7953\"],[0.7777777777777778,\"#fb9f3a\"],[0.8888888888888888,\"#fdca26\"],[1.0,\"#f0f921\"]],\"type\":\"surface\"}],\"table\":[{\"cells\":{\"fill\":{\"color\":\"#EBF0F8\"},\"line\":{\"color\":\"white\"}},\"header\":{\"fill\":{\"color\":\"#C8D4E3\"},\"line\":{\"color\":\"white\"}},\"type\":\"table\"}]},\"layout\":{\"annotationdefaults\":{\"arrowcolor\":\"#2a3f5f\",\"arrowhead\":0,\"arrowwidth\":1},\"autotypenumbers\":\"strict\",\"coloraxis\":{\"colorbar\":{\"outlinewidth\":0,\"ticks\":\"\"}},\"colorscale\":{\"diverging\":[[0,\"#8e0152\"],[0.1,\"#c51b7d\"],[0.2,\"#de77ae\"],[0.3,\"#f1b6da\"],[0.4,\"#fde0ef\"],[0.5,\"#f7f7f7\"],[0.6,\"#e6f5d0\"],[0.7,\"#b8e186\"],[0.8,\"#7fbc41\"],[0.9,\"#4d9221\"],[1,\"#276419\"]],\"sequential\":[[0.0,\"#0d0887\"],[0.1111111111111111,\"#46039f\"],[0.2222222222222222,\"#7201a8\"],[0.3333333333333333,\"#9c179e\"],[0.4444444444444444,\"#bd3786\"],[0.5555555555555556,\"#d8576b\"],[0.6666666666666666,\"#ed7953\"],[0.7777777777777778,\"#fb9f3a\"],[0.8888888888888888,\"#fdca26\"],[1.0,\"#f0f921\"]],\"sequentialminus\":[[0.0,\"#0d0887\"],[0.1111111111111111,\"#46039f\"],[0.2222222222222222,\"#7201a8\"],[0.3333333333333333,\"#9c179e\"],[0.4444444444444444,\"#bd3786\"],[0.5555555555555556,\"#d8576b\"],[0.6666666666666666,\"#ed7953\"],[0.7777777777777778,\"#fb9f3a\"],[0.8888888888888888,\"#fdca26\"],[1.0,\"#f0f921\"]]},\"colorway\":[\"#636efa\",\"#EF553B\",\"#00cc96\",\"#ab63fa\",\"#FFA15A\",\"#19d3f3\",\"#FF6692\",\"#B6E880\",\"#FF97FF\",\"#FECB52\"],\"font\":{\"color\":\"#2a3f5f\"},\"geo\":{\"bgcolor\":\"white\",\"lakecolor\":\"white\",\"landcolor\":\"#E5ECF6\",\"showlakes\":true,\"showland\":true,\"subunitcolor\":\"white\"},\"hoverlabel\":{\"align\":\"left\"},\"hovermode\":\"closest\",\"mapbox\":{\"style\":\"light\"},\"paper_bgcolor\":\"white\",\"plot_bgcolor\":\"#E5ECF6\",\"polar\":{\"angularaxis\":{\"gridcolor\":\"white\",\"linecolor\":\"white\",\"ticks\":\"\"},\"bgcolor\":\"#E5ECF6\",\"radialaxis\":{\"gridcolor\":\"white\",\"linecolor\":\"white\",\"ticks\":\"\"}},\"scene\":{\"xaxis\":{\"backgroundcolor\":\"#E5ECF6\",\"gridcolor\":\"white\",\"gridwidth\":2,\"linecolor\":\"white\",\"showbackground\":true,\"ticks\":\"\",\"zerolinecolor\":\"white\"},\"yaxis\":{\"backgroundcolor\":\"#E5ECF6\",\"gridcolor\":\"white\",\"gridwidth\":2,\"linecolor\":\"white\",\"showbackground\":true,\"ticks\":\"\",\"zerolinecolor\":\"white\"},\"zaxis\":{\"backgroundcolor\":\"#E5ECF6\",\"gridcolor\":\"white\",\"gridwidth\":2,\"linecolor\":\"white\",\"showbackground\":true,\"ticks\":\"\",\"zerolinecolor\":\"white\"}},\"shapedefaults\":{\"line\":{\"color\":\"#2a3f5f\"}},\"ternary\":{\"aaxis\":{\"gridcolor\":\"white\",\"linecolor\":\"white\",\"ticks\":\"\"},\"baxis\":{\"gridcolor\":\"white\",\"linecolor\":\"white\",\"ticks\":\"\"},\"bgcolor\":\"#E5ECF6\",\"caxis\":{\"gridcolor\":\"white\",\"linecolor\":\"white\",\"ticks\":\"\"}},\"title\":{\"x\":0.05},\"xaxis\":{\"automargin\":true,\"gridcolor\":\"white\",\"linecolor\":\"white\",\"ticks\":\"\",\"title\":{\"standoff\":15},\"zerolinecolor\":\"white\",\"zerolinewidth\":2},\"yaxis\":{\"automargin\":true,\"gridcolor\":\"white\",\"linecolor\":\"white\",\"ticks\":\"\",\"title\":{\"standoff\":15},\"zerolinecolor\":\"white\",\"zerolinewidth\":2}}},\"title\":{\"text\":\"Percentage of Client Churn or Not?\"}},                        {\"responsive\": true}                    ).then(function(){\n",
       "                            \n",
       "var gd = document.getElementById('acc9d05b-e1fc-4f67-bd3c-a3ee687d0a9b');\n",
       "var x = new MutationObserver(function (mutations, observer) {{\n",
       "        var display = window.getComputedStyle(gd).display;\n",
       "        if (!display || display === 'none') {{\n",
       "            console.log([gd, 'removed!']);\n",
       "            Plotly.purge(gd);\n",
       "            observer.disconnect();\n",
       "        }}\n",
       "}});\n",
       "\n",
       "// Listen for the removal of the full notebook cells\n",
       "var notebookContainer = gd.closest('#notebook-container');\n",
       "if (notebookContainer) {{\n",
       "    x.observe(notebookContainer, {childList: true});\n",
       "}}\n",
       "\n",
       "// Listen for the clearing of the current output cell\n",
       "var outputEl = gd.closest('.output');\n",
       "if (outputEl) {{\n",
       "    x.observe(outputEl, {childList: true});\n",
       "}}\n",
       "\n",
       "                        })                };                });            </script>        </div>"
      ]
     },
     "metadata": {},
     "output_type": "display_data"
    },
    {
     "data": {
      "image/png": "[encoded data removed]",
      "text/plain": [
       "<Figure size 1368x504 with 1 Axes>"
      ]
     },
     "metadata": {},
     "output_type": "display_data"
    }
   ],
   "source": [
    "#membuat visualisasi Pie Chart\n",
    "\n",
    "trace = go.Pie(labels = ['No','Churn'],\n",
    "               values = df['churn'].value_counts(),\n",
    "               textfont=dict(size=15), opacity = 0.8,\n",
    "               marker=dict(colors=[ 'pink', 'skyblue'], line=dict(color='#000000', width=1.5)))\n",
    "\n",
    "\n",
    "layout = dict(title = 'Percentage of Client Churn or Not?')\n",
    "           \n",
    "fig = dict(data = [trace], layout=layout)\n",
    "py.iplot(fig) \n",
    "\n",
    "\n",
    "plt.figure(figsize=(19, 7))\n",
    "\n",
    "fig = sns.countplot(x='churn', data=df, palette=['pink', 'skyblue'])\n",
    "for p in fig.patches:\n",
    "    height = p.get_height()\n",
    "    fig.text(p.get_x() + p.get_width() / 2., height + 0.005, '{:1.0f}'.format(height), ha=\"center\")\n",
    "\n",
    "plt.title('Churn Count')\n",
    "plt.xlabel('Churn')\n",
    "plt.ylabel('Count')\n",
    "plt.show()"
   ]
  },
  {
   "cell_type": "markdown",
   "metadata": {},
   "source": [
    "Bisa dilihat chart diatas, persentase 'customer churn' sekitar **26,5% / 1869** dan customer yang tidak atau bertahan masih lumayan banyak **73,5% atau 5174**."
   ]
  },
  {
   "cell_type": "markdown",
   "metadata": {},
   "source": [
    "<h3> --> Percentage of client churn or not?\n",
    "\n",
    "From the chart above, the percentage of customer churn around 26% and customer stay around 73%</h3>"
   ]
  },
  {
   "cell_type": "markdown",
   "metadata": {},
   "source": [
    "* <strong>Percentage 'Churn or Not' by Gender'<strong>"
   ]
  },
  {
   "cell_type": "code",
   "execution_count": 72,
   "metadata": {},
   "outputs": [
    {
     "data": {
      "image/png": "[encoded data removed]",
      "text/plain": [
       "<Figure size 1368x504 with 2 Axes>"
      ]
     },
     "metadata": {},
     "output_type": "display_data"
    }
   ],
   "source": [
    "plt.figure(figsize=(19, 7))\n",
    "\n",
    "plt.subplot(1, 2, 1)\n",
    "fig = sns.countplot(x='gender', data=df, order=df.gender.value_counts().index, palette=colors2)\n",
    "for p in fig.patches:\n",
    "    height = p.get_height()\n",
    "    fig.text(p.get_x() + p.get_width() / 2.,\n",
    "             height + 3,\n",
    "             '{:1.0f}'.format(height),\n",
    "             ha=\"center\")\n",
    "\n",
    "plt.title('gender Count')\n",
    "plt.xlabel('gender')\n",
    "\n",
    "plt.subplot(1, 2, 2)\n",
    "sns.countplot(x='gender', data=df, order=df.gender.value_counts().index, palette=colors2, hue='churn')\n",
    "plt.title('gender by churn')\n",
    "plt.xlabel('gender')\n",
    "\n",
    "plt.show()"
   ]
  },
  {
   "cell_type": "markdown",
   "metadata": {},
   "source": [
    "Jika dilihat dari chart diatas, customer **MALE** dan **FEMALE** tidak terlalu jauh perbedaan nya dan tidak mempengaruhi target 'churn' karena antara male dan female juga tidak terlalu significant perbedaan nya."
   ]
  },
  {
   "cell_type": "markdown",
   "metadata": {},
   "source": [
    "<h3> --> Based on customer gender\n",
    "\n",
    "They have 2 customer gender MALE and FEMALE, but I think gender not too effect with customer churn.\n",
    "Because the both differences isn’t too significant</h3>\n"
   ]
  },
  {
   "cell_type": "markdown",
   "metadata": {},
   "source": [
    "* <strong>Percentage 'Churn or Not' by Senior Citizen<strong>"
   ]
  },
  {
   "cell_type": "markdown",
   "metadata": {},
   "source": [
    "Mengubah kolom numerical 'seniorcitizen' dengan nilai **0 = No** dan **1 = Yes** untuk memudahkan membuat chart."
   ]
  },
  {
   "cell_type": "code",
   "execution_count": 73,
   "metadata": {},
   "outputs": [
    {
     "data": {
      "image/png": "[encoded data removed]",
      "text/plain": [
       "<Figure size 1368x504 with 2 Axes>"
      ]
     },
     "metadata": {},
     "output_type": "display_data"
    }
   ],
   "source": [
    "plt.figure(figsize=(19, 7))\n",
    "plt.subplot(1, 2, 1)\n",
    "fig = sns.countplot(x='seniorcitizen', data=df, order=df.seniorcitizen.value_counts().index, palette=colors2)\n",
    "for p in fig.patches:\n",
    "    height = p.get_height()\n",
    "    fig.text(p.get_x() + p.get_width() / 2.,\n",
    "             height + 3,\n",
    "             '{:1.0f}'.format(height),\n",
    "             ha=\"center\")\n",
    "\n",
    "plt.title('seniorcitizen Count')\n",
    "plt.xlabel('seniorcitizen')\n",
    "\n",
    "plt.subplot(1, 2, 2)\n",
    "sns.countplot(x='seniorcitizen', data=df, order=df.seniorcitizen.value_counts().index, palette=colors2, hue='churn')\n",
    "plt.title('seniorcitizen by gender')\n",
    "plt.xlabel('seniorcitizen')\n",
    "\n",
    "plt.show()"
   ]
  },
  {
   "cell_type": "code",
   "execution_count": 74,
   "metadata": {},
   "outputs": [
    {
     "data": {
      "image/png": "[encoded data removed]",
      "text/plain": [
       "<Figure size 1080x648 with 2 Axes>"
      ]
     },
     "metadata": {},
     "output_type": "display_data"
    }
   ],
   "source": [
    "plt.figure(figsize=(15, 9))\n",
    "plt.subplot(1, 2, 1)\n",
    "plt.pie(df[df.seniorcitizen == 'No'].churn.value_counts(), labels=df[df.seniorcitizen == 'No'].churn.value_counts().index, colors=colors2, autopct='%1.1f%%', explode=[0, 0.1])\n",
    "plt.title('churn Percentage by senior citizen = No')\n",
    "plt.subplot(1, 2, 2)\n",
    "plt.pie(df[df.seniorcitizen == 'Yes'].churn.value_counts(), labels=df[df.seniorcitizen == 'Yes'].churn.value_counts().index, colors=colors2, autopct='%1.1f%%', explode=[0, 0.1])\n",
    "plt.title('churn Percentage by senior citizen = Yes')\n",
    "plt.show()"
   ]
  },
  {
   "cell_type": "markdown",
   "metadata": {},
   "source": [
    "Senior citizen adalah customer yang berusia lanjut. jika kita lihat ada 1142 customer yang masuk category 'senior citizen'. \n",
    "dan lebih banyak customer lanjut usia 'senior citizen' yang memilih 'churn'"
   ]
  },
  {
   "cell_type": "markdown",
   "metadata": {},
   "source": [
    "<h3> --> Based on senior citizen\n",
    "\n",
    "They have senior citizen category and as we can see that elderly customer are around 42% choose churn </h3>"
   ]
  },
  {
   "cell_type": "markdown",
   "metadata": {},
   "source": [
    "* <strong>Percentage 'Churn or Not' by partner<strong>"
   ]
  },
  {
   "cell_type": "code",
   "execution_count": 154,
   "metadata": {},
   "outputs": [
    {
     "data": {
      "image/png": "[encoded data removed]",
      "text/plain": [
       "<Figure size 1368x432 with 1 Axes>"
      ]
     },
     "metadata": {},
     "output_type": "display_data"
    }
   ],
   "source": [
    "plt.figure(figsize=(19, 6))\n",
    "\n",
    "fig = sns.countplot(x='partner', data=df, palette=colors2)\n",
    "for p in fig.patches:\n",
    "    height = p.get_height()\n",
    "    fig.text(p.get_x() + p.get_width() / 2., height + 0.005, '{:1.0f}'.format(height), ha=\"center\")\n",
    "plt.title('Partner Count')\n",
    "plt.xlabel('Partner')\n",
    "plt.ylabel('Count')\n",
    "\n",
    "plt.show()"
   ]
  },
  {
   "cell_type": "code",
   "execution_count": 76,
   "metadata": {},
   "outputs": [
    {
     "data": {
      "image/png": "[encoded data removed]",
      "text/plain": [
       "<Figure size 1080x648 with 2 Axes>"
      ]
     },
     "metadata": {},
     "output_type": "display_data"
    }
   ],
   "source": [
    "plt.figure(figsize=(15, 9))\n",
    "\n",
    "\n",
    "plt.subplot(1, 2, 1)\n",
    "plt.pie(df[df.partner == 'Yes'].churn.value_counts(), labels=df[df.partner == 'Yes'].churn.value_counts().index, colors=colors2, autopct='%1.1f%%', explode=[0, 0.1])\n",
    "plt.title('Churn percentage by partner = Yes')\n",
    "plt.subplot(1, 2, 2)\n",
    "plt.pie(df[df.partner == 'No'].churn.value_counts(), labels=df[df.partner == 'No'].churn.value_counts().index, colors=colors2, autopct='%1.1f%%', explode=[0, 0.1])\n",
    "plt.title('Churn percentage by partner = No')\n",
    "\n",
    "plt.show()"
   ]
  },
  {
   "cell_type": "markdown",
   "metadata": {},
   "source": [
    "Customer yang memiliki pasangan sebanyak **3402** sedangkan **3641** customer tidak memiliki pasangan. namun customer yang tidak memiliki pasangan lebih banyak 'churn' dibandingkan dengan yang sudah memiliki pasangan."
   ]
  },
  {
   "cell_type": "markdown",
   "metadata": {},
   "source": [
    "<h3> --> Based on partner\n",
    "\n",
    "On the dataset we can see about customer partner, but partner status isn’t explained on the dataset. So then my personal judgment, partner is mean  a married customer. Customers who don’t have a partner are more likely to churn than those who are single. Arround 33% single customer potential to customer churn. </h3>"
   ]
  },
  {
   "cell_type": "markdown",
   "metadata": {},
   "source": [
    "* <strong>Percentage 'Churn or Not' by dependents<strong>"
   ]
  },
  {
   "cell_type": "code",
   "execution_count": 153,
   "metadata": {},
   "outputs": [
    {
     "data": {
      "image/png": "[encoded data removed]",
      "text/plain": [
       "<Figure size 1368x504 with 1 Axes>"
      ]
     },
     "metadata": {},
     "output_type": "display_data"
    }
   ],
   "source": [
    "plt.figure(figsize=(19, 7))\n",
    "\n",
    "fig = sns.countplot(x='dependents', data=df, palette=colors2)\n",
    "for p in fig.patches:\n",
    "    height = p.get_height()\n",
    "    fig.text(p.get_x() + p.get_width() / 2., height + 0.005, '{:1.0f}'.format(height), ha=\"center\")\n",
    "plt.title('Dependents Count')\n",
    "plt.xlabel('Dependents')\n",
    "plt.ylabel('Count')\n",
    "\n",
    "plt.show()"
   ]
  },
  {
   "cell_type": "code",
   "execution_count": 78,
   "metadata": {},
   "outputs": [
    {
     "data": {
      "image/png": "[encoded data removed]",
      "text/plain": [
       "<Figure size 1080x648 with 2 Axes>"
      ]
     },
     "metadata": {},
     "output_type": "display_data"
    }
   ],
   "source": [
    "plt.figure(figsize=(15, 9))\n",
    "\n",
    "plt.subplot(1, 2, 1)\n",
    "plt.pie(df[df.dependents == 'No'].churn.value_counts(), labels=df[df.dependents == 'No'].churn.value_counts().index, colors=colors2, autopct='%1.1f%%', explode=[0, 0.1])\n",
    "plt.title('Churn Percentage by Dependents = No')\n",
    "plt.subplot(1, 2, 2)\n",
    "plt.pie(df[df.dependents == 'Yes'].churn.value_counts(), labels=df[df.dependents == 'Yes'].churn.value_counts().index, colors=colors2, autopct='%1.1f%%', explode=[0, 0.1])\n",
    "plt.title('Churn Percentage by Dependents = Yes')\n",
    "plt.show()"
   ]
  },
  {
   "cell_type": "markdown",
   "metadata": {},
   "source": [
    "Sebanyak **2110** customer yang memiliki tanggungan dan **4933** customer memiliki tanggungan. Customer yang memiliki tanggungan lebih besar persentase nya untuk 'churn' dibanding yang tidak memiliki tanggungan"
   ]
  },
  {
   "cell_type": "markdown",
   "metadata": {},
   "source": [
    "<h3> -->  Based on dependents\n",
    "Customer who have a partner may have some dependents, and customers with dependents are higher percentage of churn than those without dependents.\n"
   ]
  },
  {
   "cell_type": "markdown",
   "metadata": {},
   "source": [
    "<h3> <ins> Based on Company Services <ins> </h3>"
   ]
  },
  {
   "cell_type": "markdown",
   "metadata": {},
   "source": [
    "* <strong>Percentage 'Churn or Not' Phone Services<strong>"
   ]
  },
  {
   "cell_type": "code",
   "execution_count": 152,
   "metadata": {},
   "outputs": [
    {
     "data": {
      "image/png": "[encoded data removed]",
      "text/plain": [
       "<Figure size 1368x504 with 1 Axes>"
      ]
     },
     "metadata": {},
     "output_type": "display_data"
    }
   ],
   "source": [
    "plt.figure(figsize=(19, 7))\n",
    "\n",
    "fig = sns.countplot(x='phoneservice', data=df, palette=colors2)\n",
    "for p in fig.patches:\n",
    "    height = p.get_height()\n",
    "    fig.text(p.get_x() + p.get_width() / 2., height + 0.005, '{:1.0f}'.format(height), ha=\"center\")\n",
    "plt.title('Phone Service Count')\n",
    "plt.xlabel('Phone Service')\n",
    "plt.ylabel('Count')\n",
    "\n",
    "plt.show()"
   ]
  },
  {
   "cell_type": "markdown",
   "metadata": {},
   "source": [
    "Hampir semua customer memiliki layanan telfon, sebanyak **6361** hanya **682** customer yang tidak memiliki layanan telfon"
   ]
  },
  {
   "cell_type": "markdown",
   "metadata": {},
   "source": [
    "<h3>Almost all customers subscribed to telephone service, just six hundred eighty two person who doesn’t.</h3>"
   ]
  },
  {
   "cell_type": "markdown",
   "metadata": {},
   "source": [
    "* <strong>Percentage 'Churn or Not' Multiple Lines<strong>"
   ]
  },
  {
   "cell_type": "code",
   "execution_count": 151,
   "metadata": {},
   "outputs": [
    {
     "data": {
      "image/png": "[encoded data removed]",
      "text/plain": [
       "<Figure size 1368x504 with 1 Axes>"
      ]
     },
     "metadata": {},
     "output_type": "display_data"
    }
   ],
   "source": [
    "plt.figure(figsize=(19, 7))\n",
    "\n",
    "fig = sns.countplot(x='multiplelines', data=df, palette=colors2)\n",
    "for p in fig.patches:\n",
    "    height = p.get_height()\n",
    "    fig.text(p.get_x() + p.get_width() / 2., height + 0.005, '{:1.0f}'.format(height), ha=\"center\")\n",
    "plt.title('Multiple Lines Count')\n",
    "plt.xlabel('Multiple Lines')\n",
    "plt.ylabel('Count')\n",
    "\n",
    "plt.show()"
   ]
  },
  {
   "cell_type": "markdown",
   "metadata": {},
   "source": [
    "Customer yang berlangganan layanan 'Multiple lines' sebanyak **2971** sedangkan sisanya tidak "
   ]
  },
  {
   "cell_type": "code",
   "execution_count": 81,
   "metadata": {},
   "outputs": [
    {
     "data": {
      "text/html": [
       "<div>\n",
       "<style scoped>\n",
       "    .dataframe tbody tr th:only-of-type {\n",
       "        vertical-align: middle;\n",
       "    }\n",
       "\n",
       "    .dataframe tbody tr th {\n",
       "        vertical-align: top;\n",
       "    }\n",
       "\n",
       "    .dataframe thead th {\n",
       "        text-align: right;\n",
       "    }\n",
       "</style>\n",
       "<table border=\"1\" class=\"dataframe\">\n",
       "  <thead>\n",
       "    <tr style=\"text-align: right;\">\n",
       "      <th></th>\n",
       "      <th>phoneservice</th>\n",
       "      <th>multiplelines</th>\n",
       "    </tr>\n",
       "  </thead>\n",
       "  <tbody>\n",
       "    <tr>\n",
       "      <th>0</th>\n",
       "      <td>No</td>\n",
       "      <td>No phone service</td>\n",
       "    </tr>\n",
       "    <tr>\n",
       "      <th>3</th>\n",
       "      <td>No</td>\n",
       "      <td>No phone service</td>\n",
       "    </tr>\n",
       "    <tr>\n",
       "      <th>7</th>\n",
       "      <td>No</td>\n",
       "      <td>No phone service</td>\n",
       "    </tr>\n",
       "    <tr>\n",
       "      <th>20</th>\n",
       "      <td>No</td>\n",
       "      <td>No phone service</td>\n",
       "    </tr>\n",
       "    <tr>\n",
       "      <th>27</th>\n",
       "      <td>No</td>\n",
       "      <td>No phone service</td>\n",
       "    </tr>\n",
       "  </tbody>\n",
       "</table>\n",
       "</div>"
      ],
      "text/plain": [
       "   phoneservice     multiplelines\n",
       "0            No  No phone service\n",
       "3            No  No phone service\n",
       "7            No  No phone service\n",
       "20           No  No phone service\n",
       "27           No  No phone service"
      ]
     },
     "execution_count": 81,
     "metadata": {},
     "output_type": "execute_result"
    }
   ],
   "source": [
    "df[df.phoneservice == 'No'][['phoneservice', 'multiplelines']].head()"
   ]
  },
  {
   "cell_type": "markdown",
   "metadata": {},
   "source": [
    "<h3> Multiple lines is a complete package to subscribe to all services. Almost three thousand customers have subscribe multiple lines. Customers who do not subscribe to telephone service then on multiple lines data, the customer enters the 'No Phone Service' category.\n",
    "\n",
    "However, we see that customers who subscribe and do not subscribe to telephone services have the same potential for customer churn.\n",
    "</h3>"
   ]
  },
  {
   "cell_type": "markdown",
   "metadata": {},
   "source": [
    "* <strong>Percentage 'Churn or Not' by Internet Services<strong>"
   ]
  },
  {
   "cell_type": "code",
   "execution_count": 82,
   "metadata": {},
   "outputs": [
    {
     "data": {
      "text/plain": [
       "Fiber optic    3096\n",
       "DSL            2421\n",
       "No             1526\n",
       "Name: internetservice, dtype: int64"
      ]
     },
     "execution_count": 82,
     "metadata": {},
     "output_type": "execute_result"
    }
   ],
   "source": [
    "df['internetservice'].value_counts()"
   ]
  },
  {
   "cell_type": "code",
   "execution_count": 150,
   "metadata": {},
   "outputs": [
    {
     "data": {
      "image/png": "[encoded data removed]",
      "text/plain": [
       "<Figure size 1368x504 with 1 Axes>"
      ]
     },
     "metadata": {},
     "output_type": "display_data"
    }
   ],
   "source": [
    "plt.figure(figsize=(19, 7))\n",
    "\n",
    "fig = sns.countplot(x='internetservice', data=df, order=df.internetservice.value_counts().index, palette=colors2)\n",
    "for p in fig.patches:\n",
    "    height = p.get_height()\n",
    "    fig.text(p.get_x() + p.get_width() / 2.,\n",
    "             height + 3,\n",
    "             '{:1.0f}'.format(height),\n",
    "             ha=\"center\")\n",
    "\n",
    "plt.title('internetservice Count')\n",
    "plt.xlabel('internetservice')\n",
    "\n",
    "plt.show()"
   ]
  },
  {
   "cell_type": "markdown",
   "metadata": {},
   "source": [
    "- Customer paling banyak menggunakan Fiber Optic untuk layanan internet, sebanyak **3906** customer yang menggunakan fiber optic.\n",
    "- Customer yang menggunakan layanan DSL juga lumayan banyak **2421** \n",
    "- Customer yang tidak berlangganan layanan internet sebnayak **1526**\n"
   ]
  },
  {
   "cell_type": "code",
   "execution_count": 149,
   "metadata": {},
   "outputs": [
    {
     "data": {
      "image/png": "[encoded data removed]",
      "text/plain": [
       "<Figure size 1368x648 with 3 Axes>"
      ]
     },
     "metadata": {},
     "output_type": "display_data"
    }
   ],
   "source": [
    "plt.figure(figsize=(19, 9))\n",
    "\n",
    "plt.subplot(1, 3, 1)\n",
    "plt.pie(df[df.internetservice == 'DSL'].churn.value_counts(), labels=df[df.internetservice == 'DSL'].churn.value_counts().index, colors=colors2, autopct='%1.1f%%', explode=[0, 0.1])\n",
    "plt.title('Churn Percentage by Internet Service = DSL')\n",
    "plt.subplot(1, 3, 2)\n",
    "plt.pie(df[df.internetservice == 'Fiber optic'].churn.value_counts(), labels=df[df.internetservice == 'Fiber optic'].churn.value_counts().index, colors=colors2, autopct='%1.1f%%', explode=[0, 0.1])\n",
    "plt.title('Churn Percentage by Internet Service = Fiber Optic')\n",
    "plt.subplot(1, 3, 3)\n",
    "plt.pie(df[df.internetservice == 'No'].churn.value_counts(), labels=df[df.internetservice == 'No'].churn.value_counts().index, colors=colors2, autopct='%1.1f%%', explode=[0, 0.1])\n",
    "plt.title('Churn Percentage by Internet Service = No')\n",
    "plt.show()"
   ]
  },
  {
   "cell_type": "markdown",
   "metadata": {},
   "source": [
    "Perusahaan ini memiliki layanan internet berlangganan, ada DSL - FIBER OPTIC, jika kita lihat persentase diatas customer yang berlangganan internet FIBER OPTIC lebih besar persentase 'churn' nya jika dibandingkan dengan customer yang tidak berlangganan internet. \n",
    "Hal ini bisa jadi disebabkan jaringan koneksi internet yang lambat membuat pelanggan ingin berhenti dan pindah berlangganan menggunakan perusahaan lain."
   ]
  },
  {
   "cell_type": "markdown",
   "metadata": {},
   "source": [
    "<h3> There are two types of internet service options, Fiber Optic and DSL. Most of customers choosing fiber optic than DSL services. But, there are some customers who doesn’ to subscribe internet services.\n",
    "\n",
    "Customers who subscribe to internet services with fiber optic, turns out that the percentage of customer churn are bigger than DSL customers and those who do not subscribe to internet services.</h3>\n",
    "\n"
   ]
  },
  {
   "cell_type": "markdown",
   "metadata": {},
   "source": [
    "<h3>Next to other service, Streaming TV and Streaming Movies..</h3>"
   ]
  },
  {
   "cell_type": "markdown",
   "metadata": {},
   "source": [
    "<h3>PT. Telcos also provide entertainment services, yes cable tv. There are2 types of options,  streaming tv and streaming movies.</h3> "
   ]
  },
  {
   "cell_type": "markdown",
   "metadata": {},
   "source": [
    "* <strong>Percentage 'Churn or Not' by Streaming TV<strong>"
   ]
  },
  {
   "cell_type": "code",
   "execution_count": 144,
   "metadata": {},
   "outputs": [
    {
     "data": {
      "image/png": "[encoded data removed]",
      "text/plain": [
       "<Figure size 1368x504 with 1 Axes>"
      ]
     },
     "metadata": {},
     "output_type": "display_data"
    }
   ],
   "source": [
    "plt.figure(figsize=(19, 7))\n",
    "\n",
    "fig = sns.countplot(x='streamingtv', data=df, hue='churn', palette=colors2)\n",
    "for p in fig.patches:\n",
    "    height = p.get_height()\n",
    "    fig.text(p.get_x() + p.get_width() / 2., height + 0.005, '{:1.0f}'.format(height), ha=\"center\")\n",
    "plt.title('Streaming TV Count')\n",
    "plt.xlabel('Streaming TV')\n",
    "plt.ylabel('Count')\n",
    "\n",
    "plt.show()\n",
    "\n"
   ]
  },
  {
   "cell_type": "markdown",
   "metadata": {},
   "source": [
    "Dari customer yang berlangganan Streaming tv tidak terlalu significant persentase 'churn' atau 'no'"
   ]
  },
  {
   "cell_type": "markdown",
   "metadata": {},
   "source": [
    "* <strong>Percentage 'Churn or Not' by Streaming Movie<strong>"
   ]
  },
  {
   "cell_type": "code",
   "execution_count": 143,
   "metadata": {},
   "outputs": [
    {
     "data": {
      "image/png": "[encoded data removed]",
      "text/plain": [
       "<Figure size 1368x504 with 1 Axes>"
      ]
     },
     "metadata": {},
     "output_type": "display_data"
    }
   ],
   "source": [
    "plt.figure(figsize=(19, 7))\n",
    "\n",
    "fig = sns.countplot(x='streamingmovies', data=df, hue='churn', palette=colors2)\n",
    "for p in fig.patches:\n",
    "    height = p.get_height()\n",
    "    fig.text(p.get_x() + p.get_width() / 2., height + 0.005, '{:1.0f}'.format(height), ha=\"center\")\n",
    "plt.title('Streaming Movies Count')\n",
    "plt.xlabel('Streaming Movies')\n",
    "plt.ylabel('Count')\n",
    "\n",
    "plt.show()"
   ]
  },
  {
   "cell_type": "markdown",
   "metadata": {},
   "source": [
    "Dari customer yang berlangganan Streaming Movies juga tidak terlalu significant persentase 'churn' atau 'no', sama seperti customer yang berlangganan Streaming tv."
   ]
  },
  {
   "cell_type": "markdown",
   "metadata": {},
   "source": [
    "<h3>But, customers who subscribed and not subscribed, it doesn't really affect the potential for customer churn</h3>"
   ]
  },
  {
   "cell_type": "markdown",
   "metadata": {},
   "source": [
    "<h4>Next they have 4 categories that we will look at,</h4>\n"
   ]
  },
  {
   "cell_type": "markdown",
   "metadata": {},
   "source": [
    "* <strong>Online Security - Online Backup - Device Protection - Tech Support<strong>"
   ]
  },
  {
   "cell_type": "code",
   "execution_count": 87,
   "metadata": {},
   "outputs": [
    {
     "data": {
      "image/png": "[encoded data removed]",
      "text/plain": [
       "<Figure size 1368x504 with 4 Axes>"
      ]
     },
     "metadata": {},
     "output_type": "display_data"
    }
   ],
   "source": [
    "plt.figure(figsize=(19, 7))\n",
    "\n",
    "plt.subplot(1, 4, 1)\n",
    "fig = sns.countplot(x='onlinesecurity', data=df, palette=colors2, hue='churn')\n",
    "for p in fig.patches:\n",
    "    height = p.get_height()\n",
    "    fig.text(p.get_x() + p.get_width() / 2., height + 0.005, '{:1.0f}'.format(height), ha=\"center\")\n",
    "plt.title('Online Security Count')\n",
    "plt.xlabel('Online Security')\n",
    "plt.ylabel('Count')\n",
    "\n",
    "plt.subplot(1, 4, 2)\n",
    "fig = sns.countplot(x='onlinebackup', data=df, hue='churn', palette=colors2, order=df.onlinebackup.value_counts().index)\n",
    "for p in fig.patches:\n",
    "    height = p.get_height()\n",
    "    fig.text(p.get_x() + p.get_width() / 2., height + 0.005, '{:1.0f}'.format(height), ha=\"center\")\n",
    "plt.title('Online Backup Count')\n",
    "plt.xlabel('Online Backup')\n",
    "plt.ylabel('Count')\n",
    "\n",
    "plt.subplot(1, 4, 3)\n",
    "fig = sns.countplot(x='deviceprotection', data=df, palette=colors2, hue='churn')\n",
    "for p in fig.patches:\n",
    "    height = p.get_height()\n",
    "    fig.text(p.get_x() + p.get_width() / 2., height + 0.005, '{:1.0f}'.format(height), ha=\"center\")\n",
    "plt.title('Device Protection Count')\n",
    "plt.xlabel('Device Protection')\n",
    "plt.ylabel('Count')\n",
    "\n",
    "plt.subplot(1, 4, 4)\n",
    "fig = sns.countplot(x='techsupport', data=df, palette=colors2, hue='churn')\n",
    "for p in fig.patches:\n",
    "    height = p.get_height()\n",
    "    fig.text(p.get_x() + p.get_width() / 2., height + 0.005, '{:1.0f}'.format(height),  ha=\"center\")\n",
    "plt.title('Tech Support Count')\n",
    "plt.xlabel('Tech Support')\n",
    "plt.ylabel('Count')\n",
    "\n",
    "plt.show()"
   ]
  },
  {
   "cell_type": "markdown",
   "metadata": {},
   "source": [
    "Jika kita lihat persentase diatas dapat diketahui bahwa customer yang tidak berlangganan 'online security', 'online backup', 'device protection', dan 'tech support' lebih berpotensi 'churn' jika di bandingkan customer yang ikut berlangganan"
   ]
  },
  {
   "cell_type": "markdown",
   "metadata": {},
   "source": [
    "<h3>As we can see the percentage about it, customers who doesn’t subscribe ‘online security’ - ‘online backup’ - \n",
    "‘Device protection’ - and ‘tech support’ have a higher percentage to customer churn.</h3>"
   ]
  },
  {
   "cell_type": "markdown",
   "metadata": {},
   "source": [
    "* <strong>Customer Contract<strong>"
   ]
  },
  {
   "cell_type": "code",
   "execution_count": 142,
   "metadata": {},
   "outputs": [
    {
     "data": {
      "image/png": "[encoded data removed]",
      "text/plain": [
       "<Figure size 1368x504 with 1 Axes>"
      ]
     },
     "metadata": {},
     "output_type": "display_data"
    }
   ],
   "source": [
    "plt.figure(figsize=(19, 7))\n",
    "\n",
    "fig = sns.countplot(x='contract', data=df, hue='churn', palette=colors2)\n",
    "for p in fig.patches:\n",
    "    height = p.get_height()\n",
    "    fig.text(p.get_x() + p.get_width() / 2., height + 0.005, '{:1.0f}'.format(height), ha=\"center\")\n",
    "\n",
    "plt.title('Contract Count')\n",
    "plt.xlabel('Contract')\n",
    "plt.ylabel('Count')\n",
    "\n",
    "plt.show()"
   ]
  },
  {
   "cell_type": "markdown",
   "metadata": {},
   "source": [
    "Kebanyakan dari customer yang berpotensi 'customer churn' adalah customer yang melakukan pembayaran per bulan, sedangkan customer yang membayar biaya layanan per-tahun itu sangat kecil untuk 'churn'"
   ]
  },
  {
   "cell_type": "markdown",
   "metadata": {},
   "source": [
    "<h4> --> Most of customers who have the potential for 'customer churn' who make monthly payments, \n",
    "\n",
    "while customers who pay service charge by year are the least for 'churn'. </h4>"
   ]
  },
  {
   "cell_type": "markdown",
   "metadata": {},
   "source": [
    "* <strong>Paperless Billing<strong>"
   ]
  },
  {
   "cell_type": "code",
   "execution_count": 141,
   "metadata": {},
   "outputs": [
    {
     "data": {
      "image/png": "[encoded data removed]",
      "text/plain": [
       "<Figure size 1368x504 with 1 Axes>"
      ]
     },
     "metadata": {},
     "output_type": "display_data"
    }
   ],
   "source": [
    "plt.figure(figsize=(19, 7))\n",
    "\n",
    "fig = sns.countplot(x='paperlessbilling', data=df, hue='churn', palette=colors2)\n",
    "for p in fig.patches:\n",
    "    height = p.get_height()\n",
    "    fig.text(p.get_x() + p.get_width() / 2., height + 0.005, '{:1.0f}'.format(height), ha=\"center\")\n",
    "plt.title('Paperless Billing Count')\n",
    "plt.xlabel('Paperless Billing')\n",
    "plt.ylabel('Count')\n",
    "\n",
    "plt.show()"
   ]
  },
  {
   "cell_type": "markdown",
   "metadata": {},
   "source": [
    "Jika dilihat dari 'payment method' customer yang menggunakan paperless billing hampir setengahnya berpotensi 'customer churn'"
   ]
  },
  {
   "cell_type": "markdown",
   "metadata": {},
   "source": [
    "<h4> --> As we can see from 'paperless billing', customers who choose paperless billing, \n",
    "\n",
    "almost half of them have the potential for 'customer churn'. </h4>"
   ]
  },
  {
   "cell_type": "markdown",
   "metadata": {},
   "source": [
    "* <strong>Payment Method<strong>"
   ]
  },
  {
   "cell_type": "markdown",
   "metadata": {},
   "source": [
    "<h4> There are 4 types of billing payment method options: </h4>"
   ]
  },
  {
   "cell_type": "code",
   "execution_count": 156,
   "metadata": {},
   "outputs": [
    {
     "data": {
      "image/png": "[encoded data removed]",
      "text/plain": [
       "<Figure size 1368x504 with 1 Axes>"
      ]
     },
     "metadata": {},
     "output_type": "display_data"
    }
   ],
   "source": [
    "plt.figure(figsize=(19, 7))\n",
    "\n",
    "fig = sns.countplot(x='paymentmethod', data=df, hue='churn', palette=colors2)\n",
    "for p in fig.patches:\n",
    "    height = p.get_height()\n",
    "    fig.text(p.get_x() + p.get_width() / 2., height + 0.005, '{:1.0f}'.format(height), ha=\"center\")\n",
    "plt.title('Payment Method Count')\n",
    "plt.xlabel('Payment Method')\n",
    "fig.set_xticklabels(['Electronic check', 'Mailed check', 'Bank transfer', 'Credit card'])\n",
    "plt.ylabel('Count')\n",
    "\n",
    "plt.show()"
   ]
  },
  {
   "cell_type": "markdown",
   "metadata": {},
   "source": [
    "Metode pembayaran dengan potensi 'customer churn' paling tinggi adalah customer yang menggunakan metode pembayaran 'Electronic check' sedangkan untuk metode pembayaran lain tidak ada perbedaan yang significant."
   ]
  },
  {
   "cell_type": "markdown",
   "metadata": {},
   "source": [
    "<h4> --> The highest potential for 'customer churn' from payment method is customer who choose the 'Electronic check', while for other payment methods there's no significant difference. </h4>"
   ]
  },
  {
   "cell_type": "code",
   "execution_count": 88,
   "metadata": {},
   "outputs": [
    {
     "data": {
      "text/plain": [
       "Text(0.5, 1.0, 'Correlation Matrix')"
      ]
     },
     "execution_count": 88,
     "metadata": {},
     "output_type": "execute_result"
    },
    {
     "data": {
      "image/png": "[encoded data removed]",
      "text/plain": [
       "<Figure size 1800x504 with 2 Axes>"
      ]
     },
     "metadata": {},
     "output_type": "display_data"
    }
   ],
   "source": [
    "plt.figure(figsize=(25, 7))\n",
    "sns.heatmap(pd.concat([df, pd.get_dummies(df.churn)], axis=1).corr(), annot=True, cmap='Pastel1_r')\n",
    "plt.title('Correlation Matrix')"
   ]
  },
  {
   "cell_type": "code",
   "execution_count": 89,
   "metadata": {},
   "outputs": [
    {
     "data": {
      "image/png": "[encoded data removed]",
      "text/plain": [
       "<Figure size 1440x1080 with 4 Axes>"
      ]
     },
     "metadata": {},
     "output_type": "display_data"
    }
   ],
   "source": [
    "#histogram of all the features \n",
    "\n",
    "df.hist(bins=50, figsize=(20,15),color='pink',alpha=0.7)\n",
    "plt.show()"
   ]
  },
  {
   "cell_type": "markdown",
   "metadata": {},
   "source": [
    "Kolom 'monthly charge' dan 'total charge' diatas terlihat distribusi nya **skewed** "
   ]
  },
  {
   "cell_type": "markdown",
   "metadata": {},
   "source": [
    "### <strong>Data Preprocessing<strong>\n",
    "\n",
    "##### Bagian ini berisi proses penyiapan data untuk proses pelatihan model, seperti pembagian data menjadi train-dev-test, transformasi data (normalisasi, encoding, dll.), dan proses-proses lain yang dibutuhkan.\n",
    "---"
   ]
  },
  {
   "cell_type": "markdown",
   "metadata": {},
   "source": [
    "Merubah kolom categorical pada **'churn'** dengan nilai pada label 0 dan 1 untuk memudahkan dalam proses evaluasi model."
   ]
  },
  {
   "cell_type": "markdown",
   "metadata": {},
   "source": [
    "--> Changed the categorical column in **'churn'** with values on labels 0 and 1 to facilitate the model evaluation process."
   ]
  },
  {
   "cell_type": "code",
   "execution_count": 90,
   "metadata": {},
   "outputs": [],
   "source": [
    "df['churn'] = np.where(df['churn']=='Yes', 1, 0)"
   ]
  },
  {
   "cell_type": "markdown",
   "metadata": {},
   "source": [
    "##### Spliting Data"
   ]
  },
  {
   "cell_type": "markdown",
   "metadata": {},
   "source": [
    "<h4>In this section I will do data splitting, I split to 3 categories. \n",
    "Data training-set, validation set and test-set;\n",
    "\n",
    "- **70%** data **training-set**\n",
    "- **20%** data **validation-set**\n",
    "- **10%** data **testing-set**</h4>"
   ]
  },
  {
   "cell_type": "markdown",
   "metadata": {},
   "source": [
    "Pada bagian ini akan dilakukan **Spliting Data** yang akan menjadi (training-set, validation-set, dan testing-set) \n",
    "dengan perbandingan [7 - 2 - 1] :\n",
    "\n",
    "- **70%** data **training-set**\n",
    "- **20%** data **validation-set**\n",
    "- **10%** data **testing-set**"
   ]
  },
  {
   "cell_type": "code",
   "execution_count": 91,
   "metadata": {},
   "outputs": [],
   "source": [
    "df_train_val, df_test = train_test_split(df, test_size=0.1, random_state=25, stratify=df.churn)\n",
    "df_train, df_val = train_test_split(df_train_val, test_size=0.2, random_state=25, stratify=df_train_val.churn)"
   ]
  },
  {
   "cell_type": "code",
   "execution_count": 92,
   "metadata": {},
   "outputs": [],
   "source": [
    "df_train = df_train.dropna()\n",
    "df_val = df_val.dropna()"
   ]
  },
  {
   "cell_type": "code",
   "execution_count": 93,
   "metadata": {},
   "outputs": [],
   "source": [
    "# Data Training \n",
    "X_train = df_train.drop(['churn'], axis=1) \n",
    "y_train = df_train['churn']\n",
    "\n",
    "# Data Validation\n",
    "X_val = df_val.drop(['churn'], axis=1) \n",
    "y_val = df_val['churn'] "
   ]
  },
  {
   "cell_type": "code",
   "execution_count": 94,
   "metadata": {},
   "outputs": [],
   "source": [
    "X_train.reset_index(drop=True, inplace=True)\n",
    "X_val.reset_index(drop=True, inplace=True)"
   ]
  },
  {
   "cell_type": "markdown",
   "metadata": {},
   "source": [
    "##### Checking Outliers"
   ]
  },
  {
   "cell_type": "code",
   "execution_count": 95,
   "metadata": {},
   "outputs": [],
   "source": [
    "preprocess_table = pd.DataFrame({'columns' : X_train.describe().columns, 'skew' : X_train.skew(axis=0)})\n",
    "preprocess_table.reset_index(drop=True, inplace=True)\n",
    "\n",
    "preprocess_table['status'] = np.where(preprocess_table['skew'].abs()>0.5, 'Skewed', 'Normal')"
   ]
  },
  {
   "cell_type": "code",
   "execution_count": 96,
   "metadata": {},
   "outputs": [
    {
     "data": {
      "text/html": [
       "<div>\n",
       "<style scoped>\n",
       "    .dataframe tbody tr th:only-of-type {\n",
       "        vertical-align: middle;\n",
       "    }\n",
       "\n",
       "    .dataframe tbody tr th {\n",
       "        vertical-align: top;\n",
       "    }\n",
       "\n",
       "    .dataframe thead th {\n",
       "        text-align: right;\n",
       "    }\n",
       "</style>\n",
       "<table border=\"1\" class=\"dataframe\">\n",
       "  <thead>\n",
       "    <tr style=\"text-align: right;\">\n",
       "      <th></th>\n",
       "      <th>columns</th>\n",
       "      <th>skew</th>\n",
       "      <th>status</th>\n",
       "    </tr>\n",
       "  </thead>\n",
       "  <tbody>\n",
       "    <tr>\n",
       "      <th>0</th>\n",
       "      <td>tenure</td>\n",
       "      <td>0.229541</td>\n",
       "      <td>Normal</td>\n",
       "    </tr>\n",
       "    <tr>\n",
       "      <th>1</th>\n",
       "      <td>monthlycharges</td>\n",
       "      <td>-0.228665</td>\n",
       "      <td>Normal</td>\n",
       "    </tr>\n",
       "    <tr>\n",
       "      <th>2</th>\n",
       "      <td>totalcharges</td>\n",
       "      <td>0.955787</td>\n",
       "      <td>Skewed</td>\n",
       "    </tr>\n",
       "  </tbody>\n",
       "</table>\n",
       "</div>"
      ],
      "text/plain": [
       "          columns      skew  status\n",
       "0          tenure  0.229541  Normal\n",
       "1  monthlycharges -0.228665  Normal\n",
       "2    totalcharges  0.955787  Skewed"
      ]
     },
     "execution_count": 96,
     "metadata": {},
     "output_type": "execute_result"
    }
   ],
   "source": [
    "preprocess_table"
   ]
  },
  {
   "cell_type": "markdown",
   "metadata": {},
   "source": [
    "'total charges' column is skewed"
   ]
  },
  {
   "cell_type": "code",
   "execution_count": 97,
   "metadata": {},
   "outputs": [],
   "source": [
    "def find_normal_boundaries(db, variable):\n",
    "    upper_boundary = db[variable].mean() + 3 * db[variable].std()\n",
    "    lower_boundary = db[variable].mean() - 3 * db[variable].std()\n",
    "\n",
    "    return upper_boundary, lower_boundary\n",
    "\n",
    "def find_skewed_boundaries(db, variable, distance):\n",
    "    IQR = db[variable].quantile(0.75) - db[variable].quantile(0.25)\n",
    "\n",
    "    lower = db[variable].quantile(0.25) - distance * IQR\n",
    "    upper = db[variable].quantile(0.75) + distance * IQR\n",
    "\n",
    "    return upper, lower"
   ]
  },
  {
   "cell_type": "code",
   "execution_count": 98,
   "metadata": {},
   "outputs": [],
   "source": [
    "# Function to create histogram and boxplot for each features\n",
    "\n",
    "def diagnostic_plots(df, df_trim, variable):\n",
    "    #Define figure size\n",
    "    plt.figure(figsize=(16,4))\n",
    "\n",
    "    #Histogram\n",
    "    plt.subplot(1, 3, 1)\n",
    "    sns.histplot(df_trim[variable], bins=30, kde=True, color='#006699')\n",
    "    plt.title(f'Histogram of {variable}')\n",
    "\n",
    "    #Boxplot Before\n",
    "    plt.subplot(1,3, 2)\n",
    "    sns.boxplot(y=df[variable])\n",
    "    plt.title(f'Before Handling in {variable}')\n",
    "\n",
    "    #Boxplot After\n",
    "    plt.subplot(1,3, 3)\n",
    "    sns.boxplot(y=df_trim[variable])\n",
    "    plt.title(f'After Handling in {variable}')\n",
    "\n",
    "    plt.show()"
   ]
  },
  {
   "cell_type": "code",
   "execution_count": 99,
   "metadata": {},
   "outputs": [
    {
     "name": "stdout",
     "output_type": "stream",
     "text": [
      "Batas lower dan upper untuk tenure:(-61.125, 125.875)\n",
      "==============================\n",
      "Batas lower dan upper untuk monthlycharges:(-46.16874999999999, 171.78125)\n",
      "==============================\n",
      "Batas lower dan upper untuk totalcharges:(-4692.0375, 8911.1625)\n",
      "==============================\n"
     ]
    }
   ],
   "source": [
    "j = 0\n",
    "outlier_limit={}\n",
    "for i in X_train.describe().columns:\n",
    "    if preprocess_table['skew'].loc[(preprocess_table['columns']==i)].values[0]== 'Normal':\n",
    "        upper_boundary, lower_boundary = find_normal_boundaries(X_train, i)\n",
    "        print(f\"Batas lower dan upper untuk {i}:{lower_boundary, upper_boundary}\")\n",
    "        outlier_limit[f\"outliers{j}\"] = np.where(X_train[i] > upper_boundary, True, np.where(X_train[i] < lower_boundary, True, False))\n",
    "    else:\n",
    "        upper_boundary, lower_boundary = find_skewed_boundaries(X_train, i, 1.5)\n",
    "        print(f\"Batas lower dan upper untuk {i}:{lower_boundary, upper_boundary}\")\n",
    "        outlier_limit[f\"outliers{j}\"] = np.where(X_train[i] > upper_boundary, True, np.where(X_train[i] < lower_boundary, True, False))\n",
    "    print(\"=\"*30)\n",
    "    j+=1"
   ]
  },
  {
   "cell_type": "code",
   "execution_count": 100,
   "metadata": {},
   "outputs": [],
   "source": [
    "for i, (k, v) in enumerate(outlier_limit.items()):\n",
    "    X_train_trimmed_sim = X_train.loc[~outlier_limit[k]]\n",
    "    preprocess_table.loc[i,'trimmed_row'] = X_train.shape[0] - X_train_trimmed_sim.shape[0]\n",
    "    preprocess_table.loc[i,'percentage'] = np.round(100-(X_train_trimmed_sim.shape[0]/X_train.shape[0]*100), 2)\n",
    "    preprocess_table.loc[i,'action'] = np.where(preprocess_table.loc[i,'percentage']>15, 'Keep', \n",
    "                                        np.where(preprocess_table.loc[i,'percentage']>5, 'Capping', np.where(preprocess_table.loc[i,'percentage']>0, 'Trim', 'None')))"
   ]
  },
  {
   "cell_type": "markdown",
   "metadata": {},
   "source": [
    "<h4> 3 ways to handle outliers;\n",
    "\n",
    "- If Outliers less than <5% will be handling by trimming method\n",
    "- If Outliers 5%-15% will be handling by capping method\n",
    "- Outliers will be kept if less than >15% </h4>"
   ]
  },
  {
   "cell_type": "code",
   "execution_count": 101,
   "metadata": {},
   "outputs": [
    {
     "data": {
      "text/html": [
       "<div>\n",
       "<style scoped>\n",
       "    .dataframe tbody tr th:only-of-type {\n",
       "        vertical-align: middle;\n",
       "    }\n",
       "\n",
       "    .dataframe tbody tr th {\n",
       "        vertical-align: top;\n",
       "    }\n",
       "\n",
       "    .dataframe thead th {\n",
       "        text-align: right;\n",
       "    }\n",
       "</style>\n",
       "<table border=\"1\" class=\"dataframe\">\n",
       "  <thead>\n",
       "    <tr style=\"text-align: right;\">\n",
       "      <th></th>\n",
       "      <th>columns</th>\n",
       "      <th>skew</th>\n",
       "      <th>status</th>\n",
       "      <th>trimmed_row</th>\n",
       "      <th>percentage</th>\n",
       "      <th>action</th>\n",
       "    </tr>\n",
       "  </thead>\n",
       "  <tbody>\n",
       "    <tr>\n",
       "      <th>0</th>\n",
       "      <td>tenure</td>\n",
       "      <td>0.229541</td>\n",
       "      <td>Normal</td>\n",
       "      <td>0.0</td>\n",
       "      <td>0.0</td>\n",
       "      <td>None</td>\n",
       "    </tr>\n",
       "    <tr>\n",
       "      <th>1</th>\n",
       "      <td>monthlycharges</td>\n",
       "      <td>-0.228665</td>\n",
       "      <td>Normal</td>\n",
       "      <td>0.0</td>\n",
       "      <td>0.0</td>\n",
       "      <td>None</td>\n",
       "    </tr>\n",
       "    <tr>\n",
       "      <th>2</th>\n",
       "      <td>totalcharges</td>\n",
       "      <td>0.955787</td>\n",
       "      <td>Skewed</td>\n",
       "      <td>0.0</td>\n",
       "      <td>0.0</td>\n",
       "      <td>None</td>\n",
       "    </tr>\n",
       "  </tbody>\n",
       "</table>\n",
       "</div>"
      ],
      "text/plain": [
       "          columns      skew  status  trimmed_row  percentage action\n",
       "0          tenure  0.229541  Normal          0.0         0.0   None\n",
       "1  monthlycharges -0.228665  Normal          0.0         0.0   None\n",
       "2    totalcharges  0.955787  Skewed          0.0         0.0   None"
      ]
     },
     "execution_count": 101,
     "metadata": {},
     "output_type": "execute_result"
    }
   ],
   "source": [
    "preprocess_table"
   ]
  },
  {
   "cell_type": "code",
   "execution_count": 102,
   "metadata": {},
   "outputs": [
    {
     "data": {
      "image/png": "[encoded data removed]",
      "text/plain": [
       "<Figure size 1152x288 with 3 Axes>"
      ]
     },
     "metadata": {},
     "output_type": "display_data"
    },
    {
     "data": {
      "image/png": "[encoded data removed]",
      "text/plain": [
       "<Figure size 1152x288 with 3 Axes>"
      ]
     },
     "metadata": {},
     "output_type": "display_data"
    },
    {
     "data": {
      "image/png": "[encoded data removed]",
      "text/plain": [
       "<Figure size 1152x288 with 3 Axes>"
      ]
     },
     "metadata": {},
     "output_type": "display_data"
    }
   ],
   "source": [
    "for i in X_train.describe().columns:\n",
    "    diagnostic_plots(X_train, X_train, i)"
   ]
  },
  {
   "cell_type": "markdown",
   "metadata": {},
   "source": [
    "<h4> In the 'total_charges' column, the skewness value is 0.9, so the outliers will be kept and will not handle outliers. then I will skip this section.</h4>"
   ]
  },
  {
   "cell_type": "markdown",
   "metadata": {},
   "source": [
    "Untuk menghandle outliers akan dilakukan dengan cara:\n",
    "\n",
    "- Outliers <5% akan dilakukan dengan metode trimming\n",
    "- Outliers 5%-15% akan dilakukan dengan metode capping\n",
    "- Outliers akan di 'keep' atau dibiarkan apabila berada >15%\n",
    "\n",
    "Namun karena tidak ada outliers yang perlu di handling, maka saya akan melewatkan tahap ini."
   ]
  },
  {
   "cell_type": "markdown",
   "metadata": {},
   "source": [
    "##### Feature Selection"
   ]
  },
  {
   "cell_type": "code",
   "execution_count": 103,
   "metadata": {},
   "outputs": [
    {
     "data": {
      "text/plain": [
       "['tenure', 'monthlycharges', 'totalcharges']"
      ]
     },
     "execution_count": 103,
     "metadata": {},
     "output_type": "execute_result"
    }
   ],
   "source": [
    "X_train.select_dtypes(include=np.number).columns.tolist()"
   ]
  },
  {
   "cell_type": "code",
   "execution_count": 104,
   "metadata": {},
   "outputs": [
    {
     "data": {
      "text/plain": [
       "['gender',\n",
       " 'seniorcitizen',\n",
       " 'partner',\n",
       " 'dependents',\n",
       " 'phoneservice',\n",
       " 'multiplelines',\n",
       " 'internetservice',\n",
       " 'onlinesecurity',\n",
       " 'onlinebackup',\n",
       " 'deviceprotection',\n",
       " 'techsupport',\n",
       " 'streamingtv',\n",
       " 'streamingmovies',\n",
       " 'contract',\n",
       " 'paperlessbilling',\n",
       " 'paymentmethod']"
      ]
     },
     "execution_count": 104,
     "metadata": {},
     "output_type": "execute_result"
    }
   ],
   "source": [
    "X_train.select_dtypes(include='object').columns.tolist()"
   ]
  },
  {
   "cell_type": "markdown",
   "metadata": {},
   "source": [
    "### <strong>Model Definition<strong>\n",
    "\n",
    "##### Bagian ini berisi cell untuk mendefinisikan model. Jelaskan alasan menggunakan suatu algoritma/model, hyperparameter yang dipakai, jenis penggunaan metrics yang dipakai, dan hal lain yang terkait dengan model.\n",
    "---"
   ]
  },
  {
   "cell_type": "markdown",
   "metadata": {},
   "source": [
    "##### Build Pipeline"
   ]
  },
  {
   "cell_type": "markdown",
   "metadata": {},
   "source": [
    "<h3>Input 'feature scaling' and 'feature encoding' into the pipeline:\n",
    "- **Feature Scaling** using **StandardScaler**\n",
    "- **Feature Encoding** using **OneHotEncoder**</h3>"
   ]
  },
  {
   "cell_type": "markdown",
   "metadata": {},
   "source": [
    "Meng-input 'feature scaling' dan 'feature encoding' ke dalam pipeline:\n",
    "- **Feature Scaling** menggunakan **StandardScaler**\n",
    "- **Feature Encoding** menggunakan **OneHotEncoder**"
   ]
  },
  {
   "cell_type": "code",
   "execution_count": 105,
   "metadata": {},
   "outputs": [],
   "source": [
    "num_pipe = Pipeline([\n",
    "    ('scaling', StandardScaler())\n",
    "])\n",
    "\n",
    "cat_pipe =  Pipeline([\n",
    "    ('encoded', OneHotEncoder())\n",
    "])\n",
    "\n",
    "preprocessor = ColumnTransformer([\n",
    "    ('num', num_pipe, X_train.select_dtypes(include=['float64', 'int64']).columns),\n",
    "    ('cat', cat_pipe, X_train.select_dtypes(include=['object']).columns)\n",
    "])"
   ]
  },
  {
   "cell_type": "code",
   "execution_count": 106,
   "metadata": {},
   "outputs": [],
   "source": [
    "X_train = preprocessor.fit_transform(X_train)\n",
    "X_val = preprocessor.transform(X_val)"
   ]
  },
  {
   "cell_type": "code",
   "execution_count": 107,
   "metadata": {},
   "outputs": [
    {
     "name": "stdout",
     "output_type": "stream",
     "text": [
      "Jumlah Features: 46\n"
     ]
    }
   ],
   "source": [
    "print(f'Jumlah Features: {X_train.shape[1]}')"
   ]
  },
  {
   "cell_type": "code",
   "execution_count": 108,
   "metadata": {},
   "outputs": [
    {
     "name": "stdout",
     "output_type": "stream",
     "text": [
      "Jumlah Features: 46\n"
     ]
    }
   ],
   "source": [
    "print(f'Jumlah Features: {X_val.shape[1]}')"
   ]
  },
  {
   "cell_type": "markdown",
   "metadata": {},
   "source": [
    "##### Input pipeline"
   ]
  },
  {
   "cell_type": "code",
   "execution_count": 109,
   "metadata": {},
   "outputs": [
    {
     "name": "stderr",
     "output_type": "stream",
     "text": [
      "2022-04-18 22:23:46.945294: I tensorflow/core/platform/cpu_feature_guard.cc:151] This TensorFlow binary is optimized with oneAPI Deep Neural Network Library (oneDNN) to use the following CPU instructions in performance-critical operations:  AVX2 FMA\n",
      "To enable them in other operations, rebuild TensorFlow with the appropriate compiler flags.\n"
     ]
    }
   ],
   "source": [
    "# Training Dataset\n",
    "train_dataset = tf.data.Dataset.from_tensor_slices((X_train, y_train)).shuffle(10000).batch(23)\n",
    "\n",
    "#Validation Dataset\n",
    "val_dataset = tf.data.Dataset.from_tensor_slices((X_val, y_val)).shuffle(10000).batch(23)"
   ]
  },
  {
   "cell_type": "markdown",
   "metadata": {},
   "source": [
    "### <strong>Model Training<strong>\n",
    "\n",
    "##### Cell pada bagian ini hanya berisi code untuk melatih model dan output yang dihasilkan. Lakukan beberapa kali proses training dengan hyperparameter yang berbeda untuk melihat hasil yang didapatkan. Analisis dan narasikan hasil ini pada bagian Model Evaluation.\n",
    "---"
   ]
  },
  {
   "cell_type": "code",
   "execution_count": 110,
   "metadata": {},
   "outputs": [],
   "source": [
    "from tensorflow.keras.models import Sequential\n",
    "from tensorflow.keras.layers import Dense"
   ]
  },
  {
   "cell_type": "markdown",
   "metadata": {},
   "source": [
    "##### Sequential API"
   ]
  },
  {
   "cell_type": "code",
   "execution_count": 111,
   "metadata": {},
   "outputs": [
    {
     "name": "stdout",
     "output_type": "stream",
     "text": [
      "Epoch 1/100\n",
      "159/159 [==============================] - 1s 3ms/step - loss: 0.6219 - accuracy: 0.6799 - val_loss: 0.4846 - val_accuracy: 0.7618\n",
      "Epoch 2/100\n",
      "159/159 [==============================] - 0s 2ms/step - loss: 0.4386 - accuracy: 0.8004 - val_loss: 0.4393 - val_accuracy: 0.7997\n",
      "Epoch 3/100\n",
      "159/159 [==============================] - 0s 2ms/step - loss: 0.4251 - accuracy: 0.8014 - val_loss: 0.4361 - val_accuracy: 0.7973\n",
      "Epoch 4/100\n",
      "159/159 [==============================] - 0s 2ms/step - loss: 0.4184 - accuracy: 0.8063 - val_loss: 0.4335 - val_accuracy: 0.7989\n",
      "Epoch 5/100\n",
      "159/159 [==============================] - 0s 2ms/step - loss: 0.4152 - accuracy: 0.8051 - val_loss: 0.4337 - val_accuracy: 0.7981\n",
      "Epoch 6/100\n",
      "159/159 [==============================] - 0s 3ms/step - loss: 0.4128 - accuracy: 0.8043 - val_loss: 0.4328 - val_accuracy: 0.8036\n",
      "Epoch 7/100\n",
      "159/159 [==============================] - 0s 2ms/step - loss: 0.4128 - accuracy: 0.8047 - val_loss: 0.4323 - val_accuracy: 0.7997\n",
      "Epoch 8/100\n",
      "159/159 [==============================] - 0s 2ms/step - loss: 0.4107 - accuracy: 0.8075 - val_loss: 0.4322 - val_accuracy: 0.8005\n",
      "Epoch 9/100\n",
      "159/159 [==============================] - 0s 2ms/step - loss: 0.4104 - accuracy: 0.8069 - val_loss: 0.4322 - val_accuracy: 0.8028\n",
      "Epoch 10/100\n",
      "159/159 [==============================] - 0s 2ms/step - loss: 0.4104 - accuracy: 0.8059 - val_loss: 0.4306 - val_accuracy: 0.8021\n",
      "Epoch 11/100\n",
      "159/159 [==============================] - 0s 3ms/step - loss: 0.4085 - accuracy: 0.8073 - val_loss: 0.4321 - val_accuracy: 0.8005\n",
      "Epoch 12/100\n",
      "159/159 [==============================] - 0s 3ms/step - loss: 0.4073 - accuracy: 0.8061 - val_loss: 0.4338 - val_accuracy: 0.8036\n",
      "Epoch 13/100\n",
      "159/159 [==============================] - 1s 4ms/step - loss: 0.4072 - accuracy: 0.8093 - val_loss: 0.4339 - val_accuracy: 0.7997\n",
      "Epoch 14/100\n",
      "159/159 [==============================] - 0s 3ms/step - loss: 0.4072 - accuracy: 0.8063 - val_loss: 0.4333 - val_accuracy: 0.8005\n",
      "Epoch 15/100\n",
      "159/159 [==============================] - 0s 2ms/step - loss: 0.4068 - accuracy: 0.8071 - val_loss: 0.4321 - val_accuracy: 0.8036\n",
      "Epoch 16/100\n",
      "159/159 [==============================] - 0s 2ms/step - loss: 0.4066 - accuracy: 0.8105 - val_loss: 0.4334 - val_accuracy: 0.7981\n",
      "Epoch 17/100\n",
      "159/159 [==============================] - 0s 2ms/step - loss: 0.4065 - accuracy: 0.8079 - val_loss: 0.4336 - val_accuracy: 0.8005\n",
      "Epoch 18/100\n",
      "159/159 [==============================] - 0s 2ms/step - loss: 0.4051 - accuracy: 0.8097 - val_loss: 0.4330 - val_accuracy: 0.8005\n",
      "Epoch 19/100\n",
      "159/159 [==============================] - 0s 2ms/step - loss: 0.4047 - accuracy: 0.8101 - val_loss: 0.4373 - val_accuracy: 0.7965\n",
      "Epoch 20/100\n",
      "159/159 [==============================] - 0s 2ms/step - loss: 0.4045 - accuracy: 0.8105 - val_loss: 0.4352 - val_accuracy: 0.7965\n",
      "Epoch 21/100\n",
      "159/159 [==============================] - 0s 2ms/step - loss: 0.4040 - accuracy: 0.8089 - val_loss: 0.4356 - val_accuracy: 0.7989\n",
      "Epoch 22/100\n",
      "159/159 [==============================] - 0s 2ms/step - loss: 0.4042 - accuracy: 0.8101 - val_loss: 0.4336 - val_accuracy: 0.8036\n",
      "Epoch 23/100\n",
      "159/159 [==============================] - 0s 3ms/step - loss: 0.4035 - accuracy: 0.8087 - val_loss: 0.4363 - val_accuracy: 0.7926\n",
      "Epoch 24/100\n",
      "159/159 [==============================] - 0s 2ms/step - loss: 0.4046 - accuracy: 0.8097 - val_loss: 0.4334 - val_accuracy: 0.7989\n",
      "Epoch 25/100\n",
      "159/159 [==============================] - 0s 2ms/step - loss: 0.4028 - accuracy: 0.8093 - val_loss: 0.4342 - val_accuracy: 0.8021\n",
      "Epoch 26/100\n",
      "159/159 [==============================] - 0s 2ms/step - loss: 0.4036 - accuracy: 0.8107 - val_loss: 0.4329 - val_accuracy: 0.8060\n",
      "Epoch 27/100\n",
      "159/159 [==============================] - 0s 3ms/step - loss: 0.4019 - accuracy: 0.8134 - val_loss: 0.4344 - val_accuracy: 0.8005\n",
      "Epoch 28/100\n",
      "159/159 [==============================] - 0s 2ms/step - loss: 0.4012 - accuracy: 0.8128 - val_loss: 0.4336 - val_accuracy: 0.8005\n",
      "Epoch 29/100\n",
      "159/159 [==============================] - 0s 3ms/step - loss: 0.4013 - accuracy: 0.8122 - val_loss: 0.4333 - val_accuracy: 0.8021\n",
      "Epoch 30/100\n",
      "159/159 [==============================] - 1s 3ms/step - loss: 0.4010 - accuracy: 0.8144 - val_loss: 0.4330 - val_accuracy: 0.8013\n",
      "Epoch 31/100\n",
      "159/159 [==============================] - 0s 3ms/step - loss: 0.4012 - accuracy: 0.8093 - val_loss: 0.4339 - val_accuracy: 0.7997\n",
      "Epoch 32/100\n",
      "159/159 [==============================] - 0s 3ms/step - loss: 0.4001 - accuracy: 0.8142 - val_loss: 0.4350 - val_accuracy: 0.8021\n",
      "Epoch 33/100\n",
      "159/159 [==============================] - 0s 3ms/step - loss: 0.4005 - accuracy: 0.8110 - val_loss: 0.4382 - val_accuracy: 0.7989\n",
      "Epoch 34/100\n",
      "159/159 [==============================] - 0s 2ms/step - loss: 0.4019 - accuracy: 0.8091 - val_loss: 0.4346 - val_accuracy: 0.8076\n",
      "Epoch 35/100\n",
      "159/159 [==============================] - 0s 2ms/step - loss: 0.4001 - accuracy: 0.8140 - val_loss: 0.4348 - val_accuracy: 0.8013\n",
      "Epoch 36/100\n",
      "159/159 [==============================] - 1s 3ms/step - loss: 0.3996 - accuracy: 0.8136 - val_loss: 0.4375 - val_accuracy: 0.7965\n",
      "Epoch 37/100\n",
      "159/159 [==============================] - 0s 2ms/step - loss: 0.3992 - accuracy: 0.8154 - val_loss: 0.4341 - val_accuracy: 0.7989\n",
      "Epoch 38/100\n",
      "159/159 [==============================] - 0s 2ms/step - loss: 0.3997 - accuracy: 0.8116 - val_loss: 0.4359 - val_accuracy: 0.7942\n",
      "Epoch 39/100\n",
      "159/159 [==============================] - 0s 2ms/step - loss: 0.3992 - accuracy: 0.8140 - val_loss: 0.4341 - val_accuracy: 0.8036\n",
      "Epoch 40/100\n",
      "159/159 [==============================] - 0s 2ms/step - loss: 0.3980 - accuracy: 0.8156 - val_loss: 0.4351 - val_accuracy: 0.8036\n",
      "Epoch 41/100\n",
      "159/159 [==============================] - 0s 2ms/step - loss: 0.3971 - accuracy: 0.8158 - val_loss: 0.4372 - val_accuracy: 0.8021\n",
      "Epoch 42/100\n",
      "159/159 [==============================] - 0s 2ms/step - loss: 0.3986 - accuracy: 0.8160 - val_loss: 0.4354 - val_accuracy: 0.8005\n",
      "Epoch 43/100\n",
      "159/159 [==============================] - 0s 2ms/step - loss: 0.3984 - accuracy: 0.8114 - val_loss: 0.4351 - val_accuracy: 0.8013\n",
      "Epoch 44/100\n",
      "159/159 [==============================] - 0s 2ms/step - loss: 0.3984 - accuracy: 0.8128 - val_loss: 0.4356 - val_accuracy: 0.7973\n",
      "Epoch 45/100\n",
      "159/159 [==============================] - 0s 2ms/step - loss: 0.3970 - accuracy: 0.8144 - val_loss: 0.4352 - val_accuracy: 0.7981\n",
      "Epoch 46/100\n",
      "159/159 [==============================] - 0s 2ms/step - loss: 0.3968 - accuracy: 0.8142 - val_loss: 0.4391 - val_accuracy: 0.7973\n",
      "Epoch 47/100\n",
      "159/159 [==============================] - 0s 2ms/step - loss: 0.3972 - accuracy: 0.8112 - val_loss: 0.4362 - val_accuracy: 0.7973\n",
      "Epoch 48/100\n",
      "159/159 [==============================] - 0s 2ms/step - loss: 0.3969 - accuracy: 0.8140 - val_loss: 0.4349 - val_accuracy: 0.7997\n",
      "Epoch 49/100\n",
      "159/159 [==============================] - 0s 2ms/step - loss: 0.3955 - accuracy: 0.8134 - val_loss: 0.4352 - val_accuracy: 0.7981\n",
      "Epoch 50/100\n",
      "159/159 [==============================] - 0s 3ms/step - loss: 0.3960 - accuracy: 0.8160 - val_loss: 0.4350 - val_accuracy: 0.8005\n",
      "Epoch 51/100\n",
      "159/159 [==============================] - 0s 3ms/step - loss: 0.3961 - accuracy: 0.8154 - val_loss: 0.4343 - val_accuracy: 0.7973\n",
      "Epoch 52/100\n",
      "159/159 [==============================] - 0s 2ms/step - loss: 0.3952 - accuracy: 0.8156 - val_loss: 0.4345 - val_accuracy: 0.7965\n",
      "Epoch 53/100\n",
      "159/159 [==============================] - 0s 2ms/step - loss: 0.3958 - accuracy: 0.8097 - val_loss: 0.4359 - val_accuracy: 0.8021\n",
      "Epoch 54/100\n",
      "159/159 [==============================] - 0s 2ms/step - loss: 0.3958 - accuracy: 0.8144 - val_loss: 0.4374 - val_accuracy: 0.8021\n",
      "Epoch 55/100\n",
      "159/159 [==============================] - 0s 2ms/step - loss: 0.3956 - accuracy: 0.8160 - val_loss: 0.4363 - val_accuracy: 0.7981\n",
      "Epoch 56/100\n",
      "159/159 [==============================] - 0s 2ms/step - loss: 0.3949 - accuracy: 0.8138 - val_loss: 0.4356 - val_accuracy: 0.7997\n",
      "Epoch 57/100\n",
      "159/159 [==============================] - 0s 2ms/step - loss: 0.3940 - accuracy: 0.8158 - val_loss: 0.4360 - val_accuracy: 0.8005\n",
      "Epoch 58/100\n",
      "159/159 [==============================] - 0s 2ms/step - loss: 0.3941 - accuracy: 0.8136 - val_loss: 0.4368 - val_accuracy: 0.7973\n",
      "Epoch 59/100\n",
      "159/159 [==============================] - 0s 2ms/step - loss: 0.3931 - accuracy: 0.8179 - val_loss: 0.4383 - val_accuracy: 0.7997\n",
      "Epoch 60/100\n",
      "159/159 [==============================] - 0s 2ms/step - loss: 0.3947 - accuracy: 0.8160 - val_loss: 0.4360 - val_accuracy: 0.7989\n",
      "Epoch 61/100\n",
      "159/159 [==============================] - 0s 2ms/step - loss: 0.3927 - accuracy: 0.8124 - val_loss: 0.4361 - val_accuracy: 0.7989\n",
      "Epoch 62/100\n",
      "159/159 [==============================] - 0s 2ms/step - loss: 0.3931 - accuracy: 0.8150 - val_loss: 0.4378 - val_accuracy: 0.8005\n",
      "Epoch 63/100\n",
      "159/159 [==============================] - 0s 2ms/step - loss: 0.3926 - accuracy: 0.8168 - val_loss: 0.4363 - val_accuracy: 0.8005\n",
      "Epoch 64/100\n",
      "159/159 [==============================] - 0s 2ms/step - loss: 0.3922 - accuracy: 0.8156 - val_loss: 0.4377 - val_accuracy: 0.7965\n",
      "Epoch 65/100\n",
      "159/159 [==============================] - 0s 2ms/step - loss: 0.3933 - accuracy: 0.8110 - val_loss: 0.4361 - val_accuracy: 0.7942\n",
      "Epoch 66/100\n",
      "159/159 [==============================] - 0s 2ms/step - loss: 0.3915 - accuracy: 0.8158 - val_loss: 0.4387 - val_accuracy: 0.8013\n",
      "Epoch 67/100\n",
      "159/159 [==============================] - 0s 2ms/step - loss: 0.3938 - accuracy: 0.8162 - val_loss: 0.4366 - val_accuracy: 0.7989\n",
      "Epoch 68/100\n",
      "159/159 [==============================] - 0s 2ms/step - loss: 0.3917 - accuracy: 0.8162 - val_loss: 0.4390 - val_accuracy: 0.7981\n",
      "Epoch 69/100\n",
      "159/159 [==============================] - 0s 2ms/step - loss: 0.3916 - accuracy: 0.8162 - val_loss: 0.4390 - val_accuracy: 0.7981\n",
      "Epoch 70/100\n",
      "159/159 [==============================] - 0s 2ms/step - loss: 0.3918 - accuracy: 0.8150 - val_loss: 0.4395 - val_accuracy: 0.8005\n",
      "Epoch 71/100\n",
      "159/159 [==============================] - 0s 2ms/step - loss: 0.3914 - accuracy: 0.8154 - val_loss: 0.4383 - val_accuracy: 0.7950\n",
      "Epoch 72/100\n",
      "159/159 [==============================] - 0s 2ms/step - loss: 0.3909 - accuracy: 0.8142 - val_loss: 0.4414 - val_accuracy: 0.7942\n",
      "Epoch 73/100\n",
      "159/159 [==============================] - 0s 2ms/step - loss: 0.3912 - accuracy: 0.8172 - val_loss: 0.4393 - val_accuracy: 0.7981\n",
      "Epoch 74/100\n",
      "159/159 [==============================] - 0s 2ms/step - loss: 0.3912 - accuracy: 0.8191 - val_loss: 0.4416 - val_accuracy: 0.7965\n",
      "Epoch 75/100\n",
      "159/159 [==============================] - 0s 2ms/step - loss: 0.3896 - accuracy: 0.8164 - val_loss: 0.4399 - val_accuracy: 0.7973\n",
      "Epoch 76/100\n",
      "159/159 [==============================] - 0s 2ms/step - loss: 0.3912 - accuracy: 0.8142 - val_loss: 0.4400 - val_accuracy: 0.7981\n",
      "Epoch 77/100\n",
      "159/159 [==============================] - 0s 2ms/step - loss: 0.3893 - accuracy: 0.8170 - val_loss: 0.4394 - val_accuracy: 0.7965\n",
      "Epoch 78/100\n",
      "159/159 [==============================] - 0s 2ms/step - loss: 0.3898 - accuracy: 0.8170 - val_loss: 0.4399 - val_accuracy: 0.7989\n",
      "Epoch 79/100\n",
      "159/159 [==============================] - 0s 2ms/step - loss: 0.3897 - accuracy: 0.8168 - val_loss: 0.4411 - val_accuracy: 0.7957\n",
      "Epoch 80/100\n",
      "159/159 [==============================] - 0s 2ms/step - loss: 0.3877 - accuracy: 0.8176 - val_loss: 0.4446 - val_accuracy: 0.7989\n",
      "Epoch 81/100\n",
      "159/159 [==============================] - 0s 2ms/step - loss: 0.3882 - accuracy: 0.8179 - val_loss: 0.4399 - val_accuracy: 0.7926\n",
      "Epoch 82/100\n",
      "159/159 [==============================] - 0s 2ms/step - loss: 0.3880 - accuracy: 0.8168 - val_loss: 0.4385 - val_accuracy: 0.7942\n",
      "Epoch 83/100\n",
      "159/159 [==============================] - 0s 2ms/step - loss: 0.3882 - accuracy: 0.8183 - val_loss: 0.4421 - val_accuracy: 0.7918\n",
      "Epoch 84/100\n",
      "159/159 [==============================] - 0s 2ms/step - loss: 0.3877 - accuracy: 0.8170 - val_loss: 0.4416 - val_accuracy: 0.7989\n",
      "Epoch 85/100\n",
      "159/159 [==============================] - 0s 2ms/step - loss: 0.3873 - accuracy: 0.8166 - val_loss: 0.4433 - val_accuracy: 0.8005\n",
      "Epoch 86/100\n",
      "159/159 [==============================] - 0s 2ms/step - loss: 0.3868 - accuracy: 0.8191 - val_loss: 0.4423 - val_accuracy: 0.8021\n",
      "Epoch 87/100\n",
      "159/159 [==============================] - 0s 2ms/step - loss: 0.3854 - accuracy: 0.8174 - val_loss: 0.4412 - val_accuracy: 0.8005\n",
      "Epoch 88/100\n",
      "159/159 [==============================] - 0s 2ms/step - loss: 0.3870 - accuracy: 0.8176 - val_loss: 0.4413 - val_accuracy: 0.7918\n",
      "Epoch 89/100\n",
      "159/159 [==============================] - 0s 2ms/step - loss: 0.3864 - accuracy: 0.8170 - val_loss: 0.4393 - val_accuracy: 0.7965\n",
      "Epoch 90/100\n",
      "159/159 [==============================] - 0s 2ms/step - loss: 0.3855 - accuracy: 0.8166 - val_loss: 0.4426 - val_accuracy: 0.7981\n",
      "Epoch 91/100\n",
      "159/159 [==============================] - 0s 2ms/step - loss: 0.3851 - accuracy: 0.8187 - val_loss: 0.4414 - val_accuracy: 0.7989\n",
      "Epoch 92/100\n",
      "159/159 [==============================] - 0s 2ms/step - loss: 0.3843 - accuracy: 0.8201 - val_loss: 0.4430 - val_accuracy: 0.7973\n",
      "Epoch 93/100\n",
      "159/159 [==============================] - 0s 2ms/step - loss: 0.3843 - accuracy: 0.8172 - val_loss: 0.4456 - val_accuracy: 0.8005\n",
      "Epoch 94/100\n",
      "159/159 [==============================] - 0s 2ms/step - loss: 0.3838 - accuracy: 0.8221 - val_loss: 0.4420 - val_accuracy: 0.7957\n",
      "Epoch 95/100\n",
      "159/159 [==============================] - 0s 2ms/step - loss: 0.3830 - accuracy: 0.8209 - val_loss: 0.4505 - val_accuracy: 0.7926\n",
      "Epoch 96/100\n",
      "159/159 [==============================] - 0s 2ms/step - loss: 0.3834 - accuracy: 0.8211 - val_loss: 0.4435 - val_accuracy: 0.7942\n",
      "Epoch 97/100\n",
      "159/159 [==============================] - 0s 2ms/step - loss: 0.3824 - accuracy: 0.8215 - val_loss: 0.4421 - val_accuracy: 0.7934\n",
      "Epoch 98/100\n",
      "159/159 [==============================] - 0s 2ms/step - loss: 0.3828 - accuracy: 0.8193 - val_loss: 0.4445 - val_accuracy: 0.7902\n",
      "Epoch 99/100\n",
      "159/159 [==============================] - 0s 2ms/step - loss: 0.3821 - accuracy: 0.8193 - val_loss: 0.4435 - val_accuracy: 0.7981\n",
      "Epoch 100/100\n",
      "159/159 [==============================] - 0s 2ms/step - loss: 0.3813 - accuracy: 0.8207 - val_loss: 0.4450 - val_accuracy: 0.7989\n"
     ]
    }
   ],
   "source": [
    "# Model declaration\n",
    "model = Sequential()\n",
    "\n",
    "model.add(Dense(15, activation='relu', input_shape=(46,))) # hidden layer \n",
    "model.add(Dense(10, activation='relu'))\n",
    "model.add(Dense(5, activation='relu'))\n",
    "model.add(Dense(1, activation='sigmoid'))\n",
    "\n",
    "# compile\n",
    "model.compile(loss='binary_crossentropy',\n",
    "              optimizer=\"adam\",\n",
    "              metrics=['accuracy'])\n",
    "\n",
    "# Train the model\n",
    "history = model.fit(X_train, y_train, epochs=100, validation_data=(X_val, y_val), verbose=1)"
   ]
  },
  {
   "cell_type": "markdown",
   "metadata": {},
   "source": [
    "##### Functional API"
   ]
  },
  {
   "cell_type": "code",
   "execution_count": 112,
   "metadata": {},
   "outputs": [],
   "source": [
    "input_data = Input(shape=(X_train.shape[1],))\n",
    "hidden_1 = Dense(15, activation='relu')(input_data)\n",
    "output_data = Dense(1, activation='sigmoid')(hidden_1)\n",
    "\n",
    "model = Model(inputs=input_data, outputs=output_data)"
   ]
  },
  {
   "cell_type": "code",
   "execution_count": 113,
   "metadata": {},
   "outputs": [],
   "source": [
    "# Compile the model\n",
    "model.compile(optimizer='adam', loss='binary_crossentropy', metrics=['accuracy'])"
   ]
  },
  {
   "cell_type": "code",
   "execution_count": 114,
   "metadata": {},
   "outputs": [],
   "source": [
    "# Train the model\n",
    "history = model.fit(train_dataset, epochs=100, validation_data=val_dataset, verbose=0)"
   ]
  },
  {
   "cell_type": "code",
   "execution_count": 115,
   "metadata": {},
   "outputs": [
    {
     "name": "stdout",
     "output_type": "stream",
     "text": [
      "Model: \"model\"\n",
      "_________________________________________________________________\n",
      " Layer (type)                Output Shape              Param #   \n",
      "=================================================================\n",
      " input_1 (InputLayer)        [(None, 46)]              0         \n",
      "                                                                 \n",
      " dense_4 (Dense)             (None, 15)                705       \n",
      "                                                                 \n",
      " dense_5 (Dense)             (None, 1)                 16        \n",
      "                                                                 \n",
      "=================================================================\n",
      "Total params: 721\n",
      "Trainable params: 721\n",
      "Non-trainable params: 0\n",
      "_________________________________________________________________\n"
     ]
    }
   ],
   "source": [
    "model.summary()"
   ]
  },
  {
   "cell_type": "markdown",
   "metadata": {},
   "source": [
    "### <strong>Model Evaluation<strong>\n",
    "\n",
    "##### Pada bagian ini, dilakukan evaluasi model yang harus menunjukkan bagaimana performa model berdasarkan metrics yang dipilih. Hal ini harus dibuktikan dengan visualisasi tren performa dan/atau tingkat kesalahan model. Lakukan analisis terkait dengan hasil pada model dan tuliskan hasil analisisnya.\n",
    "---"
   ]
  },
  {
   "cell_type": "code",
   "execution_count": 116,
   "metadata": {},
   "outputs": [
    {
     "data": {
      "text/html": [
       "<div>\n",
       "<style scoped>\n",
       "    .dataframe tbody tr th:only-of-type {\n",
       "        vertical-align: middle;\n",
       "    }\n",
       "\n",
       "    .dataframe tbody tr th {\n",
       "        vertical-align: top;\n",
       "    }\n",
       "\n",
       "    .dataframe thead th {\n",
       "        text-align: right;\n",
       "    }\n",
       "</style>\n",
       "<table border=\"1\" class=\"dataframe\">\n",
       "  <thead>\n",
       "    <tr style=\"text-align: right;\">\n",
       "      <th></th>\n",
       "      <th>loss</th>\n",
       "      <th>accuracy</th>\n",
       "      <th>val_loss</th>\n",
       "      <th>val_accuracy</th>\n",
       "    </tr>\n",
       "  </thead>\n",
       "  <tbody>\n",
       "    <tr>\n",
       "      <th>0</th>\n",
       "      <td>0.457464</td>\n",
       "      <td>0.781657</td>\n",
       "      <td>0.434454</td>\n",
       "      <td>0.795741</td>\n",
       "    </tr>\n",
       "    <tr>\n",
       "      <th>1</th>\n",
       "      <td>0.421635</td>\n",
       "      <td>0.798422</td>\n",
       "      <td>0.428972</td>\n",
       "      <td>0.798896</td>\n",
       "    </tr>\n",
       "    <tr>\n",
       "      <th>2</th>\n",
       "      <td>0.417227</td>\n",
       "      <td>0.803156</td>\n",
       "      <td>0.427573</td>\n",
       "      <td>0.799685</td>\n",
       "    </tr>\n",
       "    <tr>\n",
       "      <th>3</th>\n",
       "      <td>0.415303</td>\n",
       "      <td>0.806114</td>\n",
       "      <td>0.427118</td>\n",
       "      <td>0.802050</td>\n",
       "    </tr>\n",
       "    <tr>\n",
       "      <th>4</th>\n",
       "      <td>0.413126</td>\n",
       "      <td>0.803353</td>\n",
       "      <td>0.427053</td>\n",
       "      <td>0.799685</td>\n",
       "    </tr>\n",
       "  </tbody>\n",
       "</table>\n",
       "</div>"
      ],
      "text/plain": [
       "       loss  accuracy  val_loss  val_accuracy\n",
       "0  0.457464  0.781657  0.434454      0.795741\n",
       "1  0.421635  0.798422  0.428972      0.798896\n",
       "2  0.417227  0.803156  0.427573      0.799685\n",
       "3  0.415303  0.806114  0.427118      0.802050\n",
       "4  0.413126  0.803353  0.427053      0.799685"
      ]
     },
     "execution_count": 116,
     "metadata": {},
     "output_type": "execute_result"
    }
   ],
   "source": [
    "metrics = pd.DataFrame(history.history)\n",
    "metrics.head()"
   ]
  },
  {
   "cell_type": "code",
   "execution_count": 117,
   "metadata": {},
   "outputs": [
    {
     "data": {
      "image/png": "[encoded data removed]",
      "text/plain": [
       "<Figure size 1368x504 with 1 Axes>"
      ]
     },
     "metadata": {},
     "output_type": "display_data"
    }
   ],
   "source": [
    "metrics.plot(figsize=(19, 7))\n",
    "\n",
    "plt.title('Model Metrics')\n",
    "plt.show()"
   ]
  },
  {
   "cell_type": "code",
   "execution_count": 118,
   "metadata": {},
   "outputs": [
    {
     "name": "stdout",
     "output_type": "stream",
     "text": [
      "Training Set\n",
      "              precision    recall  f1-score   support\n",
      "\n",
      "           0       0.85      0.92      0.88      3725\n",
      "           1       0.71      0.54      0.61      1345\n",
      "\n",
      "    accuracy                           0.82      5070\n",
      "   macro avg       0.78      0.73      0.75      5070\n",
      "weighted avg       0.81      0.82      0.81      5070\n",
      "\n",
      "Validation Set\n",
      "              precision    recall  f1-score   support\n",
      "\n",
      "           0       0.83      0.91      0.87       931\n",
      "           1       0.67      0.49      0.57       337\n",
      "\n",
      "    accuracy                           0.80      1268\n",
      "   macro avg       0.75      0.70      0.72      1268\n",
      "weighted avg       0.79      0.80      0.79      1268\n",
      "\n"
     ]
    }
   ],
   "source": [
    "print('Training Set')\n",
    "print(classification_report(y_train, model.predict(X_train).round()))\n",
    "print('Validation Set')\n",
    "print(classification_report(y_val, model.predict(X_val).round()))"
   ]
  },
  {
   "cell_type": "markdown",
   "metadata": {},
   "source": [
    "##### Model Analysis"
   ]
  },
  {
   "cell_type": "markdown",
   "metadata": {},
   "source": [
    "Hasil accuracy model cukup baik, training-set sangat kecil **0.80** dan **0.81** validation set. \n",
    "Pada grafik dapat dilihat bahwa model mengalami overfit karena **training-loss** mengalami decrease sedangkan **validation-nya** increase"
   ]
  },
  {
   "cell_type": "markdown",
   "metadata": {},
   "source": [
    "<h4> --> Model Analysis\n",
    "\n",
    "The results of the accuracy model are quite good, the training-set and validation set are good **0.80** and **0.81** .\n",
    "on the graphic above, we can see that the model is overfit because **training-loss** has decreased while **validation** increased.</h4>"
   ]
  },
  {
   "cell_type": "markdown",
   "metadata": {},
   "source": [
    "##### Model Improvement"
   ]
  },
  {
   "cell_type": "markdown",
   "metadata": {},
   "source": [
    "Karena model pertama ngalami overfit, maka pada bagian ini akan dilakukan tweak terhadap model agar menghasilkan loss dan akurasi yang lebih baik. "
   ]
  },
  {
   "cell_type": "markdown",
   "metadata": {},
   "source": [
    "##### Sequential API"
   ]
  },
  {
   "cell_type": "code",
   "execution_count": 119,
   "metadata": {},
   "outputs": [
    {
     "name": "stdout",
     "output_type": "stream",
     "text": [
      "Epoch 1/200\n",
      "221/221 [==============================] - 2s 3ms/step - loss: 0.4587 - accuracy: 0.7787 - val_loss: 0.4320 - val_accuracy: 0.8021\n",
      "Epoch 2/200\n",
      "221/221 [==============================] - 0s 2ms/step - loss: 0.4428 - accuracy: 0.7852 - val_loss: 0.4310 - val_accuracy: 0.7855\n",
      "Epoch 3/200\n",
      "221/221 [==============================] - 0s 2ms/step - loss: 0.4393 - accuracy: 0.7852 - val_loss: 0.4321 - val_accuracy: 0.7981\n",
      "Epoch 4/200\n",
      "221/221 [==============================] - 1s 2ms/step - loss: 0.4392 - accuracy: 0.7895 - val_loss: 0.4296 - val_accuracy: 0.8005\n",
      "Epoch 5/200\n",
      "221/221 [==============================] - 0s 2ms/step - loss: 0.4365 - accuracy: 0.7882 - val_loss: 0.4318 - val_accuracy: 0.7957\n",
      "Epoch 6/200\n",
      "221/221 [==============================] - 0s 2ms/step - loss: 0.4366 - accuracy: 0.7874 - val_loss: 0.4302 - val_accuracy: 0.7997\n",
      "Epoch 7/200\n",
      "221/221 [==============================] - 0s 2ms/step - loss: 0.4399 - accuracy: 0.7850 - val_loss: 0.4326 - val_accuracy: 0.7879\n",
      "Epoch 8/200\n",
      "221/221 [==============================] - 0s 2ms/step - loss: 0.4362 - accuracy: 0.7939 - val_loss: 0.4303 - val_accuracy: 0.8084\n",
      "Epoch 9/200\n",
      "221/221 [==============================] - 0s 2ms/step - loss: 0.4367 - accuracy: 0.7886 - val_loss: 0.4306 - val_accuracy: 0.8044\n",
      "Epoch 10/200\n",
      "221/221 [==============================] - 0s 2ms/step - loss: 0.4352 - accuracy: 0.7909 - val_loss: 0.4299 - val_accuracy: 0.8044\n",
      "Epoch 11/200\n",
      "221/221 [==============================] - 0s 2ms/step - loss: 0.4334 - accuracy: 0.7921 - val_loss: 0.4313 - val_accuracy: 0.8060\n",
      "Epoch 12/200\n",
      "221/221 [==============================] - 0s 2ms/step - loss: 0.4297 - accuracy: 0.7919 - val_loss: 0.4303 - val_accuracy: 0.8036\n",
      "Epoch 13/200\n",
      "221/221 [==============================] - 0s 2ms/step - loss: 0.4349 - accuracy: 0.7884 - val_loss: 0.4313 - val_accuracy: 0.7942\n",
      "Epoch 14/200\n",
      "221/221 [==============================] - 0s 2ms/step - loss: 0.4327 - accuracy: 0.7915 - val_loss: 0.4306 - val_accuracy: 0.8036\n",
      "Epoch 15/200\n",
      "221/221 [==============================] - 0s 2ms/step - loss: 0.4344 - accuracy: 0.7874 - val_loss: 0.4328 - val_accuracy: 0.7997\n",
      "Epoch 16/200\n",
      "221/221 [==============================] - 0s 2ms/step - loss: 0.4315 - accuracy: 0.7925 - val_loss: 0.4291 - val_accuracy: 0.8013\n",
      "Epoch 17/200\n",
      "221/221 [==============================] - 0s 2ms/step - loss: 0.4308 - accuracy: 0.7909 - val_loss: 0.4334 - val_accuracy: 0.8068\n",
      "Epoch 18/200\n",
      "221/221 [==============================] - 0s 2ms/step - loss: 0.4317 - accuracy: 0.7911 - val_loss: 0.4335 - val_accuracy: 0.8021\n",
      "Epoch 19/200\n",
      "221/221 [==============================] - 0s 2ms/step - loss: 0.4293 - accuracy: 0.7892 - val_loss: 0.4335 - val_accuracy: 0.7989\n",
      "Epoch 20/200\n",
      "221/221 [==============================] - 0s 2ms/step - loss: 0.4335 - accuracy: 0.7941 - val_loss: 0.4293 - val_accuracy: 0.8013\n",
      "Epoch 21/200\n",
      "221/221 [==============================] - 0s 2ms/step - loss: 0.4291 - accuracy: 0.7937 - val_loss: 0.4298 - val_accuracy: 0.7957\n",
      "Epoch 22/200\n",
      "221/221 [==============================] - 0s 2ms/step - loss: 0.4315 - accuracy: 0.7905 - val_loss: 0.4363 - val_accuracy: 0.7934\n",
      "Epoch 23/200\n",
      "221/221 [==============================] - 0s 2ms/step - loss: 0.4342 - accuracy: 0.7897 - val_loss: 0.4318 - val_accuracy: 0.7957\n",
      "Epoch 24/200\n",
      "221/221 [==============================] - 0s 2ms/step - loss: 0.4312 - accuracy: 0.7897 - val_loss: 0.4310 - val_accuracy: 0.7981\n",
      "Epoch 25/200\n",
      "221/221 [==============================] - 0s 2ms/step - loss: 0.4316 - accuracy: 0.7917 - val_loss: 0.4329 - val_accuracy: 0.8005\n",
      "Epoch 26/200\n",
      "221/221 [==============================] - 0s 2ms/step - loss: 0.4271 - accuracy: 0.7957 - val_loss: 0.4314 - val_accuracy: 0.8021\n",
      "Epoch 27/200\n",
      "221/221 [==============================] - 0s 2ms/step - loss: 0.4317 - accuracy: 0.7941 - val_loss: 0.4323 - val_accuracy: 0.7997\n",
      "Epoch 28/200\n",
      "221/221 [==============================] - 0s 2ms/step - loss: 0.4270 - accuracy: 0.7927 - val_loss: 0.4325 - val_accuracy: 0.8052\n",
      "Epoch 29/200\n",
      "221/221 [==============================] - 0s 2ms/step - loss: 0.4311 - accuracy: 0.7882 - val_loss: 0.4325 - val_accuracy: 0.7902\n",
      "Epoch 30/200\n",
      "221/221 [==============================] - 0s 2ms/step - loss: 0.4263 - accuracy: 0.7963 - val_loss: 0.4341 - val_accuracy: 0.8005\n",
      "Epoch 31/200\n",
      "221/221 [==============================] - 0s 2ms/step - loss: 0.4323 - accuracy: 0.7911 - val_loss: 0.4340 - val_accuracy: 0.7997\n",
      "Epoch 32/200\n",
      "221/221 [==============================] - 0s 2ms/step - loss: 0.4295 - accuracy: 0.7953 - val_loss: 0.4338 - val_accuracy: 0.7997\n",
      "Epoch 33/200\n",
      "221/221 [==============================] - 0s 2ms/step - loss: 0.4285 - accuracy: 0.7927 - val_loss: 0.4350 - val_accuracy: 0.7973\n",
      "Epoch 34/200\n",
      "221/221 [==============================] - 0s 2ms/step - loss: 0.4258 - accuracy: 0.7949 - val_loss: 0.4370 - val_accuracy: 0.7997\n",
      "Epoch 35/200\n",
      "221/221 [==============================] - 0s 2ms/step - loss: 0.4267 - accuracy: 0.7961 - val_loss: 0.4317 - val_accuracy: 0.7965\n",
      "Epoch 36/200\n",
      "221/221 [==============================] - 0s 2ms/step - loss: 0.4279 - accuracy: 0.7964 - val_loss: 0.4314 - val_accuracy: 0.7950\n",
      "Epoch 37/200\n",
      "221/221 [==============================] - 0s 2ms/step - loss: 0.4267 - accuracy: 0.7921 - val_loss: 0.4323 - val_accuracy: 0.7997\n",
      "Epoch 38/200\n",
      "221/221 [==============================] - 0s 2ms/step - loss: 0.4234 - accuracy: 0.7949 - val_loss: 0.4369 - val_accuracy: 0.7989\n",
      "Epoch 39/200\n",
      "221/221 [==============================] - 0s 2ms/step - loss: 0.4284 - accuracy: 0.8004 - val_loss: 0.4312 - val_accuracy: 0.7965\n",
      "Epoch 40/200\n",
      "221/221 [==============================] - 0s 2ms/step - loss: 0.4247 - accuracy: 0.7961 - val_loss: 0.4337 - val_accuracy: 0.7973\n",
      "Epoch 41/200\n",
      "221/221 [==============================] - 0s 2ms/step - loss: 0.4291 - accuracy: 0.7933 - val_loss: 0.4306 - val_accuracy: 0.7918\n",
      "Epoch 42/200\n",
      "221/221 [==============================] - 0s 2ms/step - loss: 0.4242 - accuracy: 0.7939 - val_loss: 0.4321 - val_accuracy: 0.7926\n",
      "Epoch 43/200\n",
      "221/221 [==============================] - 0s 2ms/step - loss: 0.4302 - accuracy: 0.7905 - val_loss: 0.4333 - val_accuracy: 0.8021\n",
      "Epoch 44/200\n",
      "221/221 [==============================] - 0s 2ms/step - loss: 0.4281 - accuracy: 0.7951 - val_loss: 0.4313 - val_accuracy: 0.7997\n",
      "Epoch 45/200\n",
      "221/221 [==============================] - 0s 2ms/step - loss: 0.4221 - accuracy: 0.8010 - val_loss: 0.4337 - val_accuracy: 0.7942\n",
      "Epoch 46/200\n",
      "221/221 [==============================] - 0s 2ms/step - loss: 0.4276 - accuracy: 0.7935 - val_loss: 0.4346 - val_accuracy: 0.8005\n",
      "Epoch 47/200\n",
      "221/221 [==============================] - 0s 2ms/step - loss: 0.4266 - accuracy: 0.7986 - val_loss: 0.4341 - val_accuracy: 0.7973\n",
      "Epoch 48/200\n",
      "221/221 [==============================] - 0s 2ms/step - loss: 0.4224 - accuracy: 0.8016 - val_loss: 0.4322 - val_accuracy: 0.8005\n",
      "Epoch 49/200\n",
      "221/221 [==============================] - 0s 2ms/step - loss: 0.4254 - accuracy: 0.7970 - val_loss: 0.4313 - val_accuracy: 0.7965\n",
      "Epoch 50/200\n",
      "221/221 [==============================] - 0s 2ms/step - loss: 0.4295 - accuracy: 0.7941 - val_loss: 0.4323 - val_accuracy: 0.8036\n",
      "Epoch 51/200\n",
      "221/221 [==============================] - 0s 2ms/step - loss: 0.4270 - accuracy: 0.7943 - val_loss: 0.4336 - val_accuracy: 0.7973\n",
      "Epoch 52/200\n",
      "221/221 [==============================] - 0s 2ms/step - loss: 0.4247 - accuracy: 0.7945 - val_loss: 0.4333 - val_accuracy: 0.7997\n",
      "Epoch 53/200\n",
      "221/221 [==============================] - 0s 2ms/step - loss: 0.4198 - accuracy: 0.7963 - val_loss: 0.4346 - val_accuracy: 0.7957\n",
      "Epoch 54/200\n",
      "221/221 [==============================] - 0s 2ms/step - loss: 0.4250 - accuracy: 0.7929 - val_loss: 0.4354 - val_accuracy: 0.8013\n",
      "Epoch 55/200\n",
      "221/221 [==============================] - 0s 2ms/step - loss: 0.4262 - accuracy: 0.7951 - val_loss: 0.4330 - val_accuracy: 0.8005\n",
      "Epoch 56/200\n",
      "221/221 [==============================] - 0s 2ms/step - loss: 0.4249 - accuracy: 0.7980 - val_loss: 0.4338 - val_accuracy: 0.7965\n",
      "Epoch 57/200\n",
      "221/221 [==============================] - 0s 2ms/step - loss: 0.4283 - accuracy: 0.7915 - val_loss: 0.4394 - val_accuracy: 0.8036\n",
      "Epoch 58/200\n",
      "221/221 [==============================] - 0s 2ms/step - loss: 0.4244 - accuracy: 0.7984 - val_loss: 0.4333 - val_accuracy: 0.7981\n",
      "Epoch 59/200\n",
      "221/221 [==============================] - 0s 2ms/step - loss: 0.4264 - accuracy: 0.7951 - val_loss: 0.4394 - val_accuracy: 0.8005\n",
      "Epoch 60/200\n",
      "221/221 [==============================] - 0s 2ms/step - loss: 0.4263 - accuracy: 0.7937 - val_loss: 0.4334 - val_accuracy: 0.7989\n",
      "Epoch 61/200\n",
      "221/221 [==============================] - 0s 2ms/step - loss: 0.4262 - accuracy: 0.7959 - val_loss: 0.4339 - val_accuracy: 0.7942\n",
      "Epoch 62/200\n",
      "221/221 [==============================] - 0s 2ms/step - loss: 0.4291 - accuracy: 0.7895 - val_loss: 0.4334 - val_accuracy: 0.7957\n",
      "Epoch 63/200\n",
      "221/221 [==============================] - 0s 2ms/step - loss: 0.4204 - accuracy: 0.7941 - val_loss: 0.4334 - val_accuracy: 0.7981\n",
      "Epoch 64/200\n",
      "221/221 [==============================] - 0s 2ms/step - loss: 0.4242 - accuracy: 0.7935 - val_loss: 0.4349 - val_accuracy: 0.7989\n",
      "Epoch 65/200\n",
      "221/221 [==============================] - 0s 2ms/step - loss: 0.4243 - accuracy: 0.7925 - val_loss: 0.4352 - val_accuracy: 0.7918\n",
      "Epoch 66/200\n",
      "221/221 [==============================] - 0s 2ms/step - loss: 0.4196 - accuracy: 0.8039 - val_loss: 0.4353 - val_accuracy: 0.7997\n",
      "Epoch 67/200\n",
      "221/221 [==============================] - 0s 2ms/step - loss: 0.4199 - accuracy: 0.8022 - val_loss: 0.4325 - val_accuracy: 0.7894\n",
      "Epoch 68/200\n",
      "221/221 [==============================] - 0s 2ms/step - loss: 0.4231 - accuracy: 0.7966 - val_loss: 0.4349 - val_accuracy: 0.7950\n",
      "Epoch 69/200\n",
      "221/221 [==============================] - 0s 2ms/step - loss: 0.4263 - accuracy: 0.7915 - val_loss: 0.4378 - val_accuracy: 0.7989\n",
      "Epoch 70/200\n",
      "221/221 [==============================] - 0s 2ms/step - loss: 0.4203 - accuracy: 0.8004 - val_loss: 0.4339 - val_accuracy: 0.7934\n",
      "Epoch 71/200\n",
      "221/221 [==============================] - 0s 2ms/step - loss: 0.4281 - accuracy: 0.7927 - val_loss: 0.4357 - val_accuracy: 0.7950\n",
      "Epoch 72/200\n",
      "221/221 [==============================] - 0s 2ms/step - loss: 0.4188 - accuracy: 0.8006 - val_loss: 0.4370 - val_accuracy: 0.7950\n",
      "Epoch 73/200\n",
      "221/221 [==============================] - 0s 2ms/step - loss: 0.4209 - accuracy: 0.7937 - val_loss: 0.4352 - val_accuracy: 0.7957\n",
      "Epoch 74/200\n",
      "221/221 [==============================] - 0s 2ms/step - loss: 0.4246 - accuracy: 0.8006 - val_loss: 0.4316 - val_accuracy: 0.7973\n",
      "Epoch 75/200\n",
      "221/221 [==============================] - 0s 2ms/step - loss: 0.4216 - accuracy: 0.7998 - val_loss: 0.4362 - val_accuracy: 0.7989\n",
      "Epoch 76/200\n",
      "221/221 [==============================] - 0s 2ms/step - loss: 0.4193 - accuracy: 0.7992 - val_loss: 0.4348 - val_accuracy: 0.7973\n",
      "Epoch 77/200\n",
      "221/221 [==============================] - 0s 2ms/step - loss: 0.4242 - accuracy: 0.7976 - val_loss: 0.4341 - val_accuracy: 0.7957\n",
      "Epoch 78/200\n",
      "221/221 [==============================] - 0s 2ms/step - loss: 0.4217 - accuracy: 0.7996 - val_loss: 0.4391 - val_accuracy: 0.7950\n",
      "Epoch 79/200\n",
      "221/221 [==============================] - 0s 2ms/step - loss: 0.4219 - accuracy: 0.7959 - val_loss: 0.4358 - val_accuracy: 0.7918\n",
      "Epoch 80/200\n",
      "221/221 [==============================] - 0s 2ms/step - loss: 0.4241 - accuracy: 0.7929 - val_loss: 0.4386 - val_accuracy: 0.7902\n",
      "Epoch 81/200\n",
      "221/221 [==============================] - 0s 2ms/step - loss: 0.4258 - accuracy: 0.7907 - val_loss: 0.4366 - val_accuracy: 0.7989\n",
      "Epoch 82/200\n",
      "221/221 [==============================] - 0s 2ms/step - loss: 0.4236 - accuracy: 0.7911 - val_loss: 0.4337 - val_accuracy: 0.7934\n",
      "Epoch 83/200\n",
      "221/221 [==============================] - 0s 2ms/step - loss: 0.4254 - accuracy: 0.7945 - val_loss: 0.4394 - val_accuracy: 0.8013\n",
      "Epoch 84/200\n",
      "221/221 [==============================] - 0s 2ms/step - loss: 0.4238 - accuracy: 0.7939 - val_loss: 0.4384 - val_accuracy: 0.8021\n",
      "Epoch 85/200\n",
      "221/221 [==============================] - 0s 2ms/step - loss: 0.4262 - accuracy: 0.7945 - val_loss: 0.4400 - val_accuracy: 0.8005\n",
      "Epoch 86/200\n",
      "221/221 [==============================] - 0s 2ms/step - loss: 0.4255 - accuracy: 0.7935 - val_loss: 0.4342 - val_accuracy: 0.7918\n",
      "Epoch 87/200\n",
      "221/221 [==============================] - 0s 2ms/step - loss: 0.4261 - accuracy: 0.7945 - val_loss: 0.4329 - val_accuracy: 0.7957\n",
      "Epoch 88/200\n",
      "221/221 [==============================] - 0s 2ms/step - loss: 0.4247 - accuracy: 0.7941 - val_loss: 0.4362 - val_accuracy: 0.8028\n",
      "Epoch 89/200\n",
      "221/221 [==============================] - 0s 2ms/step - loss: 0.4220 - accuracy: 0.7957 - val_loss: 0.4354 - val_accuracy: 0.7918\n",
      "Epoch 90/200\n",
      "221/221 [==============================] - 0s 2ms/step - loss: 0.4179 - accuracy: 0.8006 - val_loss: 0.4344 - val_accuracy: 0.7926\n",
      "Epoch 91/200\n",
      "221/221 [==============================] - 0s 2ms/step - loss: 0.4234 - accuracy: 0.7935 - val_loss: 0.4387 - val_accuracy: 0.7950\n",
      "Epoch 92/200\n",
      "221/221 [==============================] - 0s 2ms/step - loss: 0.4185 - accuracy: 0.7963 - val_loss: 0.4364 - val_accuracy: 0.7894\n",
      "Epoch 93/200\n",
      "221/221 [==============================] - 0s 2ms/step - loss: 0.4249 - accuracy: 0.7994 - val_loss: 0.4369 - val_accuracy: 0.7942\n",
      "Epoch 94/200\n",
      "221/221 [==============================] - 0s 2ms/step - loss: 0.4246 - accuracy: 0.7992 - val_loss: 0.4355 - val_accuracy: 0.7981\n",
      "Epoch 95/200\n",
      "221/221 [==============================] - 0s 2ms/step - loss: 0.4218 - accuracy: 0.7986 - val_loss: 0.4354 - val_accuracy: 0.7942\n",
      "Epoch 96/200\n",
      "221/221 [==============================] - 0s 2ms/step - loss: 0.4212 - accuracy: 0.7976 - val_loss: 0.4359 - val_accuracy: 0.7981\n",
      "Epoch 97/200\n",
      "221/221 [==============================] - 0s 2ms/step - loss: 0.4207 - accuracy: 0.7931 - val_loss: 0.4363 - val_accuracy: 0.7973\n",
      "Epoch 98/200\n",
      "221/221 [==============================] - 0s 2ms/step - loss: 0.4225 - accuracy: 0.7921 - val_loss: 0.4371 - val_accuracy: 0.7957\n",
      "Epoch 99/200\n",
      "221/221 [==============================] - 0s 2ms/step - loss: 0.4195 - accuracy: 0.7955 - val_loss: 0.4360 - val_accuracy: 0.7965\n",
      "Epoch 100/200\n",
      "221/221 [==============================] - 0s 2ms/step - loss: 0.4191 - accuracy: 0.7988 - val_loss: 0.4357 - val_accuracy: 0.7997\n",
      "Epoch 101/200\n",
      "221/221 [==============================] - 0s 2ms/step - loss: 0.4243 - accuracy: 0.7949 - val_loss: 0.4364 - val_accuracy: 0.7942\n",
      "Epoch 102/200\n",
      "221/221 [==============================] - 0s 2ms/step - loss: 0.4194 - accuracy: 0.7963 - val_loss: 0.4344 - val_accuracy: 0.7965\n",
      "Epoch 103/200\n",
      "221/221 [==============================] - 0s 2ms/step - loss: 0.4206 - accuracy: 0.7972 - val_loss: 0.4349 - val_accuracy: 0.7965\n",
      "Epoch 104/200\n",
      "221/221 [==============================] - 0s 2ms/step - loss: 0.4198 - accuracy: 0.7976 - val_loss: 0.4370 - val_accuracy: 0.7957\n",
      "Epoch 105/200\n",
      "221/221 [==============================] - 0s 2ms/step - loss: 0.4219 - accuracy: 0.7996 - val_loss: 0.4364 - val_accuracy: 0.7950\n",
      "Epoch 106/200\n",
      "221/221 [==============================] - 0s 2ms/step - loss: 0.4221 - accuracy: 0.7903 - val_loss: 0.4388 - val_accuracy: 0.8005\n",
      "Epoch 107/200\n",
      "221/221 [==============================] - 0s 2ms/step - loss: 0.4217 - accuracy: 0.7923 - val_loss: 0.4393 - val_accuracy: 0.7910\n",
      "Epoch 108/200\n",
      "221/221 [==============================] - 0s 2ms/step - loss: 0.4229 - accuracy: 0.7972 - val_loss: 0.4351 - val_accuracy: 0.7950\n",
      "Epoch 109/200\n",
      "221/221 [==============================] - 0s 2ms/step - loss: 0.4201 - accuracy: 0.7974 - val_loss: 0.4394 - val_accuracy: 0.7997\n",
      "Epoch 110/200\n",
      "221/221 [==============================] - 0s 2ms/step - loss: 0.4201 - accuracy: 0.7988 - val_loss: 0.4387 - val_accuracy: 0.7957\n",
      "Epoch 111/200\n",
      "221/221 [==============================] - 0s 2ms/step - loss: 0.4148 - accuracy: 0.8039 - val_loss: 0.4383 - val_accuracy: 0.7957\n",
      "Epoch 112/200\n",
      "221/221 [==============================] - 0s 2ms/step - loss: 0.4163 - accuracy: 0.7994 - val_loss: 0.4389 - val_accuracy: 0.7981\n",
      "Epoch 113/200\n",
      "221/221 [==============================] - 0s 2ms/step - loss: 0.4132 - accuracy: 0.8028 - val_loss: 0.4401 - val_accuracy: 0.7997\n",
      "Epoch 114/200\n",
      "221/221 [==============================] - 0s 2ms/step - loss: 0.4160 - accuracy: 0.8016 - val_loss: 0.4372 - val_accuracy: 0.7942\n",
      "Epoch 115/200\n",
      "221/221 [==============================] - 0s 2ms/step - loss: 0.4160 - accuracy: 0.7953 - val_loss: 0.4434 - val_accuracy: 0.7997\n",
      "Epoch 116/200\n",
      "221/221 [==============================] - 0s 2ms/step - loss: 0.4179 - accuracy: 0.7961 - val_loss: 0.4426 - val_accuracy: 0.8013\n",
      "Epoch 117/200\n",
      "221/221 [==============================] - 0s 2ms/step - loss: 0.4190 - accuracy: 0.7974 - val_loss: 0.4375 - val_accuracy: 0.7965\n",
      "Epoch 118/200\n",
      "221/221 [==============================] - 0s 2ms/step - loss: 0.4203 - accuracy: 0.7941 - val_loss: 0.4403 - val_accuracy: 0.7965\n",
      "Epoch 119/200\n",
      "221/221 [==============================] - 0s 2ms/step - loss: 0.4186 - accuracy: 0.7984 - val_loss: 0.4379 - val_accuracy: 0.7981\n",
      "Epoch 120/200\n",
      "221/221 [==============================] - 0s 2ms/step - loss: 0.4177 - accuracy: 0.7963 - val_loss: 0.4365 - val_accuracy: 0.7965\n",
      "Epoch 121/200\n",
      "221/221 [==============================] - 0s 2ms/step - loss: 0.4209 - accuracy: 0.7961 - val_loss: 0.4369 - val_accuracy: 0.7957\n",
      "Epoch 122/200\n",
      "221/221 [==============================] - 0s 2ms/step - loss: 0.4143 - accuracy: 0.8028 - val_loss: 0.4370 - val_accuracy: 0.7934\n",
      "Epoch 123/200\n",
      "221/221 [==============================] - 0s 2ms/step - loss: 0.4171 - accuracy: 0.7963 - val_loss: 0.4412 - val_accuracy: 0.7957\n",
      "Epoch 124/200\n",
      "221/221 [==============================] - 0s 2ms/step - loss: 0.4189 - accuracy: 0.7966 - val_loss: 0.4428 - val_accuracy: 0.7910\n",
      "Epoch 125/200\n",
      "221/221 [==============================] - 0s 2ms/step - loss: 0.4162 - accuracy: 0.8016 - val_loss: 0.4412 - val_accuracy: 0.7973\n",
      "Epoch 126/200\n",
      "221/221 [==============================] - 0s 2ms/step - loss: 0.4157 - accuracy: 0.8061 - val_loss: 0.4368 - val_accuracy: 0.7926\n",
      "Epoch 127/200\n",
      "221/221 [==============================] - 0s 2ms/step - loss: 0.4219 - accuracy: 0.7935 - val_loss: 0.4361 - val_accuracy: 0.7926\n",
      "Epoch 128/200\n",
      "221/221 [==============================] - 0s 2ms/step - loss: 0.4180 - accuracy: 0.7955 - val_loss: 0.4376 - val_accuracy: 0.7957\n",
      "Epoch 129/200\n",
      "221/221 [==============================] - 0s 2ms/step - loss: 0.4147 - accuracy: 0.8012 - val_loss: 0.4384 - val_accuracy: 0.7957\n",
      "Epoch 130/200\n",
      "221/221 [==============================] - 0s 2ms/step - loss: 0.4151 - accuracy: 0.7955 - val_loss: 0.4389 - val_accuracy: 0.7942\n",
      "Epoch 131/200\n",
      "221/221 [==============================] - 0s 2ms/step - loss: 0.4179 - accuracy: 0.8030 - val_loss: 0.4366 - val_accuracy: 0.7981\n",
      "Epoch 132/200\n",
      "221/221 [==============================] - 0s 2ms/step - loss: 0.4184 - accuracy: 0.7976 - val_loss: 0.4402 - val_accuracy: 0.8005\n",
      "Epoch 133/200\n",
      "221/221 [==============================] - 0s 2ms/step - loss: 0.4177 - accuracy: 0.8002 - val_loss: 0.4395 - val_accuracy: 0.8013\n",
      "Epoch 134/200\n",
      "221/221 [==============================] - 0s 2ms/step - loss: 0.4187 - accuracy: 0.8000 - val_loss: 0.4372 - val_accuracy: 0.7997\n",
      "Epoch 135/200\n",
      "221/221 [==============================] - 0s 2ms/step - loss: 0.4157 - accuracy: 0.7961 - val_loss: 0.4450 - val_accuracy: 0.7965\n",
      "Epoch 136/200\n",
      "221/221 [==============================] - 0s 2ms/step - loss: 0.4129 - accuracy: 0.7990 - val_loss: 0.4423 - val_accuracy: 0.8060\n",
      "Epoch 137/200\n",
      "221/221 [==============================] - 0s 2ms/step - loss: 0.4121 - accuracy: 0.8043 - val_loss: 0.4406 - val_accuracy: 0.7942\n",
      "Epoch 138/200\n",
      "221/221 [==============================] - 0s 2ms/step - loss: 0.4168 - accuracy: 0.7943 - val_loss: 0.4405 - val_accuracy: 0.7957\n",
      "Epoch 139/200\n",
      "221/221 [==============================] - 0s 2ms/step - loss: 0.4188 - accuracy: 0.7953 - val_loss: 0.4439 - val_accuracy: 0.7910\n",
      "Epoch 140/200\n",
      "221/221 [==============================] - 0s 2ms/step - loss: 0.4150 - accuracy: 0.7990 - val_loss: 0.4394 - val_accuracy: 0.7997\n",
      "Epoch 141/200\n",
      "221/221 [==============================] - 0s 2ms/step - loss: 0.4148 - accuracy: 0.7961 - val_loss: 0.4447 - val_accuracy: 0.7926\n",
      "Epoch 142/200\n",
      "221/221 [==============================] - 0s 2ms/step - loss: 0.4165 - accuracy: 0.7978 - val_loss: 0.4390 - val_accuracy: 0.7957\n",
      "Epoch 143/200\n",
      "221/221 [==============================] - 0s 2ms/step - loss: 0.4186 - accuracy: 0.7990 - val_loss: 0.4385 - val_accuracy: 0.7973\n",
      "Epoch 144/200\n",
      "221/221 [==============================] - 0s 2ms/step - loss: 0.4146 - accuracy: 0.8032 - val_loss: 0.4413 - val_accuracy: 0.7942\n",
      "Epoch 145/200\n",
      "221/221 [==============================] - 0s 2ms/step - loss: 0.4135 - accuracy: 0.8028 - val_loss: 0.4396 - val_accuracy: 0.7918\n",
      "Epoch 146/200\n",
      "221/221 [==============================] - 0s 2ms/step - loss: 0.4126 - accuracy: 0.8022 - val_loss: 0.4406 - val_accuracy: 0.7973\n",
      "Epoch 147/200\n",
      "221/221 [==============================] - 0s 2ms/step - loss: 0.4138 - accuracy: 0.8041 - val_loss: 0.4411 - val_accuracy: 0.7942\n",
      "Epoch 148/200\n",
      "221/221 [==============================] - 0s 2ms/step - loss: 0.4137 - accuracy: 0.8065 - val_loss: 0.4421 - val_accuracy: 0.7942\n",
      "Epoch 149/200\n",
      "221/221 [==============================] - 0s 2ms/step - loss: 0.4117 - accuracy: 0.7994 - val_loss: 0.4448 - val_accuracy: 0.7957\n",
      "Epoch 150/200\n",
      "221/221 [==============================] - 0s 2ms/step - loss: 0.4125 - accuracy: 0.8016 - val_loss: 0.4499 - val_accuracy: 0.7965\n",
      "Epoch 151/200\n",
      "221/221 [==============================] - 0s 2ms/step - loss: 0.4130 - accuracy: 0.8037 - val_loss: 0.4432 - val_accuracy: 0.7957\n",
      "Epoch 152/200\n",
      "221/221 [==============================] - 0s 2ms/step - loss: 0.4152 - accuracy: 0.8014 - val_loss: 0.4410 - val_accuracy: 0.7902\n",
      "Epoch 153/200\n",
      "221/221 [==============================] - 0s 2ms/step - loss: 0.4171 - accuracy: 0.7984 - val_loss: 0.4392 - val_accuracy: 0.7918\n",
      "Epoch 154/200\n",
      "221/221 [==============================] - 0s 2ms/step - loss: 0.4115 - accuracy: 0.8014 - val_loss: 0.4442 - val_accuracy: 0.7934\n",
      "Epoch 155/200\n",
      "221/221 [==============================] - 0s 2ms/step - loss: 0.4140 - accuracy: 0.7984 - val_loss: 0.4446 - val_accuracy: 0.7934\n",
      "Epoch 156/200\n",
      "221/221 [==============================] - 0s 2ms/step - loss: 0.4066 - accuracy: 0.8087 - val_loss: 0.4394 - val_accuracy: 0.7926\n",
      "Epoch 157/200\n",
      "221/221 [==============================] - 0s 2ms/step - loss: 0.4108 - accuracy: 0.8045 - val_loss: 0.4416 - val_accuracy: 0.7942\n",
      "Epoch 158/200\n",
      "221/221 [==============================] - 0s 2ms/step - loss: 0.4177 - accuracy: 0.7935 - val_loss: 0.4452 - val_accuracy: 0.7926\n",
      "Epoch 159/200\n",
      "221/221 [==============================] - 0s 2ms/step - loss: 0.4091 - accuracy: 0.7990 - val_loss: 0.4445 - val_accuracy: 0.7839\n",
      "Epoch 160/200\n",
      "221/221 [==============================] - 0s 2ms/step - loss: 0.4184 - accuracy: 0.7980 - val_loss: 0.4447 - val_accuracy: 0.7926\n",
      "Epoch 161/200\n",
      "221/221 [==============================] - 0s 2ms/step - loss: 0.4139 - accuracy: 0.8006 - val_loss: 0.4449 - val_accuracy: 0.7918\n",
      "Epoch 162/200\n",
      "221/221 [==============================] - 0s 2ms/step - loss: 0.4146 - accuracy: 0.7984 - val_loss: 0.4460 - val_accuracy: 0.7855\n",
      "Epoch 163/200\n",
      "221/221 [==============================] - 0s 2ms/step - loss: 0.4099 - accuracy: 0.8059 - val_loss: 0.4514 - val_accuracy: 0.7918\n",
      "Epoch 164/200\n",
      "221/221 [==============================] - 0s 2ms/step - loss: 0.4145 - accuracy: 0.8032 - val_loss: 0.4442 - val_accuracy: 0.7902\n",
      "Epoch 165/200\n",
      "221/221 [==============================] - 0s 2ms/step - loss: 0.4120 - accuracy: 0.7974 - val_loss: 0.4472 - val_accuracy: 0.7894\n",
      "Epoch 166/200\n",
      "221/221 [==============================] - 0s 2ms/step - loss: 0.4122 - accuracy: 0.7998 - val_loss: 0.4425 - val_accuracy: 0.7879\n",
      "Epoch 167/200\n",
      "221/221 [==============================] - 0s 2ms/step - loss: 0.4126 - accuracy: 0.7959 - val_loss: 0.4400 - val_accuracy: 0.7965\n",
      "Epoch 168/200\n",
      "221/221 [==============================] - 0s 2ms/step - loss: 0.4113 - accuracy: 0.7998 - val_loss: 0.4415 - val_accuracy: 0.7910\n",
      "Epoch 169/200\n",
      "221/221 [==============================] - 0s 2ms/step - loss: 0.4073 - accuracy: 0.8030 - val_loss: 0.4394 - val_accuracy: 0.7950\n",
      "Epoch 170/200\n",
      "221/221 [==============================] - 0s 2ms/step - loss: 0.4095 - accuracy: 0.8041 - val_loss: 0.4426 - val_accuracy: 0.7950\n",
      "Epoch 171/200\n",
      "221/221 [==============================] - 0s 2ms/step - loss: 0.4075 - accuracy: 0.8087 - val_loss: 0.4403 - val_accuracy: 0.7973\n",
      "Epoch 172/200\n",
      "221/221 [==============================] - 0s 2ms/step - loss: 0.4132 - accuracy: 0.8018 - val_loss: 0.4493 - val_accuracy: 0.7902\n",
      "Epoch 173/200\n",
      "221/221 [==============================] - 0s 2ms/step - loss: 0.4113 - accuracy: 0.8030 - val_loss: 0.4514 - val_accuracy: 0.7934\n",
      "Epoch 174/200\n",
      "221/221 [==============================] - 0s 2ms/step - loss: 0.4136 - accuracy: 0.8041 - val_loss: 0.4399 - val_accuracy: 0.7942\n",
      "Epoch 175/200\n",
      "221/221 [==============================] - 0s 2ms/step - loss: 0.4113 - accuracy: 0.8010 - val_loss: 0.4466 - val_accuracy: 0.7839\n",
      "Epoch 176/200\n",
      "221/221 [==============================] - 0s 2ms/step - loss: 0.4128 - accuracy: 0.7984 - val_loss: 0.4460 - val_accuracy: 0.7942\n",
      "Epoch 177/200\n",
      "221/221 [==============================] - 0s 2ms/step - loss: 0.4116 - accuracy: 0.8037 - val_loss: 0.4463 - val_accuracy: 0.7926\n",
      "Epoch 178/200\n",
      "221/221 [==============================] - 0s 2ms/step - loss: 0.4109 - accuracy: 0.8079 - val_loss: 0.4473 - val_accuracy: 0.7918\n",
      "Epoch 179/200\n",
      "221/221 [==============================] - 0s 2ms/step - loss: 0.4113 - accuracy: 0.7992 - val_loss: 0.4443 - val_accuracy: 0.7957\n",
      "Epoch 180/200\n",
      "221/221 [==============================] - 0s 2ms/step - loss: 0.4120 - accuracy: 0.8049 - val_loss: 0.4475 - val_accuracy: 0.7879\n",
      "Epoch 181/200\n",
      "221/221 [==============================] - 0s 2ms/step - loss: 0.4101 - accuracy: 0.8028 - val_loss: 0.4475 - val_accuracy: 0.7942\n",
      "Epoch 182/200\n",
      "221/221 [==============================] - 0s 2ms/step - loss: 0.4146 - accuracy: 0.7976 - val_loss: 0.4496 - val_accuracy: 0.7926\n",
      "Epoch 183/200\n",
      "221/221 [==============================] - 0s 2ms/step - loss: 0.4076 - accuracy: 0.7998 - val_loss: 0.4465 - val_accuracy: 0.7894\n",
      "Epoch 184/200\n",
      "221/221 [==============================] - 0s 2ms/step - loss: 0.4098 - accuracy: 0.8051 - val_loss: 0.4458 - val_accuracy: 0.7997\n",
      "Epoch 185/200\n",
      "221/221 [==============================] - 0s 2ms/step - loss: 0.4120 - accuracy: 0.8053 - val_loss: 0.4481 - val_accuracy: 0.7950\n",
      "Epoch 186/200\n",
      "221/221 [==============================] - 0s 2ms/step - loss: 0.4114 - accuracy: 0.7968 - val_loss: 0.4509 - val_accuracy: 0.7894\n",
      "Epoch 187/200\n",
      "221/221 [==============================] - 0s 2ms/step - loss: 0.4113 - accuracy: 0.8032 - val_loss: 0.4441 - val_accuracy: 0.7965\n",
      "Epoch 188/200\n",
      "221/221 [==============================] - 0s 2ms/step - loss: 0.4127 - accuracy: 0.8065 - val_loss: 0.4482 - val_accuracy: 0.7910\n",
      "Epoch 189/200\n",
      "221/221 [==============================] - 0s 2ms/step - loss: 0.4088 - accuracy: 0.8000 - val_loss: 0.4446 - val_accuracy: 0.7965\n",
      "Epoch 190/200\n",
      "221/221 [==============================] - 0s 2ms/step - loss: 0.4109 - accuracy: 0.8034 - val_loss: 0.4505 - val_accuracy: 0.7863\n",
      "Epoch 191/200\n",
      "221/221 [==============================] - 0s 2ms/step - loss: 0.4070 - accuracy: 0.8059 - val_loss: 0.4512 - val_accuracy: 0.7950\n",
      "Epoch 192/200\n",
      "221/221 [==============================] - 0s 2ms/step - loss: 0.4117 - accuracy: 0.8022 - val_loss: 0.4542 - val_accuracy: 0.7886\n",
      "Epoch 193/200\n",
      "221/221 [==============================] - 0s 2ms/step - loss: 0.4064 - accuracy: 0.8069 - val_loss: 0.4510 - val_accuracy: 0.7902\n",
      "Epoch 194/200\n",
      "221/221 [==============================] - 0s 2ms/step - loss: 0.4073 - accuracy: 0.8049 - val_loss: 0.4503 - val_accuracy: 0.7894\n",
      "Epoch 195/200\n",
      "221/221 [==============================] - 0s 2ms/step - loss: 0.4095 - accuracy: 0.8012 - val_loss: 0.4529 - val_accuracy: 0.7934\n",
      "Epoch 196/200\n",
      "221/221 [==============================] - 0s 2ms/step - loss: 0.4083 - accuracy: 0.8049 - val_loss: 0.4554 - val_accuracy: 0.7902\n",
      "Epoch 197/200\n",
      "221/221 [==============================] - 0s 2ms/step - loss: 0.4104 - accuracy: 0.8018 - val_loss: 0.4492 - val_accuracy: 0.7910\n",
      "Epoch 198/200\n",
      "221/221 [==============================] - 0s 2ms/step - loss: 0.4082 - accuracy: 0.8026 - val_loss: 0.4426 - val_accuracy: 0.7942\n",
      "Epoch 199/200\n",
      "221/221 [==============================] - 0s 2ms/step - loss: 0.4084 - accuracy: 0.8039 - val_loss: 0.4421 - val_accuracy: 0.7942\n",
      "Epoch 200/200\n",
      "221/221 [==============================] - 0s 2ms/step - loss: 0.4081 - accuracy: 0.8016 - val_loss: 0.4549 - val_accuracy: 0.7855\n"
     ]
    }
   ],
   "source": [
    "# Model declaration\n",
    "model1 = Sequential()\n",
    "\n",
    "model1.add(Dropout(0.3, input_shape=(X_train.shape[1],)))\n",
    "model1.add(Dense(35, activation='elu'))\n",
    "model1.add(Dense(15, activation='elu'))\n",
    "model1.add(Dense(10, activation='elu'))\n",
    "model1.add(Dense(1, activation='sigmoid'))\n",
    "\n",
    "# Compile \n",
    "model1.compile(optimizer='nadam', loss='binary_crossentropy', metrics=['accuracy'])\n",
    "\n",
    "# Train the model\n",
    "history1 = model1.fit(train_dataset, epochs=200, validation_data=val_dataset, verbose=1)"
   ]
  },
  {
   "cell_type": "code",
   "execution_count": 120,
   "metadata": {},
   "outputs": [],
   "source": [
    "# Model declaration\n",
    "#model1 = Sequential()\n",
    "\n",
    "#model1.add(Dense(30, activation='elu', input_shape=(46,))) # hidden layer \n",
    "#model1.add(Dense(20, activation='elu'))\n",
    "#model1.add(Dense(10, activation='elu'))\n",
    "#model1.add(Dense(1, activation='sigmoid'))\n",
    "\n",
    "# compile\n",
    "#model.compile(loss='binary_crossentropy',\n",
    "              #optimizer=\"nadam\",\n",
    "              #metrics=['accuracy'])\n",
    "\n",
    "# Train the model\n",
    "#history = model.fit(X_train, y_train, epochs=100, validation_data=(X_val, y_val), verbose=1)"
   ]
  },
  {
   "cell_type": "markdown",
   "metadata": {},
   "source": [
    "##### Functional API"
   ]
  },
  {
   "cell_type": "code",
   "execution_count": 121,
   "metadata": {},
   "outputs": [],
   "source": [
    "input_data = Input(shape=(X_train.shape[1],))\n",
    "hidden_1 = Dense(35, activation='elu')(input_data)\n",
    "output_data = Dense(1, activation='sigmoid')(hidden_1)\n",
    "\n",
    "model = Model(inputs=input_data, outputs=output_data)"
   ]
  },
  {
   "cell_type": "code",
   "execution_count": 122,
   "metadata": {},
   "outputs": [],
   "source": [
    "# Compile the model\n",
    "model.compile(optimizer='adam', loss='binary_crossentropy', metrics=['accuracy'])\n"
   ]
  },
  {
   "cell_type": "code",
   "execution_count": 123,
   "metadata": {},
   "outputs": [],
   "source": [
    "# Train the model\n",
    "history = model.fit(train_dataset, epochs=100, validation_data=val_dataset, verbose=0)"
   ]
  },
  {
   "cell_type": "code",
   "execution_count": 124,
   "metadata": {},
   "outputs": [
    {
     "name": "stdout",
     "output_type": "stream",
     "text": [
      "Model: \"model_1\"\n",
      "_________________________________________________________________\n",
      " Layer (type)                Output Shape              Param #   \n",
      "=================================================================\n",
      " input_2 (InputLayer)        [(None, 46)]              0         \n",
      "                                                                 \n",
      " dense_10 (Dense)            (None, 35)                1645      \n",
      "                                                                 \n",
      " dense_11 (Dense)            (None, 1)                 36        \n",
      "                                                                 \n",
      "=================================================================\n",
      "Total params: 1,681\n",
      "Trainable params: 1,681\n",
      "Non-trainable params: 0\n",
      "_________________________________________________________________\n"
     ]
    }
   ],
   "source": [
    "model.summary()"
   ]
  },
  {
   "cell_type": "code",
   "execution_count": 125,
   "metadata": {},
   "outputs": [
    {
     "data": {
      "text/html": [
       "<div>\n",
       "<style scoped>\n",
       "    .dataframe tbody tr th:only-of-type {\n",
       "        vertical-align: middle;\n",
       "    }\n",
       "\n",
       "    .dataframe tbody tr th {\n",
       "        vertical-align: top;\n",
       "    }\n",
       "\n",
       "    .dataframe thead th {\n",
       "        text-align: right;\n",
       "    }\n",
       "</style>\n",
       "<table border=\"1\" class=\"dataframe\">\n",
       "  <thead>\n",
       "    <tr style=\"text-align: right;\">\n",
       "      <th></th>\n",
       "      <th>loss</th>\n",
       "      <th>accuracy</th>\n",
       "      <th>val_loss</th>\n",
       "      <th>val_accuracy</th>\n",
       "    </tr>\n",
       "  </thead>\n",
       "  <tbody>\n",
       "    <tr>\n",
       "      <th>0</th>\n",
       "      <td>0.446796</td>\n",
       "      <td>0.776331</td>\n",
       "      <td>0.432427</td>\n",
       "      <td>0.796530</td>\n",
       "    </tr>\n",
       "    <tr>\n",
       "      <th>1</th>\n",
       "      <td>0.419239</td>\n",
       "      <td>0.800000</td>\n",
       "      <td>0.427308</td>\n",
       "      <td>0.805994</td>\n",
       "    </tr>\n",
       "    <tr>\n",
       "      <th>2</th>\n",
       "      <td>0.417730</td>\n",
       "      <td>0.802564</td>\n",
       "      <td>0.425724</td>\n",
       "      <td>0.801262</td>\n",
       "    </tr>\n",
       "    <tr>\n",
       "      <th>3</th>\n",
       "      <td>0.415558</td>\n",
       "      <td>0.806509</td>\n",
       "      <td>0.427913</td>\n",
       "      <td>0.802839</td>\n",
       "    </tr>\n",
       "    <tr>\n",
       "      <th>4</th>\n",
       "      <td>0.415606</td>\n",
       "      <td>0.804536</td>\n",
       "      <td>0.425608</td>\n",
       "      <td>0.807571</td>\n",
       "    </tr>\n",
       "  </tbody>\n",
       "</table>\n",
       "</div>"
      ],
      "text/plain": [
       "       loss  accuracy  val_loss  val_accuracy\n",
       "0  0.446796  0.776331  0.432427      0.796530\n",
       "1  0.419239  0.800000  0.427308      0.805994\n",
       "2  0.417730  0.802564  0.425724      0.801262\n",
       "3  0.415558  0.806509  0.427913      0.802839\n",
       "4  0.415606  0.804536  0.425608      0.807571"
      ]
     },
     "execution_count": 125,
     "metadata": {},
     "output_type": "execute_result"
    }
   ],
   "source": [
    "metrics = pd.DataFrame(history.history)\n",
    "metrics.head()"
   ]
  },
  {
   "cell_type": "code",
   "execution_count": 126,
   "metadata": {},
   "outputs": [
    {
     "data": {
      "image/png": "[encoded data removed]",
      "text/plain": [
       "<Figure size 1368x648 with 1 Axes>"
      ]
     },
     "metadata": {},
     "output_type": "display_data"
    }
   ],
   "source": [
    "metrics = pd.DataFrame(history.history)\n",
    "metrics.plot(figsize=(19, 9))\n",
    "plt.title('Model Improvement Metrics')\n",
    "plt.xlabel('Epoch')\n",
    "plt.show()"
   ]
  },
  {
   "cell_type": "code",
   "execution_count": 127,
   "metadata": {},
   "outputs": [
    {
     "name": "stdout",
     "output_type": "stream",
     "text": [
      "Training Set\n",
      "              precision    recall  f1-score   support\n",
      "\n",
      "           0       0.84      0.92      0.88      3725\n",
      "           1       0.70      0.53      0.60      1345\n",
      "\n",
      "    accuracy                           0.82      5070\n",
      "   macro avg       0.77      0.72      0.74      5070\n",
      "weighted avg       0.81      0.82      0.81      5070\n",
      "\n",
      "Validation Set\n",
      "              precision    recall  f1-score   support\n",
      "\n",
      "           0       0.84      0.91      0.87       931\n",
      "           1       0.66      0.52      0.58       337\n",
      "\n",
      "    accuracy                           0.80      1268\n",
      "   macro avg       0.75      0.71      0.73      1268\n",
      "weighted avg       0.79      0.80      0.79      1268\n",
      "\n"
     ]
    }
   ],
   "source": [
    "print('Training Set')\n",
    "print(classification_report(y_train, model.predict(X_train).round()))\n",
    "print('Validation Set')\n",
    "print(classification_report(y_val, model.predict(X_val).round()))"
   ]
  },
  {
   "cell_type": "markdown",
   "metadata": {},
   "source": [
    "##### Model Analysis"
   ]
  },
  {
   "cell_type": "markdown",
   "metadata": {},
   "source": [
    "Setelah melakukan model improvement dengan menambahkan 1 hidden layer dan 10 neuron, epoch pada training model juga di tambahkan menjadi 200. model menghasilkan loss dan accuracy yang tidak terlalu significant. nilai accuracy pada training-set sebesar **0.82** dan validation-set **0.81**"
   ]
  },
  {
   "cell_type": "markdown",
   "metadata": {},
   "source": [
    "<h4> --> Model Improvement Analysis\n",
    "\n",
    "After doing model improvement by adding 1 hidden layer and 10 neurons, the epoch on the training model is also added to 200. The model produces loss and accuracy that are not too significant. the accuracy value in the training-set is **0.82** and the validation-set **0.81** </h4>"
   ]
  },
  {
   "cell_type": "markdown",
   "metadata": {},
   "source": [
    "### <strong>Model Saving<strong>\n",
    "\n",
    "##### Dengan melihat hasil evaluasi model, pilihlah model terbaik untuk disimpan. Model terbaik ini akan digunakan kembali dalam melakukan deployment di Heroku.\n",
    "---\n"
   ]
  },
  {
   "cell_type": "code",
   "execution_count": 128,
   "metadata": {},
   "outputs": [
    {
     "name": "stdout",
     "output_type": "stream",
     "text": [
      "Model Saved!\n"
     ]
    }
   ],
   "source": [
    "# Save the model\n",
    "model.save('model.h5')\n",
    "print('Model Saved!')\n",
    "\n",
    "# Save preprocessing pipeline\n",
    "with open('preprocessor.pkl', 'wb') as file:\n",
    "    pickle.dump(preprocessor, file)"
   ]
  },
  {
   "cell_type": "markdown",
   "metadata": {},
   "source": [
    "### <strong>Model Inference<strong>\n",
    "\n",
    "##### Model yang sudah dilatih akan dicoba pada data yang bukan termasuk ke dalam train-set ataupun test-set. Data ini harus dalam format yang asli, bukan data yang sudah di-scaled.\n",
    "---"
   ]
  },
  {
   "cell_type": "code",
   "execution_count": 129,
   "metadata": {},
   "outputs": [
    {
     "data": {
      "text/html": [
       "<div>\n",
       "<style scoped>\n",
       "    .dataframe tbody tr th:only-of-type {\n",
       "        vertical-align: middle;\n",
       "    }\n",
       "\n",
       "    .dataframe tbody tr th {\n",
       "        vertical-align: top;\n",
       "    }\n",
       "\n",
       "    .dataframe thead th {\n",
       "        text-align: right;\n",
       "    }\n",
       "</style>\n",
       "<table border=\"1\" class=\"dataframe\">\n",
       "  <thead>\n",
       "    <tr style=\"text-align: right;\">\n",
       "      <th></th>\n",
       "      <th>gender</th>\n",
       "      <th>seniorcitizen</th>\n",
       "      <th>partner</th>\n",
       "      <th>dependents</th>\n",
       "      <th>tenure</th>\n",
       "      <th>phoneservice</th>\n",
       "      <th>multiplelines</th>\n",
       "      <th>internetservice</th>\n",
       "      <th>onlinesecurity</th>\n",
       "      <th>onlinebackup</th>\n",
       "      <th>deviceprotection</th>\n",
       "      <th>techsupport</th>\n",
       "      <th>streamingtv</th>\n",
       "      <th>streamingmovies</th>\n",
       "      <th>contract</th>\n",
       "      <th>paperlessbilling</th>\n",
       "      <th>paymentmethod</th>\n",
       "      <th>monthlycharges</th>\n",
       "      <th>totalcharges</th>\n",
       "      <th>churn</th>\n",
       "    </tr>\n",
       "  </thead>\n",
       "  <tbody>\n",
       "    <tr>\n",
       "      <th>4743</th>\n",
       "      <td>Male</td>\n",
       "      <td>No</td>\n",
       "      <td>Yes</td>\n",
       "      <td>No</td>\n",
       "      <td>56</td>\n",
       "      <td>Yes</td>\n",
       "      <td>Yes</td>\n",
       "      <td>DSL</td>\n",
       "      <td>No</td>\n",
       "      <td>Yes</td>\n",
       "      <td>Yes</td>\n",
       "      <td>No</td>\n",
       "      <td>No</td>\n",
       "      <td>No</td>\n",
       "      <td>Two year</td>\n",
       "      <td>No</td>\n",
       "      <td>Credit card (automatic)</td>\n",
       "      <td>59.50</td>\n",
       "      <td>3389.25</td>\n",
       "      <td>0</td>\n",
       "    </tr>\n",
       "    <tr>\n",
       "      <th>6242</th>\n",
       "      <td>Female</td>\n",
       "      <td>No</td>\n",
       "      <td>Yes</td>\n",
       "      <td>Yes</td>\n",
       "      <td>72</td>\n",
       "      <td>Yes</td>\n",
       "      <td>Yes</td>\n",
       "      <td>Fiber optic</td>\n",
       "      <td>Yes</td>\n",
       "      <td>Yes</td>\n",
       "      <td>Yes</td>\n",
       "      <td>Yes</td>\n",
       "      <td>No</td>\n",
       "      <td>Yes</td>\n",
       "      <td>Two year</td>\n",
       "      <td>No</td>\n",
       "      <td>Credit card (automatic)</td>\n",
       "      <td>107.45</td>\n",
       "      <td>7658.30</td>\n",
       "      <td>0</td>\n",
       "    </tr>\n",
       "    <tr>\n",
       "      <th>4138</th>\n",
       "      <td>Female</td>\n",
       "      <td>No</td>\n",
       "      <td>No</td>\n",
       "      <td>No</td>\n",
       "      <td>1</td>\n",
       "      <td>Yes</td>\n",
       "      <td>No</td>\n",
       "      <td>Fiber optic</td>\n",
       "      <td>No</td>\n",
       "      <td>No</td>\n",
       "      <td>Yes</td>\n",
       "      <td>No</td>\n",
       "      <td>Yes</td>\n",
       "      <td>No</td>\n",
       "      <td>Month-to-month</td>\n",
       "      <td>Yes</td>\n",
       "      <td>Electronic check</td>\n",
       "      <td>85.45</td>\n",
       "      <td>85.45</td>\n",
       "      <td>1</td>\n",
       "    </tr>\n",
       "    <tr>\n",
       "      <th>3579</th>\n",
       "      <td>Male</td>\n",
       "      <td>No</td>\n",
       "      <td>Yes</td>\n",
       "      <td>Yes</td>\n",
       "      <td>40</td>\n",
       "      <td>Yes</td>\n",
       "      <td>Yes</td>\n",
       "      <td>Fiber optic</td>\n",
       "      <td>No</td>\n",
       "      <td>No</td>\n",
       "      <td>Yes</td>\n",
       "      <td>No</td>\n",
       "      <td>No</td>\n",
       "      <td>No</td>\n",
       "      <td>Month-to-month</td>\n",
       "      <td>Yes</td>\n",
       "      <td>Electronic check</td>\n",
       "      <td>81.20</td>\n",
       "      <td>3292.30</td>\n",
       "      <td>0</td>\n",
       "    </tr>\n",
       "    <tr>\n",
       "      <th>4478</th>\n",
       "      <td>Female</td>\n",
       "      <td>No</td>\n",
       "      <td>No</td>\n",
       "      <td>No</td>\n",
       "      <td>3</td>\n",
       "      <td>Yes</td>\n",
       "      <td>No</td>\n",
       "      <td>DSL</td>\n",
       "      <td>No</td>\n",
       "      <td>No</td>\n",
       "      <td>No</td>\n",
       "      <td>No</td>\n",
       "      <td>Yes</td>\n",
       "      <td>No</td>\n",
       "      <td>Month-to-month</td>\n",
       "      <td>Yes</td>\n",
       "      <td>Electronic check</td>\n",
       "      <td>54.20</td>\n",
       "      <td>140.40</td>\n",
       "      <td>0</td>\n",
       "    </tr>\n",
       "    <tr>\n",
       "      <th>...</th>\n",
       "      <td>...</td>\n",
       "      <td>...</td>\n",
       "      <td>...</td>\n",
       "      <td>...</td>\n",
       "      <td>...</td>\n",
       "      <td>...</td>\n",
       "      <td>...</td>\n",
       "      <td>...</td>\n",
       "      <td>...</td>\n",
       "      <td>...</td>\n",
       "      <td>...</td>\n",
       "      <td>...</td>\n",
       "      <td>...</td>\n",
       "      <td>...</td>\n",
       "      <td>...</td>\n",
       "      <td>...</td>\n",
       "      <td>...</td>\n",
       "      <td>...</td>\n",
       "      <td>...</td>\n",
       "      <td>...</td>\n",
       "    </tr>\n",
       "    <tr>\n",
       "      <th>2343</th>\n",
       "      <td>Female</td>\n",
       "      <td>No</td>\n",
       "      <td>Yes</td>\n",
       "      <td>No</td>\n",
       "      <td>3</td>\n",
       "      <td>Yes</td>\n",
       "      <td>No</td>\n",
       "      <td>DSL</td>\n",
       "      <td>No</td>\n",
       "      <td>No</td>\n",
       "      <td>No</td>\n",
       "      <td>No</td>\n",
       "      <td>No</td>\n",
       "      <td>No</td>\n",
       "      <td>Month-to-month</td>\n",
       "      <td>Yes</td>\n",
       "      <td>Mailed check</td>\n",
       "      <td>46.10</td>\n",
       "      <td>130.15</td>\n",
       "      <td>0</td>\n",
       "    </tr>\n",
       "    <tr>\n",
       "      <th>6505</th>\n",
       "      <td>Male</td>\n",
       "      <td>No</td>\n",
       "      <td>Yes</td>\n",
       "      <td>Yes</td>\n",
       "      <td>56</td>\n",
       "      <td>Yes</td>\n",
       "      <td>No</td>\n",
       "      <td>DSL</td>\n",
       "      <td>Yes</td>\n",
       "      <td>Yes</td>\n",
       "      <td>Yes</td>\n",
       "      <td>No</td>\n",
       "      <td>No</td>\n",
       "      <td>No</td>\n",
       "      <td>Two year</td>\n",
       "      <td>Yes</td>\n",
       "      <td>Bank transfer (automatic)</td>\n",
       "      <td>59.80</td>\n",
       "      <td>3457.45</td>\n",
       "      <td>0</td>\n",
       "    </tr>\n",
       "    <tr>\n",
       "      <th>2283</th>\n",
       "      <td>Male</td>\n",
       "      <td>No</td>\n",
       "      <td>No</td>\n",
       "      <td>No</td>\n",
       "      <td>1</td>\n",
       "      <td>Yes</td>\n",
       "      <td>No</td>\n",
       "      <td>Fiber optic</td>\n",
       "      <td>No</td>\n",
       "      <td>No</td>\n",
       "      <td>No</td>\n",
       "      <td>No</td>\n",
       "      <td>No</td>\n",
       "      <td>No</td>\n",
       "      <td>Month-to-month</td>\n",
       "      <td>Yes</td>\n",
       "      <td>Mailed check</td>\n",
       "      <td>71.55</td>\n",
       "      <td>71.55</td>\n",
       "      <td>1</td>\n",
       "    </tr>\n",
       "    <tr>\n",
       "      <th>4278</th>\n",
       "      <td>Female</td>\n",
       "      <td>No</td>\n",
       "      <td>Yes</td>\n",
       "      <td>No</td>\n",
       "      <td>48</td>\n",
       "      <td>Yes</td>\n",
       "      <td>No</td>\n",
       "      <td>Fiber optic</td>\n",
       "      <td>No</td>\n",
       "      <td>Yes</td>\n",
       "      <td>Yes</td>\n",
       "      <td>No</td>\n",
       "      <td>Yes</td>\n",
       "      <td>Yes</td>\n",
       "      <td>One year</td>\n",
       "      <td>Yes</td>\n",
       "      <td>Electronic check</td>\n",
       "      <td>97.05</td>\n",
       "      <td>4692.95</td>\n",
       "      <td>0</td>\n",
       "    </tr>\n",
       "    <tr>\n",
       "      <th>340</th>\n",
       "      <td>Female</td>\n",
       "      <td>Yes</td>\n",
       "      <td>No</td>\n",
       "      <td>No</td>\n",
       "      <td>32</td>\n",
       "      <td>Yes</td>\n",
       "      <td>No</td>\n",
       "      <td>DSL</td>\n",
       "      <td>No</td>\n",
       "      <td>Yes</td>\n",
       "      <td>No</td>\n",
       "      <td>Yes</td>\n",
       "      <td>No</td>\n",
       "      <td>No</td>\n",
       "      <td>Month-to-month</td>\n",
       "      <td>No</td>\n",
       "      <td>Bank transfer (automatic)</td>\n",
       "      <td>54.65</td>\n",
       "      <td>1830.10</td>\n",
       "      <td>0</td>\n",
       "    </tr>\n",
       "  </tbody>\n",
       "</table>\n",
       "<p>705 rows × 20 columns</p>\n",
       "</div>"
      ],
      "text/plain": [
       "      gender seniorcitizen partner dependents  tenure phoneservice  \\\n",
       "4743    Male            No     Yes         No      56          Yes   \n",
       "6242  Female            No     Yes        Yes      72          Yes   \n",
       "4138  Female            No      No         No       1          Yes   \n",
       "3579    Male            No     Yes        Yes      40          Yes   \n",
       "4478  Female            No      No         No       3          Yes   \n",
       "...      ...           ...     ...        ...     ...          ...   \n",
       "2343  Female            No     Yes         No       3          Yes   \n",
       "6505    Male            No     Yes        Yes      56          Yes   \n",
       "2283    Male            No      No         No       1          Yes   \n",
       "4278  Female            No     Yes         No      48          Yes   \n",
       "340   Female           Yes      No         No      32          Yes   \n",
       "\n",
       "     multiplelines internetservice onlinesecurity onlinebackup  \\\n",
       "4743           Yes             DSL             No          Yes   \n",
       "6242           Yes     Fiber optic            Yes          Yes   \n",
       "4138            No     Fiber optic             No           No   \n",
       "3579           Yes     Fiber optic             No           No   \n",
       "4478            No             DSL             No           No   \n",
       "...            ...             ...            ...          ...   \n",
       "2343            No             DSL             No           No   \n",
       "6505            No             DSL            Yes          Yes   \n",
       "2283            No     Fiber optic             No           No   \n",
       "4278            No     Fiber optic             No          Yes   \n",
       "340             No             DSL             No          Yes   \n",
       "\n",
       "     deviceprotection techsupport streamingtv streamingmovies        contract  \\\n",
       "4743              Yes          No          No              No        Two year   \n",
       "6242              Yes         Yes          No             Yes        Two year   \n",
       "4138              Yes          No         Yes              No  Month-to-month   \n",
       "3579              Yes          No          No              No  Month-to-month   \n",
       "4478               No          No         Yes              No  Month-to-month   \n",
       "...               ...         ...         ...             ...             ...   \n",
       "2343               No          No          No              No  Month-to-month   \n",
       "6505              Yes          No          No              No        Two year   \n",
       "2283               No          No          No              No  Month-to-month   \n",
       "4278              Yes          No         Yes             Yes        One year   \n",
       "340                No         Yes          No              No  Month-to-month   \n",
       "\n",
       "     paperlessbilling              paymentmethod  monthlycharges  \\\n",
       "4743               No    Credit card (automatic)           59.50   \n",
       "6242               No    Credit card (automatic)          107.45   \n",
       "4138              Yes           Electronic check           85.45   \n",
       "3579              Yes           Electronic check           81.20   \n",
       "4478              Yes           Electronic check           54.20   \n",
       "...               ...                        ...             ...   \n",
       "2343              Yes               Mailed check           46.10   \n",
       "6505              Yes  Bank transfer (automatic)           59.80   \n",
       "2283              Yes               Mailed check           71.55   \n",
       "4278              Yes           Electronic check           97.05   \n",
       "340                No  Bank transfer (automatic)           54.65   \n",
       "\n",
       "      totalcharges  churn  \n",
       "4743       3389.25      0  \n",
       "6242       7658.30      0  \n",
       "4138         85.45      1  \n",
       "3579       3292.30      0  \n",
       "4478        140.40      0  \n",
       "...            ...    ...  \n",
       "2343        130.15      0  \n",
       "6505       3457.45      0  \n",
       "2283         71.55      1  \n",
       "4278       4692.95      0  \n",
       "340        1830.10      0  \n",
       "\n",
       "[705 rows x 20 columns]"
      ]
     },
     "execution_count": 129,
     "metadata": {},
     "output_type": "execute_result"
    }
   ],
   "source": [
    "df_test"
   ]
  },
  {
   "cell_type": "code",
   "execution_count": 130,
   "metadata": {},
   "outputs": [],
   "source": [
    "# Split Feature & Target\n",
    "\n",
    "X_test = df_test.drop(['churn'], axis=1) \n",
    "y_test = df_test['churn'] "
   ]
  },
  {
   "cell_type": "code",
   "execution_count": 131,
   "metadata": {},
   "outputs": [],
   "source": [
    "X_test = preprocessor.transform(X_test)"
   ]
  },
  {
   "cell_type": "code",
   "execution_count": 132,
   "metadata": {},
   "outputs": [],
   "source": [
    "y_pred = model.predict(X_test).round()"
   ]
  },
  {
   "cell_type": "code",
   "execution_count": 133,
   "metadata": {},
   "outputs": [
    {
     "data": {
      "text/html": [
       "<div>\n",
       "<style scoped>\n",
       "    .dataframe tbody tr th:only-of-type {\n",
       "        vertical-align: middle;\n",
       "    }\n",
       "\n",
       "    .dataframe tbody tr th {\n",
       "        vertical-align: top;\n",
       "    }\n",
       "\n",
       "    .dataframe thead th {\n",
       "        text-align: right;\n",
       "    }\n",
       "</style>\n",
       "<table border=\"1\" class=\"dataframe\">\n",
       "  <thead>\n",
       "    <tr style=\"text-align: right;\">\n",
       "      <th></th>\n",
       "      <th>churn</th>\n",
       "      <th>predicted churn</th>\n",
       "    </tr>\n",
       "  </thead>\n",
       "  <tbody>\n",
       "    <tr>\n",
       "      <th>4138</th>\n",
       "      <td>1</td>\n",
       "      <td>1</td>\n",
       "    </tr>\n",
       "    <tr>\n",
       "      <th>5099</th>\n",
       "      <td>1</td>\n",
       "      <td>0</td>\n",
       "    </tr>\n",
       "    <tr>\n",
       "      <th>1043</th>\n",
       "      <td>1</td>\n",
       "      <td>0</td>\n",
       "    </tr>\n",
       "    <tr>\n",
       "      <th>6745</th>\n",
       "      <td>1</td>\n",
       "      <td>0</td>\n",
       "    </tr>\n",
       "    <tr>\n",
       "      <th>973</th>\n",
       "      <td>1</td>\n",
       "      <td>0</td>\n",
       "    </tr>\n",
       "    <tr>\n",
       "      <th>1354</th>\n",
       "      <td>1</td>\n",
       "      <td>1</td>\n",
       "    </tr>\n",
       "    <tr>\n",
       "      <th>2290</th>\n",
       "      <td>1</td>\n",
       "      <td>1</td>\n",
       "    </tr>\n",
       "    <tr>\n",
       "      <th>1934</th>\n",
       "      <td>1</td>\n",
       "      <td>1</td>\n",
       "    </tr>\n",
       "    <tr>\n",
       "      <th>2662</th>\n",
       "      <td>1</td>\n",
       "      <td>1</td>\n",
       "    </tr>\n",
       "    <tr>\n",
       "      <th>4471</th>\n",
       "      <td>1</td>\n",
       "      <td>0</td>\n",
       "    </tr>\n",
       "    <tr>\n",
       "      <th>6554</th>\n",
       "      <td>1</td>\n",
       "      <td>1</td>\n",
       "    </tr>\n",
       "    <tr>\n",
       "      <th>6914</th>\n",
       "      <td>1</td>\n",
       "      <td>1</td>\n",
       "    </tr>\n",
       "    <tr>\n",
       "      <th>377</th>\n",
       "      <td>1</td>\n",
       "      <td>0</td>\n",
       "    </tr>\n",
       "    <tr>\n",
       "      <th>53</th>\n",
       "      <td>1</td>\n",
       "      <td>1</td>\n",
       "    </tr>\n",
       "    <tr>\n",
       "      <th>1834</th>\n",
       "      <td>1</td>\n",
       "      <td>1</td>\n",
       "    </tr>\n",
       "    <tr>\n",
       "      <th>6821</th>\n",
       "      <td>1</td>\n",
       "      <td>1</td>\n",
       "    </tr>\n",
       "    <tr>\n",
       "      <th>471</th>\n",
       "      <td>1</td>\n",
       "      <td>0</td>\n",
       "    </tr>\n",
       "    <tr>\n",
       "      <th>6197</th>\n",
       "      <td>1</td>\n",
       "      <td>0</td>\n",
       "    </tr>\n",
       "    <tr>\n",
       "      <th>1236</th>\n",
       "      <td>1</td>\n",
       "      <td>1</td>\n",
       "    </tr>\n",
       "    <tr>\n",
       "      <th>4287</th>\n",
       "      <td>1</td>\n",
       "      <td>0</td>\n",
       "    </tr>\n",
       "    <tr>\n",
       "      <th>4082</th>\n",
       "      <td>1</td>\n",
       "      <td>0</td>\n",
       "    </tr>\n",
       "    <tr>\n",
       "      <th>5600</th>\n",
       "      <td>1</td>\n",
       "      <td>1</td>\n",
       "    </tr>\n",
       "    <tr>\n",
       "      <th>5989</th>\n",
       "      <td>1</td>\n",
       "      <td>1</td>\n",
       "    </tr>\n",
       "    <tr>\n",
       "      <th>2427</th>\n",
       "      <td>1</td>\n",
       "      <td>1</td>\n",
       "    </tr>\n",
       "    <tr>\n",
       "      <th>3078</th>\n",
       "      <td>1</td>\n",
       "      <td>1</td>\n",
       "    </tr>\n",
       "  </tbody>\n",
       "</table>\n",
       "</div>"
      ],
      "text/plain": [
       "      churn  predicted churn\n",
       "4138      1                1\n",
       "5099      1                0\n",
       "1043      1                0\n",
       "6745      1                0\n",
       "973       1                0\n",
       "1354      1                1\n",
       "2290      1                1\n",
       "1934      1                1\n",
       "2662      1                1\n",
       "4471      1                0\n",
       "6554      1                1\n",
       "6914      1                1\n",
       "377       1                0\n",
       "53        1                1\n",
       "1834      1                1\n",
       "6821      1                1\n",
       "471       1                0\n",
       "6197      1                0\n",
       "1236      1                1\n",
       "4287      1                0\n",
       "4082      1                0\n",
       "5600      1                1\n",
       "5989      1                1\n",
       "2427      1                1\n",
       "3078      1                1"
      ]
     },
     "execution_count": 133,
     "metadata": {},
     "output_type": "execute_result"
    }
   ],
   "source": [
    "predictions = pd.DataFrame({'churn': y_test, 'predicted churn': y_pred.flatten().astype(int)})\n",
    "predictions[predictions.churn == 1].head(25)"
   ]
  },
  {
   "cell_type": "code",
   "execution_count": 134,
   "metadata": {},
   "outputs": [],
   "source": [
    "test_dataset = tf.data.Dataset.from_tensor_slices((X_test, y_test)).shuffle(10000).batch(23)"
   ]
  },
  {
   "cell_type": "code",
   "execution_count": 135,
   "metadata": {},
   "outputs": [
    {
     "name": "stdout",
     "output_type": "stream",
     "text": [
      "31/31 [==============================] - 0s 2ms/step - loss: 0.4076 - accuracy: 0.8071\n",
      "Data Test Set - Loss     : 0.41\n",
      "Data Test Set - Accuracy : 0.81\n"
     ]
    }
   ],
   "source": [
    "results = model.evaluate(test_dataset)\n",
    "print(f'Data Test Set - Loss     : {results[0]:.2f}')\n",
    "print(f'Data Test Set - Accuracy : {results[1]:.2f}')"
   ]
  },
  {
   "cell_type": "markdown",
   "metadata": {},
   "source": [
    "### <strong>Conclusion<strong>\n",
    "---"
   ]
  },
  {
   "cell_type": "markdown",
   "metadata": {},
   "source": [
    "<h4> In this Milestone 2 project, I used data from PT. TELCO\n",
    "(Full dataset can be downloaded from this website <a href='https://www.kaggle.com/code/ahmedhanymetawaa/churn-eda-predicting-model'>Kaggle</a>)\n",
    "\n",
    "PT. TELCO is a company engaged in tech, which provides various types of services such as telephone access, internet and cable tv. \n",
    "\n",
    "In this project I want to predict which customers will decide to <ins>**customer churn**<ins> or <ins>**customer not churn**<ins>.\n",
    "\n",
    "in the field of business **churn** is the loss of customer from a business. \n",
    "\n",
    "Churn is calculated from how many customers leave the business in a given time.\n",
    "\n",
    "<ins>At EDA I did some data visualization and drew conclusions from customer data at this company as follows:<ins>\n",
    "\n",
    "- The percentage of 'customer churn', customers who don't or persist are still quite a lot **73.5%**\n",
    "\n",
    "- Customer gender **MALE** and **FEMALE** are not too far apart and do not affect the churn target because between male and female the difference is not too significant.\n",
    "\n",
    "- There is a category 'senior citizen' which means an elderly customer. there are more than a thousand customers who enter the 'senior citizen' category. and more elderly customers 'senior citizens' who choose 'churn'. probably because people with old age will think twice about using technology.\n",
    "\n",
    "- Then if we see that there is a 'partner' category, this is a category where customer data has a partner or single. but customers who do not have a partner churn more than those who already have a partner.\n",
    "\n",
    "- Because some customers already have 'partners' may have considerations with 'dependants'. Customers who do not have dependents actually have a greater percentage of churn than those who have dependents.\n",
    " \n",
    "- Services provided by PT. TELCO has 'phone service' or telephone service, 'multiple lines' or full service (telephone - cable tv - and internet subscriptions)\n",
    "then there are also 2 types of internet services,\n",
    "   - Most customers use Fiber Optic for internet services. but many customers also choose DSL services.\n",
    "   - In the data, there are also customers who do not subscribe to internet services.\n",
    "   \n",
    "If we look at the percentage above, customers who subscribe to the FIBER OPTIC internet have a higher churn percentage compared to customers who do not subscribe to the internet.\n",
    "This could be due to a slow internet connection network that makes customers want to stop and switch to using another company.\n",
    "\n",
    "- While the subscription for streaming tv and streaming movies services doesn't really affect the customer's choice of **churn** or **not churn**.\n",
    "\n",
    "- Customers who doesn’t subscribe ‘online security’ - ‘online backup’ - \n",
    "‘Device protection’ - and ‘tech support’ have a higher percentage to customer churn.\n",
    "\n",
    "- Most of customers who have the potential for 'customer churn' who make monthly payments.\n",
    "\n",
    "- Customers who choose paperless billing, almost half of them have the potential for 'customer churn'.\n",
    "\n",
    "- The highest potential for 'customer churn' from payment method is customer who choose the 'Electronic check'\n",
    "\n",
    "---------------------------------------------------------------------------------------------------------\n",
    "\n",
    "<ins>I created a Neural Network model with:<ins>\n",
    "\n",
    " - input layers have 46 neurons (input layers are taken from many features)\n",
    " - 3 hidden layers with 10, 15 and 5 neurons\n",
    " - using **ReLU** as activation function\n",
    " - for the output layer I use **Sigmoid** as activation and 1 neuron because this is a **binary classifiation**\n",
    " - **compile** model using optimizer **adam** and **binary crossentropy** as loss function.\n",
    "\n",
    "<ins>First model result:<ins>\n",
    "\n",
    "in the first model, the accuracy of the model is quite good, the training-set is very small **0.80** and **0.81** validation set.\n",
    "In the graph, it can be seen that the model is overfit because **training-loss** has decreased while **validation** has increased.\n",
    "\n",
    "\n",
    "<ins>Model Improvement:<ins>\n",
    "\n",
    "I make an improvement model to check whether the model results will be better than the first model, with\n",
    " - input layers have 46 neurons (input layers are taken from many features)\n",
    " - using **dropout** (0.3) as regularization\n",
    " - 3 hidden layers with 35, 15 and 10 neurons\n",
    " - using **elu** as activation function\n",
    " - for the output layer I use **Sigmoid** as activation and 1 neuron because this is **binary classification\n",
    " - **compile** model using optimizer **nadam** and **binary crossentropy** as loss function.\n",
    " - increase **epoch** to 200\n",
    "\n",
    "\n",
    "<ins>Result of improvement model:<ins>\n",
    "\n",
    "the model produces loss and accuracy that are not too significant or much different from the first model. the accuracy value in the training-set is **0.82** and the validation-set **0.81** </h4>\n",
    "\n",
    "--------------------------------------------------------------------------------------------------------\n",
    "\n",
    "<h4>I made this project with deployment in herokuapp, kindly check my dashboard:\n",
    "\n",
    "\n",
    "[![Deploy to Heroku](https://www.herokucdn.com/deploy/button.svg)](https://anita-009ml1.herokuapp.com/)\n",
    "\n",
    "---------------------------------------------------------------------------------------------------------\n",
    "\n",
    "This is all my presentation, thank you so much for your attention.</h4>"
   ]
  },
  {
   "cell_type": "markdown",
   "metadata": {},
   "source": [
    "Dalam project Milestone 2 kali ini saya menggunakan data dari PT. TELCO\n",
    "(Dataset lengkap dapat di unduh di website ini <a href='https://www.kaggle.com/code/ahmedhanymetawaa/churn-eda-predicting-model'>Kaggle</a>)\n",
    "\n",
    "PT. TELCO adalah perusahaan yang bergerak dalam bidang tech, yang melayani berbagai macam jenis layanan seperti akses telfon, internet dan tv cable. pada project ini saya ingin memprediksi customer yang akan memutuskan untuk **churn** atau **tidak churn**.\n",
    "dalam bidang bisnis **churn** adalah **kehilangan pelanggan dari suatu bisnis. Churn dihitung dari berapa banyak pelanggan meninggalkan bisnis dalam waktu tertentu.**\n",
    "\n",
    "<ins>Pada EDA saya melakukan beberapa data visualization dan mengambil kesimpulan dari data customer pada perusahaan ini sebagai berikut:<ins>\n",
    "\n",
    "- persentase 'customer churn' sekitar **26,5% / 1869** dan customer yang tidak atau bertahan masih lumayan banyak **73,5% atau 5174**.\n",
    "- customer berjenis kelamin **MALE** dan **FEMALE** tidak terlalu jauh perbedaan nya dan tidak mempengaruhi target 'churn' karena antara male dan female juga tidak terlalu significant perbedaan nya.\n",
    "- terdapat category 'senior citizen' yang artinya customer yang berusia lanjut. jika kita lihat ada 1142 customer yang masuk category 'senior citizen'. dan lebih banyak customer lanjut usia 'senior citizen' yang memilih 'churn'. kemungkinan karena untuk orang dengan usia lanjut akan berpikir 2x untuk penggunaan technology.\n",
    "- kemudian jika kita lihat ada category 'partner', ini category dimana data customer yang memiliki pasangan sebanyak **3402** sedangkan **3641** customer tidak memiliki pasangan. namun customer yang tidak memiliki pasangan lebih banyak 'churn' dibandingkan dengan yang sudah memiliki pasangan.\n",
    "- karena sebagian customer sudah memiliki 'partner' mungkin ada pertimbangan dengan 'dependants' atau biaya tanggungan. Sebanyak **2110** customer yang memiliki tanggungan dan **4933** customer memiliki tanggungan. Customer yang memiliki tanggungan lebih besar persentase nya untuk 'churn' dibanding yang tidak memiliki tanggungan\n",
    "- Layanan yang disediakan oleh PT. TELCO ada 'phone service' atau layanan telfon, 'multiple lines' atau layanan lengkap (telfon - tv cable - dan langganan internet), sebanyak **6361** customer menggunakan layanan telfon, dan hanya **682** customer yang tidak memiliki layanan telfon. \n",
    "kita lihat juga, ada 2 layanan internet, \n",
    "   - Customer paling banyak menggunakan Fiber Optic untuk layanan internet, sebanyak **3906** customer yang menggunakan fiber optic.\n",
    "   - Customer yang menggunakan layanan DSL juga lumayan banyak **2421** \n",
    "   - Customer yang tidak berlangganan layanan internet sebnayak **1526**\n",
    "Perusahaan ini memiliki layanan internet berlangganan, ada DSL - FIBER OPTIC, jika kita lihat persentase diatas customer yang berlangganan internet FIBER OPTIC lebih besar persentase 'churn' nya jika dibandingkan dengan customer yang tidak berlangganan internet. \n",
    "Hal ini bisa jadi disebabkan jaringan koneksi internet yang lambat membuat pelanggan ingin berhenti dan pindah berlangganan menggunakan perusahaan lain.\n",
    "- sedangkan untuk layanan tv cable berlangganan tidak terlalu berpengaruh terhadap pilihan customer akan **churn** atau **tidak churn**\n",
    "\n",
    "-----------------------------------------------------------------------------------\n",
    "\n",
    "<ins>Saya membuat model Neural Network dengan:<ins>\n",
    "\n",
    " - input layers ada 46 neurons (input layers diambil dari banyak features)\n",
    " - 3 hidden layers dengan 10, 15 dan 5 neuron\n",
    " - menggunakan **ReLU** sebagai activation function \n",
    " - untuk output layer saya menggunakan **Sigmoid** sebagai activation dan 1 neuron karena ini adalah **binary classifiation**\n",
    " - **compile** model menggunakan optimizer **adam** dan **binary crossentropy** sebagai loss function.\n",
    "\n",
    "<ins>Hasil model pertama:<ins>\n",
    "\n",
    "pada model pertama, hasil accuracy model cukup baik, training-set sangat kecil **0.80** dan **0.81** validation set. \n",
    "Pada grafik dapat dilihat bahwa model mengalami overfit karena **training-loss** mengalami decrease sedangkan **validation-nya** increase.\n",
    "\n",
    "\n",
    "<ins>Model Improvement:<ins>\n",
    "\n",
    "Saya membuat model improvement untuk memeriksa apakah hasil model akan lebih baik dari model pertama, dengan\n",
    " - input layers ada 46 neurons (input layers diambil dari banyak features)\n",
    " - menggunakan **dropout** (0.3) sebagai regularisasi\n",
    " - 3 hidden layers dengan 35, 15 dan 10 neuron\n",
    " - menggunakan **elu** sebagai activation function\n",
    " - untuk output layer saya menggunakan **Sigmoid** sebagai activation dan 1 neuron karena ini adalah **binary classification\n",
    " -  **compile** model menggunakan optimizer **nadam** dan **binary crossentropy** sebagai loss function.\n",
    " - menaikan **epoch** menjadi 200\n",
    "\n",
    "\n",
    "<ins>Hasil model improvement:<ins>\n",
    "\n",
    "model menghasilkan loss dan accuracy yang tidak terlalu significant atau jauh berbeda dari model pertama. nilai accuracy pada training-set sebesar **0.82** dan validation-set **0.81**\n",
    "\n",
    "\n",
    "\n",
    " "
   ]
  }
 ],
 "metadata": {
  "interpreter": {
   "hash": "74a5c95dddfe502c417b8be25df9a2b0b624ffe0ac9741929882f409451b42b7"
  },
  "kernelspec": {
   "display_name": "Python 3.9.7 ('base')",
   "language": "python",
   "name": "python3"
  },
  "language_info": {
   "codemirror_mode": {
    "name": "ipython",
    "version": 3
   },
   "file_extension": ".py",
   "mimetype": "text/x-python",
   "name": "python",
   "nbconvert_exporter": "python",
   "pygments_lexer": "ipython3",
   "version": "3.9.7"
  },
  "orig_nbformat": 4
 },
 "nbformat": 4,
 "nbformat_minor": 2
}
